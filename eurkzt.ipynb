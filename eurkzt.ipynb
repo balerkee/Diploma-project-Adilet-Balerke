{
 "cells": [
  {
   "cell_type": "code",
   "execution_count": 9,
   "id": "928432bf",
   "metadata": {},
   "outputs": [
    {
     "name": "stdout",
     "output_type": "stream",
     "text": [
      "3624\n"
     ]
    }
   ],
   "source": [
    "import yfinance as yf\n",
    "import pandas as pd\n",
    "usd_kzt = yf.Ticker(\"EURKZT=X\")\n",
    "hist = usd_kzt.history(start='2008-03-26' ,period=\"max\", interval='1d')\n",
    "hist = hist.drop(['Open', 'High', 'Low', 'Volume', 'Dividends', 'Stock Splits'], axis=1)\n",
    "\n",
    "print(len(hist))\n",
    "\n",
    "hist.to_csv('eur.csv')"
   ]
  }
 ],
 "metadata": {
  "kernelspec": {
   "display_name": "Python 3 (ipykernel)",
   "language": "python",
   "name": "python3"
  },
  "language_info": {
   "codemirror_mode": {
    "name": "ipython",
    "version": 3
   },
   "file_extension": ".py",
   "mimetype": "text/x-python",
   "name": "python",
   "nbconvert_exporter": "python",
   "pygments_lexer": "ipython3",
   "version": "3.9.7"
  }
 },
 "nbformat": 4,
 "nbformat_minor": 5
}