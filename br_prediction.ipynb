{
 "cells": [
  {
   "cell_type": "code",
   "execution_count": 98,
   "id": "429e4cb9",
   "metadata": {},
   "outputs": [
    {
     "name": "stdout",
     "output_type": "stream",
     "text": [
      "Actual=68.580002, Predicted=69.069640\n",
      "Actual=67.620003, Predicted=68.603629\n",
      "Actual=66.860001, Predicted=67.682885\n",
      "Actual=65.510002, Predicted=66.918458\n",
      "Actual=64.809998, Predicted=65.581383\n",
      "Actual=62.790001, Predicted=64.872613\n",
      "Actual=62.590000, Predicted=62.882497\n",
      "Actual=62.720001, Predicted=62.650073\n",
      "Actual=64.360001, Predicted=62.682439\n",
      "Actual=64.330002, Predicted=64.274875\n",
      "Actual=64.839996, Predicted=64.281883\n",
      "Actual=65.250000, Predicted=64.846675\n",
      "Actual=65.419998, Predicted=65.214068\n",
      "Actual=66.389999, Predicted=65.408401\n",
      "Actual=67.309998, Predicted=66.346513\n",
      "Actual=67.500000, Predicted=67.239522\n",
      "Actual=66.629997, Predicted=67.480146\n",
      "Actual=65.779999, Predicted=66.681678\n",
      "Actual=65.709999, Predicted=65.850632\n",
      "Actual=64.370003, Predicted=65.724219\n",
      "Actual=65.540001, Predicted=64.419248\n",
      "Actual=65.790001, Predicted=65.525683\n",
      "Actual=64.339996, Predicted=65.717189\n",
      "Actual=63.610001, Predicted=64.421880\n",
      "Actual=65.489998, Predicted=63.694640\n",
      "Actual=64.949997, Predicted=65.398284\n",
      "Actual=64.639999, Predicted=64.901832\n",
      "Actual=64.889999, Predicted=64.706721\n",
      "Actual=65.120003, Predicted=64.878135\n",
      "Actual=66.209999, Predicted=65.095384\n",
      "Actual=66.050003, Predicted=66.155878\n",
      "Actual=67.419998, Predicted=66.026847\n",
      "Actual=69.470001, Predicted=67.380677\n",
      "Actual=68.910004, Predicted=69.327612\n",
      "Actual=70.449997, Predicted=68.896681\n",
      "Actual=70.120003, Predicted=70.434785\n",
      "Actual=70.110001, Predicted=70.076432\n",
      "Actual=69.529999, Predicted=70.150335\n",
      "Actual=70.269997, Predicted=69.551316\n",
      "Actual=70.139999, Predicted=70.253153\n",
      "Actual=68.019997, Predicted=70.111910\n",
      "Actual=68.330002, Predicted=68.138069\n",
      "Actual=67.110001, Predicted=68.379898\n",
      "Actual=68.650002, Predicted=67.117151\n",
      "Actual=71.040001, Predicted=68.620673\n",
      "Actual=72.059998, Predicted=70.856293\n",
      "Actual=72.019997, Predicted=71.966527\n",
      "Actual=72.580002, Predicted=72.034491\n",
      "Actual=71.419998, Predicted=72.574452\n",
      "Actual=71.580002, Predicted=71.455796\n",
      "Actual=73.480003, Predicted=71.619129\n",
      "Actual=73.779999, Predicted=73.364751\n",
      "Actual=74.059998, Predicted=73.709280\n",
      "Actual=74.709999, Predicted=74.073201\n",
      "Actual=73.860001, Predicted=74.676777\n",
      "Actual=74.000000, Predicted=73.884377\n",
      "Actual=74.739998, Predicted=74.032426\n",
      "Actual=74.639999, Predicted=74.685113\n",
      "Actual=75.169998, Predicted=74.624031\n",
      "Actual=75.169998, Predicted=75.162562\n",
      "Actual=73.360001, Predicted=75.151468\n",
      "Actual=73.620003, Predicted=73.454161\n",
      "Actual=74.870003, Predicted=73.664980\n",
      "Actual=76.169998, Predicted=74.769236\n",
      "Actual=74.849998, Predicted=76.074995\n",
      "Actual=77.209999, Predicted=74.892826\n",
      "Actual=77.470001, Predicted=77.165708\n",
      "Actual=77.120003, Predicted=77.357954\n",
      "Actual=78.230003, Predicted=77.173240\n",
      "Actual=78.430000, Predicted=78.194153\n",
      "Actual=79.279999, Predicted=78.378627\n",
      "Actual=79.300003, Predicted=79.255541\n",
      "Actual=78.510002, Predicted=79.276158\n",
      "Actual=79.220001, Predicted=78.562862\n",
      "Actual=79.570000, Predicted=79.212114\n",
      "Actual=79.800003, Predicted=79.515685\n",
      "Actual=78.790001, Predicted=79.792007\n",
      "Actual=76.440002, Predicted=78.836812\n",
      "Actual=75.389999, Predicted=76.585765\n",
      "Actual=77.500000, Predicted=75.493104\n",
      "Actual=77.589996, Predicted=77.391667\n",
      "Actual=77.589996, Predicted=77.497756\n",
      "Actual=75.290001, Predicted=77.626748\n",
      "Actual=75.379997, Predicted=75.398276\n",
      "Actual=75.360001, Predicted=75.450384\n",
      "Actual=77.320000, Predicted=75.316549\n",
      "Actual=76.459999, Predicted=77.231276\n",
      "Actual=76.459999, Predicted=76.436249\n",
      "Actual=75.879997, Predicted=76.521751\n",
      "Actual=76.739998, Predicted=75.892338\n",
      "Actual=75.940002, Predicted=76.718573\n",
      "Actual=73.440002, Predicted=75.939859\n",
      "Actual=75.339996, Predicted=73.597134\n",
      "Actual=75.080002, Predicted=75.318426\n",
      "Actual=74.739998, Predicted=74.986533\n",
      "Actual=73.050003, Predicted=74.797893\n",
      "Actual=75.550003, Predicted=73.136424\n",
      "Actual=74.730003, Predicted=75.480323\n",
      "Actual=76.309998, Predicted=74.659038\n",
      "Actual=77.620003, Predicted=76.301343\n",
      "Actual=77.849998, Predicted=77.492287\n",
      "Actual=79.440002, Predicted=77.823744\n",
      "Actual=79.410004, Predicted=79.379515\n",
      "Actual=77.760002, Predicted=79.364902\n",
      "Actual=77.389999, Predicted=77.867414\n",
      "Actual=77.110001, Predicted=77.460227\n",
      "Actual=78.070000, Predicted=77.106775\n",
      "Actual=78.860001, Predicted=78.026920\n",
      "Actual=73.400002, Predicted=78.786756\n",
      "Actual=74.449997, Predicted=73.653950\n",
      "Actual=75.330002, Predicted=74.592106\n",
      "Actual=71.839996, Predicted=75.157425\n",
      "Actual=72.160004, Predicted=72.002948\n",
      "Actual=72.900002, Predicted=72.280406\n",
      "Actual=72.580002, Predicted=72.782308\n",
      "Actual=73.070000, Predicted=72.576879\n",
      "Actual=73.059998, Predicted=73.071773\n",
      "Actual=73.440002, Predicted=73.037231\n",
      "Actual=73.930000, Predicted=73.431513\n",
      "Actual=74.540001, Predicted=73.892637\n",
      "Actual=74.290001, Predicted=74.500918\n",
      "Actual=74.970001, Predicted=74.291399\n",
      "Actual=74.250000, Predicted=74.957403\n",
      "Actual=74.250000, Predicted=74.257299\n",
      "Actual=73.449997, Predicted=74.288325\n",
      "Actual=73.209999, Predicted=73.474973\n",
      "Actual=73.750000, Predicted=73.249048\n",
      "Actual=74.650002, Predicted=73.715364\n",
      "Actual=72.279999, Predicted=74.582403\n",
      "Actual=72.070000, Predicted=72.377585\n",
      "Actual=72.809998, Predicted=72.179916\n",
      "Actual=72.610001, Predicted=72.732733\n",
      "Actual=72.459999, Predicted=72.590077\n",
      "Actual=70.760002, Predicted=72.489330\n",
      "Actual=71.430000, Predicted=70.845336\n",
      "Actual=71.830002, Predicted=71.452478\n",
      "Actual=72.209999, Predicted=71.752899\n",
      "Actual=72.629997, Predicted=72.190638\n",
      "Actual=74.779999, Predicted=72.604013\n",
      "Actual=74.730003, Predicted=74.666911\n",
      "Actual=75.820000, Predicted=74.666870\n",
      "Actual=76.209999, Predicted=75.811283\n",
      "Actual=75.949997, Predicted=76.152637\n",
      "Actual=77.139999, Predicted=75.971685\n",
      "Actual=77.769997, Predicted=77.098098\n",
      "Actual=77.419998, Predicted=77.693138\n",
      "Actual=78.169998, Predicted=77.440259\n",
      "Actual=77.269997, Predicted=78.157967\n",
      "Actual=76.500000, Predicted=77.281774\n",
      "Actual=76.830002, Predicted=76.584098\n",
      "Actual=77.370003, Predicted=76.821342\n",
      "Actual=79.059998, Predicted=77.316238\n",
      "Actual=79.739998, Predicted=78.965249\n",
      "Actual=78.180000, Predicted=79.660323\n",
      "Actual=78.089996, Predicted=78.267614\n",
      "Actual=78.050003, Predicted=78.161863\n",
      "Actual=79.029999, Predicted=78.023454\n",
      "Actual=79.400002, Predicted=78.981442\n",
      "Actual=78.699997, Predicted=79.347341\n",
      "Actual=78.800003, Predicted=78.741210\n",
      "Actual=81.199997, Predicted=78.826648\n",
      "Actual=81.870003, Predicted=81.064655\n",
      "Actual=81.339996, Predicted=81.756006\n",
      "Actual=81.720001, Predicted=81.390638\n",
      "Actual=82.720001, Predicted=81.733420\n",
      "Actual=82.669998, Predicted=82.647200\n",
      "Actual=84.800003, Predicted=82.645236\n",
      "Actual=86.290001, Predicted=84.718240\n",
      "Actual=84.580002, Predicted=86.143476\n",
      "Actual=84.160004, Predicted=84.654902\n",
      "Actual=83.910004, Predicted=84.271074\n",
      "Actual=85.000000, Predicted=83.901971\n",
      "Actual=83.089996, Predicted=84.947421\n",
      "Actual=80.260002, Predicted=83.139977\n",
      "Actual=80.430000, Predicted=80.486028\n",
      "Actual=80.779999, Predicted=80.483563\n",
      "Actual=81.410004, Predicted=80.699842\n",
      "Actual=80.050003, Predicted=81.370680\n",
      "Actual=79.290001, Predicted=80.099891\n",
      "Actual=79.779999, Predicted=79.387662\n",
      "Actual=79.830002, Predicted=79.756709\n",
      "Actual=76.440002, Predicted=79.794906\n",
      "Actual=76.169998, Predicted=76.610916\n",
      "Actual=76.889999, Predicted=76.306398\n",
      "Actual=77.620003, Predicted=76.796876\n",
      "Actual=77.339996, Predicted=77.553525\n",
      "Actual=75.910004, Predicted=77.340980\n",
      "Actual=75.470001, Predicted=76.002872\n",
      "Actual=75.500000, Predicted=75.537877\n",
      "Actual=72.830002, Predicted=75.486690\n",
      "Actual=73.169998, Predicted=72.947138\n",
      "Actual=72.129997, Predicted=73.251670\n",
      "Actual=72.070000, Predicted=72.113564\n",
      "Actual=70.650002, Predicted=72.117149\n",
      "Actual=70.180000, Predicted=70.698960\n",
      "Actual=70.120003, Predicted=70.251906\n",
      "Actual=65.470001, Predicted=70.110947\n",
      "Actual=66.120003, Predicted=65.682930\n",
      "Actual=66.620003, Predicted=66.252046\n",
      "Actual=66.760002, Predicted=66.474538\n",
      "Actual=66.790001, Predicted=66.749154\n",
      "Actual=62.529999, Predicted=66.794074\n",
      "Actual=63.480000, Predicted=62.735382\n",
      "Actual=58.799999, Predicted=63.586900\n",
      "Actual=60.480000, Predicted=58.908949\n",
      "Actual=60.209999, Predicted=60.567156\n",
      "Actual=58.759998, Predicted=60.077173\n",
      "Actual=59.509998, Predicted=58.875788\n",
      "Actual=58.709999, Predicted=59.514125\n",
      "Actual=58.689999, Predicted=58.695669\n",
      "Actual=62.080002, Predicted=58.732534\n",
      "Actual=60.060001, Predicted=61.893670\n",
      "Actual=61.669998, Predicted=60.051427\n",
      "Actual=59.970001, Predicted=61.724118\n",
      "Actual=60.200001, Predicted=59.966147\n",
      "Actual=60.150002, Predicted=60.274489\n"
     ]
    },
    {
     "name": "stdout",
     "output_type": "stream",
     "text": [
      "Actual=61.450001, Predicted=60.110729\n",
      "Actual=60.279999, Predicted=61.388517\n",
      "Actual=59.610001, Predicted=60.299219\n",
      "Actual=56.259998, Predicted=59.707914\n",
      "Actual=57.240002, Predicted=56.431651\n",
      "Actual=54.349998, Predicted=57.280277\n",
      "Actual=53.820000, Predicted=54.407272\n",
      "Actual=50.470001, Predicted=53.953092\n",
      "Actual=54.470001, Predicted=50.602844\n",
      "Actual=52.160000, Predicted=54.341089\n",
      "Actual=52.200001, Predicted=52.116731\n",
      "Actual=52.279999, Predicted=52.333070\n",
      "Actual=54.910000, Predicted=52.233322\n",
      "Actual=55.950001, Predicted=54.763283\n",
      "Actual=57.060001, Predicted=55.821747\n",
      "Actual=57.330002, Predicted=57.015884\n",
      "Actual=58.720001, Predicted=57.303015\n",
      "Actual=61.439999, Predicted=58.656395\n",
      "Actual=61.680000, Predicted=61.261431\n",
      "Actual=60.480000, Predicted=61.619659\n",
      "Actual=58.990002, Predicted=60.585733\n",
      "Actual=60.639999, Predicted=59.106213\n",
      "Actual=61.320000, Predicted=60.571744\n",
      "Actual=61.180000, Predicted=61.212984\n",
      "Actual=62.700001, Predicted=61.196529\n",
      "Actual=61.500000, Predicted=62.634030\n",
      "Actual=61.139999, Predicted=61.520612\n",
      "Actual=61.090000, Predicted=61.218339\n",
      "Actual=61.639999, Predicted=61.082098\n",
      "Actual=59.930000, Predicted=61.605666\n",
      "Actual=61.320000, Predicted=60.006289\n",
      "Actual=61.650002, Predicted=61.300778\n",
      "Actual=61.889999, Predicted=61.564729\n",
      "Actual=61.869999, Predicted=61.891554\n",
      "Actual=62.509998, Predicted=61.870106\n",
      "Actual=61.980000, Predicted=62.479944\n",
      "Actual=62.689999, Predicted=61.990873\n",
      "Actual=61.630001, Predicted=62.676815\n",
      "Actual=62.099998, Predicted=61.659354\n",
      "Actual=61.509998, Predicted=62.115229\n",
      "Actual=62.419998, Predicted=61.511592\n",
      "Actual=63.610001, Predicted=62.394134\n",
      "Actual=64.570000, Predicted=63.510619\n",
      "Actual=66.250000, Predicted=64.500934\n",
      "Actual=66.449997, Predicted=66.153853\n",
      "Actual=67.080002, Predicted=66.410757\n",
      "Actual=67.070000, Predicted=67.069483\n",
      "Actual=67.120003, Predicted=67.057278\n",
      "Actual=64.760002, Predicted=67.128341\n",
      "Actual=65.209999, Predicted=64.885666\n",
      "Actual=66.389999, Predicted=65.249040\n",
      "Actual=66.029999, Predicted=66.274484\n",
      "Actual=66.010002, Predicted=66.025325\n",
      "Actual=65.669998, Predicted=66.040746\n",
      "Actual=65.860001, Predicted=65.682814\n",
      "Actual=65.989998, Predicted=65.858543\n",
      "Actual=66.300003, Predicted=65.972139\n",
      "Actual=65.739998, Predicted=66.282977\n",
      "Actual=66.580002, Predicted=65.764093\n",
      "Actual=66.669998, Predicted=66.554843\n",
      "Actual=67.550003, Predicted=66.633134\n",
      "Actual=67.230003, Predicted=67.514138\n",
      "Actual=67.160004, Predicted=67.225268\n",
      "Actual=67.540001, Predicted=67.187089\n",
      "Actual=67.610001, Predicted=67.515954\n",
      "Actual=68.500000, Predicted=67.594864\n",
      "Actual=67.860001, Predicted=68.456391\n",
      "Actual=67.029999, Predicted=67.872021\n",
      "Actual=67.209999, Predicted=67.106947\n",
      "Actual=67.970001, Predicted=67.211843\n",
      "Actual=67.830002, Predicted=67.910226\n",
      "Actual=67.820000, Predicted=67.820087\n",
      "Actual=68.389999, Predicted=67.836988\n",
      "Actual=68.349998, Predicted=68.357103\n",
      "Actual=69.370003, Predicted=68.336624\n",
      "Actual=69.309998, Predicted=69.325461\n",
      "Actual=69.400002, Predicted=69.285157\n",
      "Actual=70.339996, Predicted=69.413820\n",
      "Actual=71.099998, Predicted=70.285746\n",
      "Actual=70.610001, Predicted=71.035281\n",
      "Actual=71.730003, Predicted=70.631865\n",
      "Actual=70.830002, Predicted=71.695502\n",
      "Actual=71.550003, Predicted=70.840563\n",
      "Actual=71.180000, Predicted=71.553766\n",
      "Actual=71.720001, Predicted=71.165836\n",
      "Actual=71.620003, Predicted=71.712512\n",
      "Actual=71.970001, Predicted=71.604928\n",
      "Actual=74.040001, Predicted=71.962645\n",
      "Actual=74.510002, Predicted=73.916695\n",
      "Actual=74.570000, Predicted=74.435703\n",
      "Actual=74.349998, Predicted=74.589300\n",
      "Actual=72.150002, Predicted=74.368214\n",
      "Actual=72.040001, Predicted=72.275658\n",
      "Actual=72.800003, Predicted=72.100475\n",
      "Actual=72.790001, Predicted=72.725342\n",
      "Actual=70.750000, Predicted=72.768430\n",
      "Actual=70.849998, Predicted=70.872996\n",
      "Actual=71.239998, Predicted=70.899337\n",
      "Actual=69.879997, Predicted=71.182346\n",
      "Actual=70.370003, Predicted=69.944634\n",
      "Actual=70.389999, Predicted=70.386840\n",
      "Actual=70.620003, Predicted=70.352551\n",
      "Actual=70.230003, Predicted=70.615330\n",
      "Actual=71.239998, Predicted=70.245243\n",
      "Actual=71.769997, Predicted=71.199688\n",
      "Actual=72.620003, Predicted=71.707466\n",
      "Actual=72.209999, Predicted=72.576945\n",
      "Actual=71.970001, Predicted=72.218253\n",
      "Actual=72.180000, Predicted=72.008316\n",
      "Actual=70.989998, Predicted=72.168198\n",
      "Actual=67.760002, Predicted=71.044658\n",
      "Actual=68.690002, Predicted=67.968503\n",
      "Actual=70.110001, Predicted=68.707080\n",
      "Actual=69.449997, Predicted=69.953701\n",
      "Actual=66.870003, Predicted=69.461850\n",
      "Actual=64.489998, Predicted=67.050658\n",
      "Actual=64.449997, Predicted=64.677092\n",
      "Actual=61.970001, Predicted=64.476988\n",
      "Actual=60.630001, Predicted=62.060343\n",
      "Actual=61.669998, Predicted=60.765867\n",
      "Actual=63.290001, Predicted=61.608635\n",
      "Actual=62.290001, Predicted=63.154274\n",
      "Actual=62.290001, Predicted=62.314922\n",
      "Actual=59.970001, Predicted=62.345679\n",
      "Actual=61.310001, Predicted=60.074256\n",
      "Actual=62.009998, Predicted=61.303510\n",
      "Actual=60.939999, Predicted=61.897936\n",
      "Actual=62.139999, Predicted=60.999070\n",
      "Actual=61.820000, Predicted=62.118459\n",
      "Actual=64.449997, Predicted=61.785383\n",
      "Actual=65.199997, Predicted=64.339660\n",
      "Actual=64.860001, Predicted=65.083291\n",
      "Actual=65.050003, Predicted=64.901243\n",
      "Actual=66.489998, Predicted=65.061932\n",
      "Actual=66.550003, Predicted=66.403420\n",
      "Actual=66.550003, Predicted=66.510483\n",
      "Actual=66.500000, Predicted=66.572727\n",
      "Actual=62.400002, Predicted=66.503638\n",
      "Actual=63.820000, Predicted=62.616372\n",
      "Actual=64.230003, Predicted=63.856556\n",
      "Actual=64.110001, Predicted=64.099776\n",
      "Actual=64.160004, Predicted=64.128903\n",
      "Actual=67.010002, Predicted=64.167584\n",
      "Actual=66.519997, Predicted=66.855330\n",
      "Actual=66.720001, Predicted=66.467702\n",
      "Actual=66.480003, Predicted=66.771430\n",
      "Actual=64.349998, Predicted=66.478962\n",
      "Actual=63.660000, Predicted=64.473281\n",
      "Actual=61.930000, Predicted=63.751387\n",
      "Actual=62.470001, Predicted=62.003363\n",
      "Actual=63.259998, Predicted=62.476771\n",
      "Actual=63.830002, Predicted=63.174306\n",
      "Actual=63.180000, Predicted=63.787422\n",
      "Actual=63.389999, Predicted=63.211849\n",
      "Actual=63.459999, Predicted=63.406240\n",
      "Actual=63.709999, Predicted=63.439694\n",
      "Actual=64.720001, Predicted=63.698397\n",
      "Actual=65.169998, Predicted=64.661085\n",
      "Actual=65.190002, Predicted=65.122874\n",
      "Actual=61.889999, Predicted=65.193546\n",
      "Actual=59.810001, Predicted=62.070570\n",
      "Actual=58.939999, Predicted=60.008501\n",
      "Actual=56.230000, Predicted=58.987462\n",
      "Actual=57.380001, Predicted=56.353996\n",
      "Actual=58.529999, Predicted=57.377264\n",
      "Actual=58.570000, Predicted=58.394406\n",
      "Actual=61.299999, Predicted=58.556788\n",
      "Actual=59.480000, Predicted=61.179789\n",
      "Actual=58.230000, Predicted=59.503055\n",
      "Actual=58.639999, Predicted=58.389598\n",
      "Actual=59.740002, Predicted=58.621100\n",
      "Actual=60.029999, Predicted=59.651290\n",
      "Actual=60.299999, Predicted=59.992334\n",
      "Actual=59.919998, Predicted=60.296889\n",
      "Actual=59.340000, Predicted=59.937088\n",
      "Actual=58.700001, Predicted=59.384524\n",
      "Actual=59.509998, Predicted=58.742041\n",
      "Actual=60.490002, Predicted=59.476052\n",
      "Actual=61.080002, Predicted=60.407249\n",
      "Actual=60.430000, Predicted=61.036794\n",
      "Actual=58.259998, Predicted=60.463402\n",
      "Actual=60.700001, Predicted=58.397865\n",
      "Actual=60.950001, Predicted=60.623080\n",
      "Actual=61.540001, Predicted=60.834250\n",
      "Actual=62.590000, Predicted=61.542026\n",
      "Actual=62.380001, Predicted=62.523972\n",
      "Actual=60.810001, Predicted=62.371787\n",
      "Actual=60.380001, Predicted=60.913679\n",
      "Actual=60.220001, Predicted=60.441967\n",
      "Actual=69.019997, Predicted=60.214528\n",
      "Actual=64.550003, Predicted=68.564501\n",
      "Actual=63.599998, Predicted=64.551112\n",
      "Actual=64.400002, Predicted=63.911212\n",
      "Actual=64.279999, Predicted=64.316736\n",
      "Actual=64.769997, Predicted=64.248714\n",
      "Actual=63.099998, Predicted=64.757962\n",
      "Actual=62.389999, Predicted=63.177599\n",
      "Actual=62.740002, Predicted=62.486702\n",
      "Actual=61.910000, Predicted=62.716974\n",
      "Actual=60.779999, Predicted=61.935587\n",
      "Actual=60.750000, Predicted=60.873227\n",
      "Actual=57.689999, Predicted=60.772840\n",
      "Actual=57.709999, Predicted=57.844542\n",
      "Actual=58.369999, Predicted=57.797887\n",
      "Actual=58.349998, Predicted=58.285369\n",
      "Actual=58.240002, Predicted=58.331962\n",
      "Actual=58.320000, Predicted=58.256891\n",
      "Actual=59.099998, Predicted=58.318468\n",
      "Actual=60.509998, Predicted=59.052383\n",
      "Actual=59.349998, Predicted=60.409711\n",
      "Actual=58.740002, Predicted=59.385068\n",
      "Actual=59.419998, Predicted=58.830079\n",
      "Actual=59.910000, Predicted=59.382364\n",
      "Actual=59.419998, Predicted=59.853000\n",
      "Actual=58.959999, Predicted=59.443127\n",
      "Actual=59.700001, Predicted=59.007843\n",
      "Actual=61.169998, Predicted=59.664952\n"
     ]
    },
    {
     "name": "stdout",
     "output_type": "stream",
     "text": [
      "Actual=61.669998, Predicted=61.058820\n",
      "Actual=62.020000, Predicted=61.609302\n",
      "Actual=61.570000, Predicted=62.007988\n",
      "Actual=61.590000, Predicted=61.592091\n",
      "Actual=60.610001, Predicted=61.607679\n",
      "Actual=60.230000, Predicted=60.657075\n",
      "Actual=60.209999, Predicted=60.280714\n",
      "Actual=62.130001, Predicted=60.207646\n",
      "Actual=62.959999, Predicted=62.018330\n",
      "Actual=61.740002, Predicted=62.856196\n",
      "Actual=62.290001, Predicted=61.810865\n",
      "Actual=62.509998, Predicted=62.308785\n",
      "Actual=62.180000, Predicted=62.462890\n",
      "Actual=62.060001, Predicted=62.199893\n",
      "Actual=62.369999, Predicted=62.079963\n",
      "Actual=62.279999, Predicted=62.351487\n",
      "Actual=63.299999, Predicted=62.273791\n",
      "Actual=62.439999, Predicted=63.250748\n",
      "Actual=60.910000, Predicted=62.455601\n",
      "Actual=62.400002, Predicted=61.036326\n",
      "Actual=63.970001, Predicted=62.350844\n",
      "Actual=63.389999, Predicted=63.813920\n",
      "Actual=63.650002, Predicted=63.395747\n",
      "Actual=64.269997, Predicted=63.677219\n",
      "Actual=64.059998, Predicted=64.218676\n",
      "Actual=62.430000, Predicted=64.056340\n",
      "Actual=62.400002, Predicted=62.536413\n",
      "Actual=60.820000, Predicted=62.449386\n",
      "Actual=63.000000, Predicted=60.883742\n",
      "Actual=63.389999, Predicted=62.926480\n",
      "Actual=64.389999, Predicted=63.277426\n",
      "Actual=64.250000, Predicted=64.353867\n",
      "Actual=64.339996, Predicted=64.232750\n",
      "Actual=63.720001, Predicted=64.353719\n",
      "Actual=64.199997, Predicted=63.749793\n",
      "Actual=65.220001, Predicted=64.193520\n",
      "Actual=65.339996, Predicted=65.139510\n",
      "Actual=66.099998, Predicted=65.308854\n",
      "Actual=66.169998, Predicted=66.068707\n",
      "Actual=66.540001, Predicted=66.144570\n",
      "Actual=66.139999, Predicted=66.528234\n",
      "Actual=66.389999, Predicted=66.151963\n",
      "Actual=67.199997, Predicted=66.393625\n",
      "Actual=67.919998, Predicted=67.141493\n",
      "Actual=68.160004, Predicted=67.858822\n",
      "Actual=68.440002, Predicted=68.136353\n",
      "Actual=68.379997, Predicted=68.427530\n",
      "Actual=66.250000, Predicted=68.378252\n",
      "Actual=68.599998, Predicted=66.374101\n",
      "Actual=68.910004, Predicted=68.532382\n",
      "Actual=68.269997, Predicted=68.789658\n",
      "Actual=65.440002, Predicted=68.330529\n",
      "Actual=65.370003, Predicted=65.622211\n",
      "Actual=64.980003, Predicted=65.453073\n",
      "Actual=64.199997, Predicted=64.965259\n",
      "Actual=64.489998, Predicted=64.254488\n",
      "Actual=64.000000, Predicted=64.492456\n",
      "Actual=64.620003, Predicted=64.007472\n",
      "Actual=64.849998, Predicted=64.604534\n",
      "Actual=64.589996, Predicted=64.811259\n",
      "Actual=63.209999, Predicted=64.606056\n",
      "Actual=62.040001, Predicted=63.298100\n",
      "Actual=60.689999, Predicted=62.143830\n",
      "Actual=59.320000, Predicted=60.781102\n",
      "Actual=59.509998, Predicted=59.419479\n",
      "Actual=59.810001, Predicted=59.521891\n",
      "Actual=58.290001, Predicted=59.768446\n",
      "Actual=58.160000, Predicted=58.367228\n",
      "Actual=58.200001, Predicted=58.217574\n",
      "Actual=53.959999, Predicted=58.179901\n",
      "Actual=55.279999, Predicted=54.189773\n",
      "Actual=54.930000, Predicted=55.335458\n",
      "Actual=54.470001, Predicted=54.845243\n",
      "Actual=53.270000, Predicted=54.526521\n",
      "Actual=54.009998, Predicted=53.345137\n",
      "Actual=55.790001, Predicted=53.997886\n",
      "Actual=56.340000, Predicted=55.650655\n",
      "Actual=57.320000, Predicted=56.266738\n",
      "Actual=57.750000, Predicted=57.276227\n",
      "Actual=59.119999, Predicted=57.705282\n",
      "Actual=59.310001, Predicted=59.046792\n",
      "Actual=58.500000, Predicted=59.265418\n",
      "Actual=56.299999, Predicted=58.559890\n",
      "Actual=54.950001, Predicted=56.447661\n",
      "Actual=53.430000, Predicted=55.076790\n",
      "Actual=52.180000, Predicted=53.518319\n",
      "Actual=50.520000, Predicted=52.270133\n",
      "Actual=50.480000, Predicted=50.620084\n",
      "Actual=51.860001, Predicted=50.509558\n",
      "Actual=51.130001, Predicted=51.761528\n",
      "Actual=49.990002, Predicted=51.128612\n",
      "Actual=45.270000, Predicted=50.093847\n",
      "Actual=34.360001, Predicted=45.539911\n",
      "Actual=37.220001, Predicted=34.958303\n",
      "Actual=35.790001, Predicted=37.311579\n",
      "Actual=33.220001, Predicted=35.601937\n",
      "Actual=33.849998, Predicted=33.440987\n",
      "Actual=30.049999, Predicted=33.858048\n",
      "Actual=28.730000, Predicted=30.165094\n",
      "Actual=24.879999, Predicted=28.903246\n",
      "Actual=28.469999, Predicted=25.010518\n",
      "Actual=26.980000, Predicted=28.359204\n",
      "Actual=27.030001, Predicted=26.893588\n",
      "Actual=27.150000, Predicted=27.133874\n",
      "Actual=27.389999, Predicted=27.113023\n",
      "Actual=26.340000, Predicted=27.376245\n",
      "Actual=24.930000, Predicted=26.389244\n",
      "Actual=22.760000, Predicted=25.029271\n",
      "Actual=22.740000, Predicted=22.878299\n",
      "Actual=22.760000, Predicted=22.762511\n",
      "Actual=29.940001, Predicted=22.716265\n",
      "Actual=34.110001, Predicted=29.585524\n",
      "Actual=33.049999, Predicted=33.759753\n",
      "Actual=31.870001, Predicted=33.128349\n",
      "Actual=32.840000, Predicted=32.018246\n",
      "Actual=31.480000, Predicted=32.806625\n",
      "Actual=31.740000, Predicted=31.498150\n",
      "Actual=29.600000, Predicted=31.777582\n",
      "Actual=27.690001, Predicted=29.668387\n",
      "Actual=27.820000, Predicted=27.831257\n",
      "Actual=28.080000, Predicted=27.822381\n",
      "Actual=25.570000, Predicted=28.032280\n",
      "Actual=19.330000, Predicted=25.679339\n",
      "Actual=20.370001, Predicted=19.662932\n",
      "Actual=21.330000, Predicted=20.430936\n",
      "Actual=21.440001, Predicted=21.153355\n",
      "Actual=19.990000, Predicted=21.429223\n",
      "Actual=20.459999, Predicted=20.066656\n",
      "Actual=22.540001, Predicted=20.477783\n",
      "Actual=25.270000, Predicted=22.412845\n",
      "Actual=25.290001, Predicted=25.108640\n",
      "Actual=27.200001, Predicted=25.254717\n",
      "Actual=30.969999, Predicted=27.165008\n",
      "Actual=29.719999, Predicted=30.767031\n",
      "Actual=29.459999, Predicted=29.714904\n",
      "Actual=30.969999, Predicted=29.571501\n",
      "Actual=29.629999, Predicted=30.889008\n",
      "Actual=29.980000, Predicted=29.644004\n",
      "Actual=29.190001, Predicted=30.027723\n",
      "Actual=31.129999, Predicted=29.189185\n",
      "Actual=32.500000, Predicted=31.073360\n",
      "Actual=34.810001, Predicted=32.378945\n",
      "Actual=34.650002, Predicted=34.716415\n",
      "Actual=35.750000, Predicted=34.626292\n",
      "Actual=36.060001, Predicted=35.751363\n",
      "Actual=35.130001, Predicted=36.017741\n",
      "Actual=36.169998, Predicted=35.182357\n",
      "Actual=34.740002, Predicted=36.154564\n",
      "Actual=35.290001, Predicted=34.757804\n",
      "Actual=35.330002, Predicted=35.320461\n",
      "Actual=35.320000, Predicted=35.288086\n",
      "Actual=39.570000, Predicted=35.329920\n",
      "Actual=39.790001, Predicted=39.391437\n",
      "Actual=39.990002, Predicted=39.679873\n",
      "Actual=42.299999, Predicted=40.058519\n",
      "Actual=40.799999, Predicted=42.203006\n",
      "Actual=41.180000, Predicted=40.813449\n",
      "Actual=41.730000, Predicted=41.246326\n",
      "Actual=38.549999, Predicted=41.666768\n",
      "Actual=38.730000, Predicted=38.680619\n",
      "Actual=39.720001, Predicted=38.808978\n",
      "Actual=40.959999, Predicted=39.605676\n",
      "Actual=40.709999, Predicted=40.887395\n",
      "Actual=41.509998, Predicted=40.711473\n",
      "Actual=42.189999, Predicted=41.507826\n",
      "Actual=43.080002, Predicted=42.136828\n",
      "Actual=42.630001, Predicted=43.042938\n",
      "Actual=40.310001, Predicted=42.642140\n",
      "Actual=41.049999, Predicted=40.437329\n",
      "Actual=41.020000, Predicted=41.065126\n",
      "Actual=41.709999, Predicted=40.955284\n",
      "Actual=41.150002, Predicted=41.696612\n",
      "Actual=41.130001, Predicted=41.156628\n",
      "Actual=43.139999, Predicted=41.158436\n",
      "Actual=43.099998, Predicted=43.043432\n",
      "Actual=43.080002, Predicted=43.052731\n",
      "Actual=43.290001, Predicted=43.123331\n",
      "Actual=42.349998, Predicted=43.280728\n",
      "Actual=43.240002, Predicted=42.384500\n",
      "Actual=42.720001, Predicted=43.229076\n",
      "Actual=42.900002, Predicted=42.701340\n",
      "Actual=43.790001, Predicted=42.923206\n",
      "Actual=43.369999, Predicted=43.736871\n",
      "Actual=43.139999, Predicted=43.370231\n",
      "Actual=43.279999, Predicted=43.178455\n",
      "Actual=44.320000, Predicted=43.270838\n",
      "Actual=44.290001, Predicted=44.267429\n",
      "Actual=43.310001, Predicted=44.269043\n",
      "Actual=43.340000, Predicted=43.374120\n",
      "Actual=43.410000, Predicted=43.361917\n",
      "Actual=43.220001, Predicted=43.385994\n",
      "Actual=43.750000, Predicted=43.227035\n",
      "Actual=42.939999, Predicted=43.733428\n",
      "Actual=43.299999, Predicted=42.957835\n",
      "Actual=43.259998, Predicted=43.315221\n",
      "Actual=44.430000, Predicted=43.236205\n",
      "Actual=45.169998, Predicted=44.388281\n",
      "Actual=45.090000, Predicted=45.109252\n",
      "Actual=44.400002, Predicted=45.099625\n",
      "Actual=44.990002, Predicted=44.446584\n",
      "Actual=44.500000, Predicted=44.979897\n",
      "Actual=45.430000, Predicted=44.492465\n",
      "Actual=44.959999, Predicted=45.414095\n",
      "Actual=44.799999, Predicted=44.947673\n",
      "Actual=45.369999, Predicted=44.837250\n",
      "Actual=45.459999, Predicted=45.339775\n",
      "Actual=45.369999, Predicted=45.439059\n",
      "Actual=44.900002, Predicted=45.383374\n",
      "Actual=44.349998, Predicted=44.924180\n",
      "Actual=45.130001, Predicted=44.383102\n",
      "Actual=45.860001, Predicted=45.100260\n",
      "Actual=45.639999, Predicted=45.798541\n",
      "Actual=45.090000, Predicted=45.647597\n",
      "Actual=45.049999, Predicted=45.133792\n",
      "Actual=45.099998, Predicted=45.060643\n",
      "Actual=44.430000, Predicted=45.087636\n",
      "Actual=44.070000, Predicted=44.456663\n"
     ]
    },
    {
     "name": "stdout",
     "output_type": "stream",
     "text": [
      "Actual=42.660000, Predicted=44.102762\n",
      "Actual=39.779999, Predicted=42.715302\n",
      "Actual=40.790001, Predicted=39.927964\n",
      "Actual=40.060001, Predicted=40.787837\n",
      "Actual=39.830002, Predicted=40.007056\n",
      "Actual=39.610001, Predicted=39.878354\n",
      "Actual=40.529999, Predicted=39.609693\n",
      "Actual=42.220001, Predicted=40.491334\n",
      "Actual=43.299999, Predicted=42.121699\n",
      "Actual=43.150002, Predicted=43.233111\n",
      "Actual=41.439999, Predicted=43.165357\n",
      "Actual=41.720001, Predicted=41.537511\n",
      "Actual=41.770000, Predicted=41.746502\n",
      "Actual=41.939999, Predicted=41.726467\n",
      "Actual=41.919998, Predicted=41.937284\n",
      "Actual=42.430000, Predicted=41.917742\n",
      "Actual=41.029999, Predicted=42.412420\n",
      "Actual=40.950001, Predicted=41.076422\n",
      "Actual=40.959999, Predicted=40.997522\n",
      "Actual=39.270000, Predicted=40.933249\n",
      "Actual=41.290001, Predicted=39.339477\n",
      "Actual=42.650002, Predicted=41.244871\n",
      "Actual=41.990002, Predicted=42.508519\n",
      "Actual=43.340000, Predicted=42.026083\n",
      "Actual=42.849998, Predicted=43.327155\n",
      "Actual=41.720001, Predicted=42.824294\n",
      "Actual=42.450001, Predicted=41.808274\n",
      "Actual=43.320000, Predicted=42.436325\n",
      "Actual=43.160000, Predicted=43.241309\n",
      "Actual=42.930000, Predicted=43.160656\n",
      "Actual=42.619999, Predicted=42.961965\n",
      "Actual=43.160000, Predicted=42.635512\n",
      "Actual=41.730000, Predicted=43.139880\n",
      "Actual=42.459999, Predicted=41.771161\n",
      "Actual=41.770000, Predicted=42.475275\n",
      "Actual=40.459999, Predicted=41.751825\n",
      "Actual=41.200001, Predicted=40.548327\n",
      "Actual=39.119999, Predicted=41.186006\n",
      "Actual=37.650002, Predicted=39.163466\n",
      "Actual=37.459999, Predicted=37.779403\n",
      "Actual=37.459999, Predicted=37.458924\n",
      "Actual=39.709999, Predicted=37.432874\n",
      "Actual=41.230000, Predicted=39.610265\n",
      "Actual=40.930000, Predicted=41.111181\n",
      "Actual=39.450001, Predicted=40.953021\n",
      "Actual=42.400002, Predicted=39.551128\n",
      "Actual=43.610001, Predicted=42.304742\n",
      "Actual=43.799999, Predicted=43.453660\n",
      "Actual=43.529999, Predicted=43.824089\n",
      "Actual=42.779999, Predicted=43.562017\n",
      "Actual=43.820000, Predicted=42.822266\n",
      "Actual=43.750000, Predicted=43.789329\n",
      "Actual=44.340000, Predicted=43.711199\n",
      "Actual=44.200001, Predicted=44.338552\n",
      "Actual=44.959999, Predicted=44.189702\n",
      "Actual=46.060001, Predicted=44.943715\n",
      "Actual=47.860001, Predicted=45.991838\n",
      "Actual=48.610001, Predicted=47.773411\n",
      "Actual=48.180000, Predicted=48.557562\n",
      "Actual=47.590000, Predicted=48.217027\n",
      "Actual=47.610001, Predicted=47.640784\n",
      "Actual=48.250000, Predicted=47.614855\n",
      "Actual=48.709999, Predicted=48.210642\n",
      "Actual=49.250000, Predicted=48.675404\n",
      "Actual=48.790001, Predicted=49.229424\n",
      "Actual=48.840000, Predicted=48.805231\n",
      "Actual=48.860001, Predicted=48.860490\n",
      "Actual=50.250000, Predicted=48.848424\n",
      "Actual=49.970001, Predicted=50.192758\n",
      "Actual=50.290001, Predicted=49.947591\n",
      "Actual=50.759998, Predicted=50.312221\n",
      "Actual=51.080002, Predicted=50.726743\n",
      "Actual=51.500000, Predicted=51.061681\n",
      "Actual=52.259998, Predicted=51.484357\n",
      "Actual=50.910000, Predicted=52.224721\n",
      "Actual=50.080002, Predicted=50.956083\n",
      "Actual=51.200001, Predicted=50.163630\n",
      "Actual=51.290001, Predicted=51.146208\n",
      "Actual=50.860001, Predicted=51.241063\n",
      "Actual=51.090000, Predicted=50.898832\n",
      "Actual=51.340000, Predicted=51.093082\n",
      "Actual=51.090000, Predicted=51.314908\n",
      "Actual=53.599998, Predicted=51.098902\n",
      "Actual=54.299999, Predicted=53.506840\n",
      "Actual=54.380001, Predicted=54.202955\n",
      "Actual=55.990002, Predicted=54.411571\n",
      "Actual=55.660000, Predicted=55.936373\n",
      "Actual=56.580002, Predicted=55.635427\n",
      "Actual=56.060001, Predicted=56.584387\n",
      "Actual=56.419998, Predicted=56.051942\n",
      "Actual=55.099998, Predicted=56.437360\n",
      "Actual=55.900002, Predicted=55.135145\n",
      "Actual=56.080002, Predicted=55.906463\n",
      "Actual=56.099998, Predicted=56.025126\n",
      "Actual=55.410000, Predicted=56.111584\n",
      "Actual=55.880001, Predicted=55.442074\n",
      "Actual=55.910000, Predicted=55.877693\n",
      "Actual=55.810001, Predicted=55.882765\n",
      "Actual=55.529999, Predicted=55.823301\n",
      "Actual=55.880001, Predicted=55.544771\n",
      "Actual=55.880001, Predicted=55.870147\n",
      "Actual=57.459999, Predicted=55.865554\n",
      "Actual=58.459999, Predicted=57.401317\n",
      "Actual=58.840000, Predicted=58.379847\n",
      "Actual=59.340000, Predicted=58.833019\n",
      "Actual=60.560001, Predicted=59.331118\n",
      "Actual=61.090000, Predicted=60.505495\n",
      "Actual=61.470001, Predicted=61.049290\n",
      "Actual=61.139999, Predicted=61.467542\n",
      "Actual=62.430000, Predicted=61.155715\n",
      "Actual=63.349998, Predicted=62.392740\n",
      "Actual=64.339996, Predicted=63.274022\n",
      "Actual=63.930000, Predicted=64.304931\n",
      "Actual=62.910000, Predicted=63.942714\n",
      "Actual=65.239998, Predicted=62.982663\n",
      "Actual=65.370003, Predicted=65.159605\n",
      "Actual=67.040001, Predicted=65.286356\n",
      "Actual=66.879997, Predicted=67.017502\n",
      "Actual=66.129997, Predicted=66.849753\n",
      "Actual=65.949997, Predicted=66.200065\n",
      "Actual=62.700001, Predicted=65.971936\n",
      "Actual=64.070000, Predicted=62.822017\n",
      "Actual=66.739998, Predicted=64.085833\n",
      "Actual=69.360001, Predicted=66.528005\n",
      "Actual=68.239998, Predicted=69.217023\n",
      "Actual=67.519997, Predicted=68.273548\n",
      "Actual=67.900002, Predicted=67.627672\n",
      "Actual=69.629997, Predicted=67.880705\n",
      "Actual=69.220001, Predicted=69.536645\n",
      "Actual=68.879997, Predicted=69.200622\n",
      "Actual=68.389999, Predicted=68.937282\n",
      "Actual=68.000000, Predicted=68.410557\n",
      "Actual=63.279999, Predicted=68.021575\n",
      "Actual=64.529999, Predicted=63.470083\n",
      "Actual=64.620003, Predicted=64.588575\n",
      "Actual=60.790001, Predicted=64.494468\n",
      "Actual=64.410004, Predicted=60.971102\n",
      "Actual=61.950001, Predicted=64.355068\n",
      "Actual=64.570000, Predicted=61.885519\n",
      "Actual=64.980003, Predicted=64.585228\n",
      "Actual=64.139999, Predicted=64.849799\n",
      "Actual=63.540001, Predicted=64.222796\n",
      "Actual=63.599998, Predicted=63.594808\n",
      "Actual=62.150002, Predicted=63.593926\n",
      "Actual=62.740002, Predicted=62.200193\n",
      "Actual=63.160000, Predicted=62.748941\n",
      "Actual=63.200001, Predicted=63.097188\n",
      "Actual=62.950001, Predicted=63.200738\n",
      "Actual=63.279999, Predicted=62.968928\n",
      "Actual=63.669998, Predicted=63.272060\n",
      "Actual=66.580002, Predicted=63.639743\n",
      "Actual=66.940002, Predicted=66.449223\n",
      "Actual=66.769997, Predicted=66.864548\n",
      "Actual=67.050003, Predicted=66.829785\n",
      "Actual=66.570000, Predicted=67.049182\n",
      "Actual=65.320000, Predicted=66.581051\n",
      "Actual=65.400002, Predicted=65.392000\n",
      "Actual=66.110001, Predicted=65.415602\n",
      "Actual=65.650002, Predicted=66.050797\n",
      "Actual=66.419998, Predicted=65.655260\n",
      "Actual=67.269997, Predicted=66.411747\n",
      "Actual=68.559998, Predicted=67.204927\n",
      "Actual=67.250000, Predicted=68.499865\n",
      "Actual=67.290001, Predicted=67.295125\n",
      "Actual=68.959999, Predicted=67.345841\n",
      "Actual=68.089996, Predicted=68.857933\n",
      "Actual=68.279999, Predicted=68.089680\n",
      "Actual=68.320000, Predicted=68.327635\n",
      "Actual=68.550003, Predicted=68.295273\n",
      "Actual=69.320000, Predicted=68.542923\n",
      "Actual=67.050003, Predicted=69.281409\n",
      "Actual=68.709999, Predicted=67.137339\n",
      "Actual=69.459999, Predicted=68.705507\n",
      "Actual=68.709999, Predicted=69.338633\n",
      "Actual=66.660004, Predicted=68.761253\n",
      "Actual=65.110001, Predicted=66.785207\n",
      "Actual=66.440002, Predicted=65.211835\n",
      "Actual=68.459999, Predicted=66.376108\n",
      "Actual=68.650002, Predicted=68.306824\n",
      "Actual=68.870003, Predicted=68.618630\n",
      "Actual=69.459999, Predicted=68.896439\n",
      "Actual=69.629997, Predicted=69.432536\n",
      "Actual=69.629997, Predicted=69.612513\n",
      "Actual=71.349998, Predicted=69.637821\n",
      "Actual=71.309998, Predicted=71.277946\n",
      "Actual=71.889999, Predicted=71.269580\n",
      "Actual=71.489998, Predicted=71.900725\n",
      "Actual=72.220001, Predicted=71.492612\n",
      "Actual=72.220001, Predicted=72.209459\n",
      "Actual=72.519997, Predicted=72.194082\n",
      "Actual=72.690002, Predicted=72.521675\n",
      "Actual=72.860001, Predicted=72.675237\n",
      "Actual=73.989998, Predicted=72.854512\n",
      "Actual=74.389999, Predicted=73.939702\n",
      "Actual=73.080002, Predicted=74.348515\n",
      "Actual=73.510002, Predicted=73.150840\n",
      "Actual=74.900002, Predicted=73.531264\n",
      "Actual=74.809998, Predicted=74.801466\n",
      "Actual=75.190002, Predicted=74.788514\n",
      "Actual=75.559998, Predicted=75.204068\n",
      "Actual=76.180000, Predicted=75.532558\n",
      "Actual=74.680000, Predicted=76.151540\n",
      "Actual=74.760002, Predicted=74.738328\n",
      "Actual=75.129997, Predicted=74.806132\n",
      "Actual=75.839996, Predicted=75.080928\n",
      "Actual=76.169998, Predicted=75.801279\n",
      "Actual=74.529999, Predicted=76.145543\n",
      "Actual=73.430000, Predicted=74.608422\n",
      "Actual=74.120003, Predicted=73.525580\n",
      "Actual=75.550003, Predicted=74.084022\n",
      "Actual=75.160004, Predicted=75.448138\n",
      "Actual=76.489998, Predicted=75.154810\n",
      "Actual=74.760002, Predicted=76.470141\n",
      "Actual=73.470001, Predicted=74.795525\n",
      "Actual=73.589996, Predicted=73.596433\n",
      "Actual=68.620003, Predicted=73.582807\n"
     ]
    },
    {
     "name": "stdout",
     "output_type": "stream",
     "text": [
      "Actual=69.349998, Predicted=68.808115\n",
      "Actual=72.230003, Predicted=69.440883\n",
      "Actual=73.790001, Predicted=71.980667\n",
      "Actual=74.099998, Predicted=73.662213\n",
      "Actual=74.500000, Predicted=74.103445\n",
      "Actual=74.480003, Predicted=74.505826\n",
      "Actual=74.739998, Predicted=74.476799\n",
      "Actual=76.050003, Predicted=74.737226\n",
      "Actual=76.330002, Predicted=75.986294\n",
      "Actual=72.889999, Predicted=76.289593\n",
      "Actual=72.410004, Predicted=73.057772\n",
      "Actual=70.379997, Predicted=72.526221\n",
      "Actual=71.290001, Predicted=70.411322\n",
      "Actual=70.699997, Predicted=71.292868\n",
      "Actual=69.040001, Predicted=70.663224\n",
      "Actual=70.629997, Predicted=69.144448\n",
      "Actual=71.440002, Predicted=70.591506\n",
      "Actual=71.309998, Predicted=71.331261\n",
      "Actual=70.589996, Predicted=71.326477\n",
      "Actual=69.510002, Predicted=70.640438\n",
      "Actual=69.029999, Predicted=69.572509\n",
      "Actual=68.230003, Predicted=69.064203\n",
      "Actual=66.449997, Predicted=68.255341\n",
      "Actual=65.180000, Predicted=66.536890\n",
      "Actual=68.750000, Predicted=65.262821\n",
      "Actual=71.050003, Predicted=68.594288\n",
      "Actual=72.250000, Predicted=70.834757\n",
      "Actual=71.070000, Predicted=72.208458\n",
      "Actual=72.699997, Predicted=71.130332\n",
      "Actual=73.410004, Predicted=72.684749\n",
      "Actual=72.989998, Predicted=73.315528\n",
      "Actual=71.589996, Predicted=73.020114\n",
      "Actual=73.029999, Predicted=71.672847\n",
      "Actual=72.610001, Predicted=72.998288\n",
      "Actual=71.690002, Predicted=72.563550\n",
      "Actual=72.599998, Predicted=71.767164\n",
      "Actual=71.449997, Predicted=72.577849\n",
      "Actual=72.919998, Predicted=71.457052\n",
      "Actual=73.510002, Predicted=72.904894\n",
      "Actual=73.599998, Predicted=73.424501\n",
      "Actual=75.459999, Predicted=73.608831\n",
      "Actual=75.669998, Predicted=75.390377\n",
      "Actual=75.339996, Predicted=75.614514\n",
      "Actual=73.919998, Predicted=75.384676\n",
      "Actual=74.360001, Predicted=73.992607\n",
      "Actual=76.190002, Predicted=74.372180\n",
      "Actual=77.250000, Predicted=76.074061\n",
      "Actual=78.089996, Predicted=77.165541\n",
      "Actual=79.529999, Predicted=78.061737\n",
      "Actual=79.089996, Predicted=79.468632\n",
      "Actual=78.639999, Predicted=79.087050\n",
      "Actual=78.519997, Predicted=78.697821\n",
      "Actual=79.279999, Predicted=78.528317\n",
      "Actual=81.260002, Predicted=79.242849\n",
      "Actual=82.559998, Predicted=81.155647\n",
      "Actual=81.080002, Predicted=82.469420\n",
      "Actual=81.949997, Predicted=81.144291\n",
      "Actual=82.389999, Predicted=81.977366\n",
      "Actual=83.650002, Predicted=82.320631\n",
      "Actual=83.419998, Predicted=83.602678\n",
      "Actual=83.180000, Predicted=83.404849\n",
      "Actual=84.000000, Predicted=83.219674\n",
      "Actual=84.860001, Predicted=83.967924\n",
      "Actual=84.330002, Predicted=84.798348\n",
      "Actual=85.080002, Predicted=84.344867\n",
      "Actual=85.820000, Predicted=85.079110\n",
      "Actual=84.610001, Predicted=85.759554\n",
      "Actual=85.529999, Predicted=84.655092\n",
      "Actual=85.989998, Predicted=85.537704\n",
      "Actual=86.400002, Predicted=85.923319\n",
      "Actual=84.580002, Predicted=86.388515\n",
      "Actual=84.320000, Predicted=84.653753\n",
      "Actual=84.379997, Predicted=84.386683\n",
      "Actual=84.709999, Predicted=84.349866\n",
      "Actual=84.720001, Predicted=84.689776\n",
      "Actual=81.989998, Predicted=84.711993\n",
      "Actual=80.540001, Predicted=82.109546\n",
      "Actual=82.739998, Predicted=80.672191\n",
      "Actual=83.430000, Predicted=82.637018\n",
      "Actual=84.779999, Predicted=83.314438\n",
      "Actual=82.639999, Predicted=84.745987\n",
      "Actual=82.870003, Predicted=82.704298\n",
      "Actual=82.169998, Predicted=82.942499\n",
      "Actual=82.050003, Predicted=82.155315\n",
      "Actual=82.430000, Predicted=82.077932\n",
      "Actual=80.279999, Predicted=82.405127\n",
      "Actual=81.239998, Predicted=80.357195\n",
      "Actual=78.889999, Predicted=81.264482\n",
      "Actual=79.699997, Predicted=78.925789\n",
      "Actual=82.309998, Predicted=79.744168\n",
      "Actual=82.250000, Predicted=82.136433\n",
      "Actual=82.279999, Predicted=82.196456\n",
      "Actual=72.720001, Predicted=82.326597\n",
      "Actual=73.440002, Predicted=73.122030\n",
      "Actual=70.570000, Predicted=73.668171\n",
      "Actual=68.870003, Predicted=70.534613\n",
      "Actual=69.669998, Predicted=69.020954\n",
      "Actual=69.879997, Predicted=69.628440\n",
      "Actual=73.080002, Predicted=69.823810\n",
      "Actual=75.440002, Predicted=72.953037\n",
      "Actual=75.820000, Predicted=75.271556\n",
      "Actual=74.419998, Predicted=75.801977\n",
      "Actual=75.150002, Predicted=74.505720\n",
      "Actual=74.389999, Predicted=75.158905\n",
      "Actual=73.699997, Predicted=74.382031\n",
      "Actual=73.879997, Predicted=73.757922\n",
      "Actual=75.019997, Predicted=73.876592\n",
      "Actual=73.519997, Predicted=74.957830\n",
      "Actual=71.519997, Predicted=73.558063\n",
      "Actual=73.980003, Predicted=71.656043\n",
      "Actual=75.290001, Predicted=73.901857\n",
      "Actual=76.849998, Predicted=75.143444\n",
      "Actual=78.599998, Predicted=76.792997\n",
      "Actual=78.940002, Predicted=78.513101\n",
      "Actual=79.230003, Predicted=78.910115\n",
      "Actual=79.320000, Predicted=79.238793\n",
      "Actual=79.199997, Predicted=79.315061\n",
      "Actual=78.980003, Predicted=79.207459\n",
      "Actual=80.000000, Predicted=78.993205\n",
      "Actual=80.800003, Predicted=79.961967\n",
      "Actual=81.989998, Predicted=80.739975\n",
      "Actual=81.750000, Predicted=81.939925\n",
      "Actual=80.870003, Predicted=81.744675\n",
      "Actual=83.720001, Predicted=80.930359\n",
      "Actual=84.669998, Predicted=83.621377\n",
      "Actual=84.470001, Predicted=84.549324\n",
      "Actual=86.059998, Predicted=84.502548\n",
      "Actual=87.510002, Predicted=86.017036\n",
      "Actual=88.440002, Predicted=87.411003\n",
      "Actual=88.379997, Predicted=88.396447\n",
      "Actual=87.889999, Predicted=88.385565\n",
      "Actual=86.269997, Predicted=87.926850\n",
      "Actual=88.199997, Predicted=86.344732\n",
      "Actual=89.959999, Predicted=88.152792\n",
      "Actual=89.339996, Predicted=89.816679\n",
      "Actual=90.029999, Predicted=89.354867\n",
      "Actual=91.209999, Predicted=90.047514\n",
      "Actual=91.290001, Predicted=91.135873\n",
      "Actual=89.470001, Predicted=91.270442\n",
      "Actual=91.110001, Predicted=89.560504\n",
      "Actual=93.269997, Predicted=91.089978\n",
      "Actual=92.690002, Predicted=93.112273\n",
      "Actual=90.779999, Predicted=92.688086\n",
      "Actual=91.550003, Predicted=90.907216\n",
      "Actual=91.410004, Predicted=91.557855\n",
      "Actual=94.440002, Predicted=91.363094\n",
      "Actual=96.480003, Predicted=94.335654\n",
      "Actual=93.279999, Predicted=96.322065\n",
      "Actual=94.809998, Predicted=93.404730\n",
      "Actual=92.970001, Predicted=94.866334\n",
      "Actual=93.540001, Predicted=92.952411\n",
      "Actual=96.839996, Predicted=93.588318\n",
      "Actual=96.839996, Predicted=96.659795\n",
      "Actual=99.080002, Predicted=96.764793\n",
      "Actual=97.930000, Predicted=99.046592\n",
      "Actual=100.989998, Predicted=97.921203\n",
      "Actual=100.849998, Predicted=100.929603\n",
      "Actual=112.930000, Predicted=100.762755\n",
      "Actual=110.459999, Predicted=112.481637\n",
      "Actual=118.110001, Predicted=110.327857\n",
      "Actual=123.209999, Predicted=117.960810\n",
      "Actual=127.980003, Predicted=122.869513\n",
      "Actual=111.139999, Predicted=127.933315\n",
      "Actual=109.330002, Predicted=111.896007\n",
      "Actual=112.669998, Predicted=109.720423\n",
      "Actual=106.900002, Predicted=112.472343\n",
      "Actual=99.910004, Predicted=107.062573\n",
      "Actual=98.019997, Predicted=100.392995\n",
      "Actual=106.639999, Predicted=98.153322\n",
      "Actual=107.930000, Predicted=106.262107\n",
      "Actual=115.620003, Predicted=107.606298\n",
      "Actual=115.480003, Predicted=115.367950\n",
      "Actual=121.599998, Predicted=115.328106\n",
      "Actual=119.029999, Predicted=121.441731\n",
      "Actual=119.290001, Predicted=119.029383\n",
      "Test Mean Squared Error (smaller the better fit): 2.781\n"
     ]
    }
   ],
   "source": [
    "import pandas as pa\n",
    "import matplotlib as plot\n",
    "import matplotlib.pyplot as plt\n",
    "from statsmodels.tsa.arima.model import ARIMA\n",
    "import inspect\n",
    "from sklearn.metrics import mean_squared_error\n",
    "\n",
    "\n",
    "def GetData(fileName):\n",
    "    return pa.read_csv(fileName, header=0, index_col='Date')\n",
    "\n",
    "exchangeRatesSeries = GetData('br.csv')\n",
    "\n",
    "# view time series from the usd.csv fil\n",
    "\n",
    "# exchangeRatesSeries.head(10)\n",
    "\n",
    "# exchangeRatesSeries.head(10)\n",
    "\n",
    "# exchangeRatesSeries.describe()\n",
    "\n",
    "# exchangeRatesSeries.plot(color='green')\n",
    "\n",
    "# exchangeRatesSeries.hist()\n",
    "\n",
    "\n",
    "def StartARIMAForecasting(Actual, P, D, Q, steps=1, alpha=0.05):\n",
    "    model = ARIMA(Actual, order=(P, D, Q))\n",
    "    model_fit = model.fit()\n",
    "    prediction = model_fit.forecast(stepts=steps, alpha=alpha)[0]\n",
    "    return prediction\n",
    "\n",
    "# ExchangeRates = [[1], [1.5], [2], [4], [6], [8], [16], [1]]\n",
    "\n",
    "# predicted = StartARIMAForecasting(ExchangeRates, 1, 1, 0)\n",
    "\n",
    "# print('Predicted =%f' % (predicted))\n",
    "\n",
    "ActualData = exchangeRatesSeries\n",
    "ActualData.index = pa.to_datetime(ActualData.index)\n",
    "\n",
    "NumberOfElements = len(ActualData)\n",
    "\n",
    "#Use 70% of data as training, rest 30% to Test model\n",
    "TrainingSize = int(NumberOfElements * 0.7)\n",
    "TrainingData = ActualData[0:TrainingSize]\n",
    "TestData = ActualData[TrainingSize:NumberOfElements]\n",
    "\n",
    "#new arrays to store actual and predictions\n",
    "Actual = [x for x in TrainingData.iloc]\n",
    "Predictions = list()\n",
    "\n",
    "\n",
    "#in a for loop, predict values using ARIMA model\n",
    "for timepoint in range(len(TestData)):\n",
    "    ActualValue =  TestData.iloc[timepoint]\n",
    "    \n",
    "    #forcast value\n",
    "    Prediction = StartARIMAForecasting(Actual, 3,1,0)    \n",
    "    print('Actual=%f, Predicted=%f' % (ActualValue, Prediction))\n",
    "    \n",
    "    #add it in the list\n",
    "    Predictions.append(Prediction)\n",
    "    Actual.append(ActualValue)\n",
    "\n",
    "#Print MSE to see how good the model is\n",
    "Error = mean_squared_error(TestData, Predictions)\n",
    "print('Test Mean Squared Error (smaller the better fit): %.3f' % Error)\n",
    "\n",
    "Pred = {\n",
    "    'Date': TestData.index,\n",
    "    'Close': Predictions\n",
    "}\n",
    "\n",
    "Pred = pa.DataFrame(Pred)\n",
    "Pred.index = Pred.Date\n",
    "Pred = Pred.drop(['Date'], axis=1)\n"
   ]
  },
  {
   "cell_type": "code",
   "execution_count": 99,
   "id": "aca41e9c",
   "metadata": {},
   "outputs": [
    {
     "data": {
      "image/png": "[encoded data removed]",
      "text/plain": [
       "<Figure size 432x288 with 1 Axes>"
      ]
     },
     "metadata": {
      "needs_background": "light"
     },
     "output_type": "display_data"
    }
   ],
   "source": [
    "plt.plot(TestData)\n",
    "plt.plot(Pred, color='red')\n",
    "plt.show()"
   ]
  },
  {
   "cell_type": "code",
   "execution_count": 100,
   "id": "894dd653",
   "metadata": {},
   "outputs": [
    {
     "data": {
      "application/vnd.plotly.v1+json": {
       "config": {
        "plotlyServerURL": "https://plot.ly"
       },
       "data": [
        {
         "hovertemplate": "variable=Close<br>Date=%{x}<br>value=%{y}<extra></extra>",
         "legendgroup": "Close",
         "line": {
          "color": "#636efa",
          "dash": "solid"
         },
         "marker": {
          "symbol": "circle"
         },
         "mode": "lines",
         "name": "Close",
         "showlegend": true,
         "type": "scattergl",
         "x": [
          "2018-02-02T00:00:00",
          "2018-02-05T00:00:00",
          "2018-02-06T00:00:00",
          "2018-02-07T00:00:00",
          "2018-02-08T00:00:00",
          "2018-02-09T00:00:00",
          "2018-02-12T00:00:00",
          "2018-02-13T00:00:00",
          "2018-02-14T00:00:00",
          "2018-02-15T00:00:00",
          "2018-02-16T00:00:00",
          "2018-02-20T00:00:00",
          "2018-02-21T00:00:00",
          "2018-02-22T00:00:00",
          "2018-02-23T00:00:00",
          "2018-02-26T00:00:00",
          "2018-02-27T00:00:00",
          "2018-02-28T00:00:00",
          "2018-03-01T00:00:00",
          "2018-03-02T00:00:00",
          "2018-03-05T00:00:00",
          "2018-03-06T00:00:00",
          "2018-03-07T00:00:00",
          "2018-03-08T00:00:00",
          "2018-03-09T00:00:00",
          "2018-03-12T00:00:00",
          "2018-03-13T00:00:00",
          "2018-03-14T00:00:00",
          "2018-03-15T00:00:00",
          "2018-03-16T00:00:00",
          "2018-03-19T00:00:00",
          "2018-03-20T00:00:00",
          "2018-03-21T00:00:00",
          "2018-03-22T00:00:00",
          "2018-03-23T00:00:00",
          "2018-03-26T00:00:00",
          "2018-03-27T00:00:00",
          "2018-03-28T00:00:00",
          "2018-03-29T00:00:00",
          "2018-04-02T00:00:00",
          "2018-04-04T00:00:00",
          "2018-04-05T00:00:00",
          "2018-04-06T00:00:00",
          "2018-04-09T00:00:00",
          "2018-04-10T00:00:00",
          "2018-04-11T00:00:00",
          "2018-04-12T00:00:00",
          "2018-04-13T00:00:00",
          "2018-04-16T00:00:00",
          "2018-04-17T00:00:00",
          "2018-04-18T00:00:00",
          "2018-04-19T00:00:00",
          "2018-04-20T00:00:00",
          "2018-04-23T00:00:00",
          "2018-04-24T00:00:00",
          "2018-04-25T00:00:00",
          "2018-04-26T00:00:00",
          "2018-04-27T00:00:00",
          "2018-04-30T00:00:00",
          "2018-05-01T00:00:00",
          "2018-05-02T00:00:00",
          "2018-05-03T00:00:00",
          "2018-05-04T00:00:00",
          "2018-05-07T00:00:00",
          "2018-05-08T00:00:00",
          "2018-05-09T00:00:00",
          "2018-05-10T00:00:00",
          "2018-05-11T00:00:00",
          "2018-05-14T00:00:00",
          "2018-05-15T00:00:00",
          "2018-05-16T00:00:00",
          "2018-05-17T00:00:00",
          "2018-05-18T00:00:00",
          "2018-05-21T00:00:00",
          "2018-05-22T00:00:00",
          "2018-05-23T00:00:00",
          "2018-05-24T00:00:00",
          "2018-05-25T00:00:00",
          "2018-05-29T00:00:00",
          "2018-05-30T00:00:00",
          "2018-05-31T00:00:00",
          "2018-06-01T00:00:00",
          "2018-06-04T00:00:00",
          "2018-06-05T00:00:00",
          "2018-06-06T00:00:00",
          "2018-06-07T00:00:00",
          "2018-06-08T00:00:00",
          "2018-06-11T00:00:00",
          "2018-06-12T00:00:00",
          "2018-06-13T00:00:00",
          "2018-06-14T00:00:00",
          "2018-06-15T00:00:00",
          "2018-06-18T00:00:00",
          "2018-06-19T00:00:00",
          "2018-06-20T00:00:00",
          "2018-06-21T00:00:00",
          "2018-06-22T00:00:00",
          "2018-06-25T00:00:00",
          "2018-06-26T00:00:00",
          "2018-06-27T00:00:00",
          "2018-06-28T00:00:00",
          "2018-06-29T00:00:00",
          "2018-07-02T00:00:00",
          "2018-07-03T00:00:00",
          "2018-07-05T00:00:00",
          "2018-07-06T00:00:00",
          "2018-07-09T00:00:00",
          "2018-07-10T00:00:00",
          "2018-07-11T00:00:00",
          "2018-07-12T00:00:00",
          "2018-07-13T00:00:00",
          "2018-07-16T00:00:00",
          "2018-07-17T00:00:00",
          "2018-07-18T00:00:00",
          "2018-07-19T00:00:00",
          "2018-07-20T00:00:00",
          "2018-07-23T00:00:00",
          "2018-07-24T00:00:00",
          "2018-07-25T00:00:00",
          "2018-07-26T00:00:00",
          "2018-07-27T00:00:00",
          "2018-07-30T00:00:00",
          "2018-07-31T00:00:00",
          "2018-08-01T00:00:00",
          "2018-08-02T00:00:00",
          "2018-08-03T00:00:00",
          "2018-08-06T00:00:00",
          "2018-08-07T00:00:00",
          "2018-08-08T00:00:00",
          "2018-08-09T00:00:00",
          "2018-08-10T00:00:00",
          "2018-08-13T00:00:00",
          "2018-08-14T00:00:00",
          "2018-08-15T00:00:00",
          "2018-08-16T00:00:00",
          "2018-08-17T00:00:00",
          "2018-08-20T00:00:00",
          "2018-08-21T00:00:00",
          "2018-08-22T00:00:00",
          "2018-08-23T00:00:00",
          "2018-08-24T00:00:00",
          "2018-08-27T00:00:00",
          "2018-08-28T00:00:00",
          "2018-08-29T00:00:00",
          "2018-08-30T00:00:00",
          "2018-08-31T00:00:00",
          "2018-09-04T00:00:00",
          "2018-09-05T00:00:00",
          "2018-09-06T00:00:00",
          "2018-09-07T00:00:00",
          "2018-09-10T00:00:00",
          "2018-09-11T00:00:00",
          "2018-09-12T00:00:00",
          "2018-09-13T00:00:00",
          "2018-09-14T00:00:00",
          "2018-09-17T00:00:00",
          "2018-09-18T00:00:00",
          "2018-09-19T00:00:00",
          "2018-09-20T00:00:00",
          "2018-09-21T00:00:00",
          "2018-09-24T00:00:00",
          "2018-09-25T00:00:00",
          "2018-09-26T00:00:00",
          "2018-09-27T00:00:00",
          "2018-09-28T00:00:00",
          "2018-10-01T00:00:00",
          "2018-10-02T00:00:00",
          "2018-10-03T00:00:00",
          "2018-10-04T00:00:00",
          "2018-10-05T00:00:00",
          "2018-10-08T00:00:00",
          "2018-10-09T00:00:00",
          "2018-10-10T00:00:00",
          "2018-10-11T00:00:00",
          "2018-10-12T00:00:00",
          "2018-10-15T00:00:00",
          "2018-10-16T00:00:00",
          "2018-10-17T00:00:00",
          "2018-10-18T00:00:00",
          "2018-10-19T00:00:00",
          "2018-10-22T00:00:00",
          "2018-10-23T00:00:00",
          "2018-10-24T00:00:00",
          "2018-10-25T00:00:00",
          "2018-10-26T00:00:00",
          "2018-10-29T00:00:00",
          "2018-10-30T00:00:00",
          "2018-10-31T00:00:00",
          "2018-11-01T00:00:00",
          "2018-11-02T00:00:00",
          "2018-11-05T00:00:00",
          "2018-11-06T00:00:00",
          "2018-11-07T00:00:00",
          "2018-11-08T00:00:00",
          "2018-11-09T00:00:00",
          "2018-11-12T00:00:00",
          "2018-11-13T00:00:00",
          "2018-11-14T00:00:00",
          "2018-11-15T00:00:00",
          "2018-11-16T00:00:00",
          "2018-11-19T00:00:00",
          "2018-11-20T00:00:00",
          "2018-11-21T00:00:00",
          "2018-11-23T00:00:00",
          "2018-11-26T00:00:00",
          "2018-11-27T00:00:00",
          "2018-11-28T00:00:00",
          "2018-11-29T00:00:00",
          "2018-11-30T00:00:00",
          "2018-12-03T00:00:00",
          "2018-12-04T00:00:00",
          "2018-12-06T00:00:00",
          "2018-12-07T00:00:00",
          "2018-12-10T00:00:00",
          "2018-12-11T00:00:00",
          "2018-12-12T00:00:00",
          "2018-12-13T00:00:00",
          "2018-12-14T00:00:00",
          "2018-12-17T00:00:00",
          "2018-12-18T00:00:00",
          "2018-12-19T00:00:00",
          "2018-12-20T00:00:00",
          "2018-12-21T00:00:00",
          "2018-12-24T00:00:00",
          "2018-12-26T00:00:00",
          "2018-12-27T00:00:00",
          "2018-12-28T00:00:00",
          "2018-12-31T00:00:00",
          "2019-01-02T00:00:00",
          "2019-01-03T00:00:00",
          "2019-01-04T00:00:00",
          "2019-01-07T00:00:00",
          "2019-01-08T00:00:00",
          "2019-01-09T00:00:00",
          "2019-01-10T00:00:00",
          "2019-01-11T00:00:00",
          "2019-01-14T00:00:00",
          "2019-01-15T00:00:00",
          "2019-01-16T00:00:00",
          "2019-01-17T00:00:00",
          "2019-01-18T00:00:00",
          "2019-01-22T00:00:00",
          "2019-01-23T00:00:00",
          "2019-01-24T00:00:00",
          "2019-01-25T00:00:00",
          "2019-01-28T00:00:00",
          "2019-01-29T00:00:00",
          "2019-01-30T00:00:00",
          "2019-01-31T00:00:00",
          "2019-02-01T00:00:00",
          "2019-02-04T00:00:00",
          "2019-02-05T00:00:00",
          "2019-02-06T00:00:00",
          "2019-02-07T00:00:00",
          "2019-02-08T00:00:00",
          "2019-02-11T00:00:00",
          "2019-02-12T00:00:00",
          "2019-02-13T00:00:00",
          "2019-02-14T00:00:00",
          "2019-02-15T00:00:00",
          "2019-02-19T00:00:00",
          "2019-02-20T00:00:00",
          "2019-02-21T00:00:00",
          "2019-02-22T00:00:00",
          "2019-02-25T00:00:00",
          "2019-02-26T00:00:00",
          "2019-02-27T00:00:00",
          "2019-02-28T00:00:00",
          "2019-03-01T00:00:00",
          "2019-03-04T00:00:00",
          "2019-03-05T00:00:00",
          "2019-03-06T00:00:00",
          "2019-03-07T00:00:00",
          "2019-03-08T00:00:00",
          "2019-03-11T00:00:00",
          "2019-03-12T00:00:00",
          "2019-03-13T00:00:00",
          "2019-03-14T00:00:00",
          "2019-03-15T00:00:00",
          "2019-03-18T00:00:00",
          "2019-03-19T00:00:00",
          "2019-03-20T00:00:00",
          "2019-03-21T00:00:00",
          "2019-03-22T00:00:00",
          "2019-03-25T00:00:00",
          "2019-03-26T00:00:00",
          "2019-03-27T00:00:00",
          "2019-03-28T00:00:00",
          "2019-03-29T00:00:00",
          "2019-04-01T00:00:00",
          "2019-04-02T00:00:00",
          "2019-04-03T00:00:00",
          "2019-04-04T00:00:00",
          "2019-04-05T00:00:00",
          "2019-04-08T00:00:00",
          "2019-04-09T00:00:00",
          "2019-04-10T00:00:00",
          "2019-04-11T00:00:00",
          "2019-04-12T00:00:00",
          "2019-04-15T00:00:00",
          "2019-04-16T00:00:00",
          "2019-04-17T00:00:00",
          "2019-04-18T00:00:00",
          "2019-04-22T00:00:00",
          "2019-04-23T00:00:00",
          "2019-04-24T00:00:00",
          "2019-04-25T00:00:00",
          "2019-04-26T00:00:00",
          "2019-04-29T00:00:00",
          "2019-04-30T00:00:00",
          "2019-05-01T00:00:00",
          "2019-05-02T00:00:00",
          "2019-05-03T00:00:00",
          "2019-05-06T00:00:00",
          "2019-05-07T00:00:00",
          "2019-05-08T00:00:00",
          "2019-05-09T00:00:00",
          "2019-05-10T00:00:00",
          "2019-05-13T00:00:00",
          "2019-05-14T00:00:00",
          "2019-05-15T00:00:00",
          "2019-05-16T00:00:00",
          "2019-05-17T00:00:00",
          "2019-05-20T00:00:00",
          "2019-05-21T00:00:00",
          "2019-05-22T00:00:00",
          "2019-05-23T00:00:00",
          "2019-05-24T00:00:00",
          "2019-05-28T00:00:00",
          "2019-05-29T00:00:00",
          "2019-05-30T00:00:00",
          "2019-05-31T00:00:00",
          "2019-06-03T00:00:00",
          "2019-06-04T00:00:00",
          "2019-06-05T00:00:00",
          "2019-06-06T00:00:00",
          "2019-06-07T00:00:00",
          "2019-06-10T00:00:00",
          "2019-06-11T00:00:00",
          "2019-06-12T00:00:00",
          "2019-06-13T00:00:00",
          "2019-06-14T00:00:00",
          "2019-06-17T00:00:00",
          "2019-06-18T00:00:00",
          "2019-06-19T00:00:00",
          "2019-06-20T00:00:00",
          "2019-06-21T00:00:00",
          "2019-06-24T00:00:00",
          "2019-06-25T00:00:00",
          "2019-06-26T00:00:00",
          "2019-06-27T00:00:00",
          "2019-06-28T00:00:00",
          "2019-07-01T00:00:00",
          "2019-07-02T00:00:00",
          "2019-07-03T00:00:00",
          "2019-07-05T00:00:00",
          "2019-07-08T00:00:00",
          "2019-07-09T00:00:00",
          "2019-07-10T00:00:00",
          "2019-07-11T00:00:00",
          "2019-07-12T00:00:00",
          "2019-07-15T00:00:00",
          "2019-07-16T00:00:00",
          "2019-07-17T00:00:00",
          "2019-07-18T00:00:00",
          "2019-07-19T00:00:00",
          "2019-07-22T00:00:00",
          "2019-07-23T00:00:00",
          "2019-07-24T00:00:00",
          "2019-07-25T00:00:00",
          "2019-07-26T00:00:00",
          "2019-07-29T00:00:00",
          "2019-07-30T00:00:00",
          "2019-07-31T00:00:00",
          "2019-08-01T00:00:00",
          "2019-08-02T00:00:00",
          "2019-08-05T00:00:00",
          "2019-08-06T00:00:00",
          "2019-08-07T00:00:00",
          "2019-08-08T00:00:00",
          "2019-08-09T00:00:00",
          "2019-08-12T00:00:00",
          "2019-08-13T00:00:00",
          "2019-08-14T00:00:00",
          "2019-08-15T00:00:00",
          "2019-08-16T00:00:00",
          "2019-08-19T00:00:00",
          "2019-08-20T00:00:00",
          "2019-08-21T00:00:00",
          "2019-08-22T00:00:00",
          "2019-08-23T00:00:00",
          "2019-08-26T00:00:00",
          "2019-08-27T00:00:00",
          "2019-08-28T00:00:00",
          "2019-08-29T00:00:00",
          "2019-08-30T00:00:00",
          "2019-09-03T00:00:00",
          "2019-09-04T00:00:00",
          "2019-09-05T00:00:00",
          "2019-09-06T00:00:00",
          "2019-09-09T00:00:00",
          "2019-09-10T00:00:00",
          "2019-09-11T00:00:00",
          "2019-09-12T00:00:00",
          "2019-09-13T00:00:00",
          "2019-09-16T00:00:00",
          "2019-09-17T00:00:00",
          "2019-09-18T00:00:00",
          "2019-09-19T00:00:00",
          "2019-09-20T00:00:00",
          "2019-09-23T00:00:00",
          "2019-09-24T00:00:00",
          "2019-09-25T00:00:00",
          "2019-09-26T00:00:00",
          "2019-09-27T00:00:00",
          "2019-09-30T00:00:00",
          "2019-10-01T00:00:00",
          "2019-10-02T00:00:00",
          "2019-10-03T00:00:00",
          "2019-10-04T00:00:00",
          "2019-10-07T00:00:00",
          "2019-10-08T00:00:00",
          "2019-10-09T00:00:00",
          "2019-10-10T00:00:00",
          "2019-10-11T00:00:00",
          "2019-10-14T00:00:00",
          "2019-10-15T00:00:00",
          "2019-10-16T00:00:00",
          "2019-10-17T00:00:00",
          "2019-10-18T00:00:00",
          "2019-10-21T00:00:00",
          "2019-10-22T00:00:00",
          "2019-10-23T00:00:00",
          "2019-10-24T00:00:00",
          "2019-10-25T00:00:00",
          "2019-10-28T00:00:00",
          "2019-10-29T00:00:00",
          "2019-10-30T00:00:00",
          "2019-10-31T00:00:00",
          "2019-11-01T00:00:00",
          "2019-11-04T00:00:00",
          "2019-11-05T00:00:00",
          "2019-11-06T00:00:00",
          "2019-11-07T00:00:00",
          "2019-11-08T00:00:00",
          "2019-11-11T00:00:00",
          "2019-11-12T00:00:00",
          "2019-11-13T00:00:00",
          "2019-11-14T00:00:00",
          "2019-11-15T00:00:00",
          "2019-11-18T00:00:00",
          "2019-11-19T00:00:00",
          "2019-11-20T00:00:00",
          "2019-11-21T00:00:00",
          "2019-11-22T00:00:00",
          "2019-11-25T00:00:00",
          "2019-11-26T00:00:00",
          "2019-11-27T00:00:00",
          "2019-11-29T00:00:00",
          "2019-12-02T00:00:00",
          "2019-12-03T00:00:00",
          "2019-12-04T00:00:00",
          "2019-12-05T00:00:00",
          "2019-12-06T00:00:00",
          "2019-12-09T00:00:00",
          "2019-12-10T00:00:00",
          "2019-12-11T00:00:00",
          "2019-12-12T00:00:00",
          "2019-12-13T00:00:00",
          "2019-12-16T00:00:00",
          "2019-12-17T00:00:00",
          "2019-12-18T00:00:00",
          "2019-12-19T00:00:00",
          "2019-12-20T00:00:00",
          "2019-12-23T00:00:00",
          "2019-12-24T00:00:00",
          "2019-12-26T00:00:00",
          "2019-12-27T00:00:00",
          "2019-12-30T00:00:00",
          "2019-12-31T00:00:00",
          "2020-01-02T00:00:00",
          "2020-01-03T00:00:00",
          "2020-01-06T00:00:00",
          "2020-01-07T00:00:00",
          "2020-01-08T00:00:00",
          "2020-01-09T00:00:00",
          "2020-01-10T00:00:00",
          "2020-01-13T00:00:00",
          "2020-01-14T00:00:00",
          "2020-01-15T00:00:00",
          "2020-01-16T00:00:00",
          "2020-01-17T00:00:00",
          "2020-01-21T00:00:00",
          "2020-01-22T00:00:00",
          "2020-01-23T00:00:00",
          "2020-01-24T00:00:00",
          "2020-01-27T00:00:00",
          "2020-01-28T00:00:00",
          "2020-01-29T00:00:00",
          "2020-01-30T00:00:00",
          "2020-01-31T00:00:00",
          "2020-02-03T00:00:00",
          "2020-02-04T00:00:00",
          "2020-02-05T00:00:00",
          "2020-02-06T00:00:00",
          "2020-02-07T00:00:00",
          "2020-02-10T00:00:00",
          "2020-02-11T00:00:00",
          "2020-02-12T00:00:00",
          "2020-02-13T00:00:00",
          "2020-02-14T00:00:00",
          "2020-02-18T00:00:00",
          "2020-02-19T00:00:00",
          "2020-02-20T00:00:00",
          "2020-02-21T00:00:00",
          "2020-02-24T00:00:00",
          "2020-02-25T00:00:00",
          "2020-02-26T00:00:00",
          "2020-02-27T00:00:00",
          "2020-02-28T00:00:00",
          "2020-03-02T00:00:00",
          "2020-03-03T00:00:00",
          "2020-03-04T00:00:00",
          "2020-03-05T00:00:00",
          "2020-03-06T00:00:00",
          "2020-03-09T00:00:00",
          "2020-03-10T00:00:00",
          "2020-03-11T00:00:00",
          "2020-03-12T00:00:00",
          "2020-03-13T00:00:00",
          "2020-03-16T00:00:00",
          "2020-03-17T00:00:00",
          "2020-03-18T00:00:00",
          "2020-03-19T00:00:00",
          "2020-03-20T00:00:00",
          "2020-03-23T00:00:00",
          "2020-03-24T00:00:00",
          "2020-03-25T00:00:00",
          "2020-03-26T00:00:00",
          "2020-03-27T00:00:00",
          "2020-03-30T00:00:00",
          "2020-03-31T00:00:00",
          "2020-04-01T00:00:00",
          "2020-04-02T00:00:00",
          "2020-04-03T00:00:00",
          "2020-04-06T00:00:00",
          "2020-04-07T00:00:00",
          "2020-04-08T00:00:00",
          "2020-04-09T00:00:00",
          "2020-04-13T00:00:00",
          "2020-04-14T00:00:00",
          "2020-04-15T00:00:00",
          "2020-04-16T00:00:00",
          "2020-04-17T00:00:00",
          "2020-04-20T00:00:00",
          "2020-04-21T00:00:00",
          "2020-04-22T00:00:00",
          "2020-04-23T00:00:00",
          "2020-04-24T00:00:00",
          "2020-04-27T00:00:00",
          "2020-04-28T00:00:00",
          "2020-04-29T00:00:00",
          "2020-04-30T00:00:00",
          "2020-05-01T00:00:00",
          "2020-05-04T00:00:00",
          "2020-05-05T00:00:00",
          "2020-05-06T00:00:00",
          "2020-05-07T00:00:00",
          "2020-05-08T00:00:00",
          "2020-05-11T00:00:00",
          "2020-05-12T00:00:00",
          "2020-05-13T00:00:00",
          "2020-05-14T00:00:00",
          "2020-05-15T00:00:00",
          "2020-05-18T00:00:00",
          "2020-05-19T00:00:00",
          "2020-05-20T00:00:00",
          "2020-05-21T00:00:00",
          "2020-05-22T00:00:00",
          "2020-05-26T00:00:00",
          "2020-05-27T00:00:00",
          "2020-05-28T00:00:00",
          "2020-05-29T00:00:00",
          "2020-06-01T00:00:00",
          "2020-06-02T00:00:00",
          "2020-06-03T00:00:00",
          "2020-06-04T00:00:00",
          "2020-06-05T00:00:00",
          "2020-06-08T00:00:00",
          "2020-06-09T00:00:00",
          "2020-06-10T00:00:00",
          "2020-06-11T00:00:00",
          "2020-06-12T00:00:00",
          "2020-06-15T00:00:00",
          "2020-06-16T00:00:00",
          "2020-06-17T00:00:00",
          "2020-06-18T00:00:00",
          "2020-06-19T00:00:00",
          "2020-06-22T00:00:00",
          "2020-06-23T00:00:00",
          "2020-06-24T00:00:00",
          "2020-06-25T00:00:00",
          "2020-06-26T00:00:00",
          "2020-06-29T00:00:00",
          "2020-06-30T00:00:00",
          "2020-07-01T00:00:00",
          "2020-07-02T00:00:00",
          "2020-07-06T00:00:00",
          "2020-07-07T00:00:00",
          "2020-07-08T00:00:00",
          "2020-07-09T00:00:00",
          "2020-07-10T00:00:00",
          "2020-07-13T00:00:00",
          "2020-07-14T00:00:00",
          "2020-07-15T00:00:00",
          "2020-07-16T00:00:00",
          "2020-07-17T00:00:00",
          "2020-07-20T00:00:00",
          "2020-07-21T00:00:00",
          "2020-07-22T00:00:00",
          "2020-07-23T00:00:00",
          "2020-07-24T00:00:00",
          "2020-07-27T00:00:00",
          "2020-07-28T00:00:00",
          "2020-07-29T00:00:00",
          "2020-07-30T00:00:00",
          "2020-07-31T00:00:00",
          "2020-08-03T00:00:00",
          "2020-08-04T00:00:00",
          "2020-08-05T00:00:00",
          "2020-08-06T00:00:00",
          "2020-08-07T00:00:00",
          "2020-08-10T00:00:00",
          "2020-08-11T00:00:00",
          "2020-08-12T00:00:00",
          "2020-08-13T00:00:00",
          "2020-08-14T00:00:00",
          "2020-08-17T00:00:00",
          "2020-08-18T00:00:00",
          "2020-08-19T00:00:00",
          "2020-08-20T00:00:00",
          "2020-08-21T00:00:00",
          "2020-08-24T00:00:00",
          "2020-08-25T00:00:00",
          "2020-08-26T00:00:00",
          "2020-08-27T00:00:00",
          "2020-08-28T00:00:00",
          "2020-08-31T00:00:00",
          "2020-09-02T00:00:00",
          "2020-09-03T00:00:00",
          "2020-09-04T00:00:00",
          "2020-09-08T00:00:00",
          "2020-09-09T00:00:00",
          "2020-09-10T00:00:00",
          "2020-09-11T00:00:00",
          "2020-09-14T00:00:00",
          "2020-09-15T00:00:00",
          "2020-09-16T00:00:00",
          "2020-09-17T00:00:00",
          "2020-09-18T00:00:00",
          "2020-09-21T00:00:00",
          "2020-09-22T00:00:00",
          "2020-09-23T00:00:00",
          "2020-09-24T00:00:00",
          "2020-09-25T00:00:00",
          "2020-09-28T00:00:00",
          "2020-09-29T00:00:00",
          "2020-09-30T00:00:00",
          "2020-10-01T00:00:00",
          "2020-10-02T00:00:00",
          "2020-10-05T00:00:00",
          "2020-10-06T00:00:00",
          "2020-10-07T00:00:00",
          "2020-10-08T00:00:00",
          "2020-10-09T00:00:00",
          "2020-10-12T00:00:00",
          "2020-10-13T00:00:00",
          "2020-10-14T00:00:00",
          "2020-10-15T00:00:00",
          "2020-10-16T00:00:00",
          "2020-10-19T00:00:00",
          "2020-10-20T00:00:00",
          "2020-10-21T00:00:00",
          "2020-10-22T00:00:00",
          "2020-10-23T00:00:00",
          "2020-10-26T00:00:00",
          "2020-10-27T00:00:00",
          "2020-10-28T00:00:00",
          "2020-10-29T00:00:00",
          "2020-10-30T00:00:00",
          "2020-11-02T00:00:00",
          "2020-11-03T00:00:00",
          "2020-11-04T00:00:00",
          "2020-11-05T00:00:00",
          "2020-11-06T00:00:00",
          "2020-11-09T00:00:00",
          "2020-11-10T00:00:00",
          "2020-11-11T00:00:00",
          "2020-11-12T00:00:00",
          "2020-11-13T00:00:00",
          "2020-11-16T00:00:00",
          "2020-11-17T00:00:00",
          "2020-11-18T00:00:00",
          "2020-11-19T00:00:00",
          "2020-11-20T00:00:00",
          "2020-11-23T00:00:00",
          "2020-11-24T00:00:00",
          "2020-11-25T00:00:00",
          "2020-11-27T00:00:00",
          "2020-11-30T00:00:00",
          "2020-12-01T00:00:00",
          "2020-12-02T00:00:00",
          "2020-12-03T00:00:00",
          "2020-12-04T00:00:00",
          "2020-12-07T00:00:00",
          "2020-12-08T00:00:00",
          "2020-12-09T00:00:00",
          "2020-12-10T00:00:00",
          "2020-12-11T00:00:00",
          "2020-12-14T00:00:00",
          "2020-12-15T00:00:00",
          "2020-12-16T00:00:00",
          "2020-12-17T00:00:00",
          "2020-12-18T00:00:00",
          "2020-12-21T00:00:00",
          "2020-12-22T00:00:00",
          "2020-12-23T00:00:00",
          "2020-12-24T00:00:00",
          "2020-12-28T00:00:00",
          "2020-12-29T00:00:00",
          "2020-12-30T00:00:00",
          "2021-01-04T00:00:00",
          "2021-01-05T00:00:00",
          "2021-01-06T00:00:00",
          "2021-01-07T00:00:00",
          "2021-01-08T00:00:00",
          "2021-01-11T00:00:00",
          "2021-01-12T00:00:00",
          "2021-01-13T00:00:00",
          "2021-01-14T00:00:00",
          "2021-01-15T00:00:00",
          "2021-01-19T00:00:00",
          "2021-01-20T00:00:00",
          "2021-01-21T00:00:00",
          "2021-01-22T00:00:00",
          "2021-01-25T00:00:00",
          "2021-01-26T00:00:00",
          "2021-01-27T00:00:00",
          "2021-01-28T00:00:00",
          "2021-01-29T00:00:00",
          "2021-02-01T00:00:00",
          "2021-02-02T00:00:00",
          "2021-02-03T00:00:00",
          "2021-02-04T00:00:00",
          "2021-02-05T00:00:00",
          "2021-02-08T00:00:00",
          "2021-02-09T00:00:00",
          "2021-02-10T00:00:00",
          "2021-02-11T00:00:00",
          "2021-02-12T00:00:00",
          "2021-02-16T00:00:00",
          "2021-02-17T00:00:00",
          "2021-02-18T00:00:00",
          "2021-02-19T00:00:00",
          "2021-02-22T00:00:00",
          "2021-02-23T00:00:00",
          "2021-02-24T00:00:00",
          "2021-02-25T00:00:00",
          "2021-02-26T00:00:00",
          "2021-03-01T00:00:00",
          "2021-03-02T00:00:00",
          "2021-03-03T00:00:00",
          "2021-03-04T00:00:00",
          "2021-03-05T00:00:00",
          "2021-03-08T00:00:00",
          "2021-03-09T00:00:00",
          "2021-03-10T00:00:00",
          "2021-03-11T00:00:00",
          "2021-03-12T00:00:00",
          "2021-03-15T00:00:00",
          "2021-03-16T00:00:00",
          "2021-03-17T00:00:00",
          "2021-03-18T00:00:00",
          "2021-03-19T00:00:00",
          "2021-03-22T00:00:00",
          "2021-03-23T00:00:00",
          "2021-03-24T00:00:00",
          "2021-03-25T00:00:00",
          "2021-03-26T00:00:00",
          "2021-03-29T00:00:00",
          "2021-03-30T00:00:00",
          "2021-03-31T00:00:00",
          "2021-04-01T00:00:00",
          "2021-04-05T00:00:00",
          "2021-04-06T00:00:00",
          "2021-04-07T00:00:00",
          "2021-04-08T00:00:00",
          "2021-04-09T00:00:00",
          "2021-04-12T00:00:00",
          "2021-04-13T00:00:00",
          "2021-04-14T00:00:00",
          "2021-04-15T00:00:00",
          "2021-04-16T00:00:00",
          "2021-04-19T00:00:00",
          "2021-04-20T00:00:00",
          "2021-04-21T00:00:00",
          "2021-04-22T00:00:00",
          "2021-04-23T00:00:00",
          "2021-04-26T00:00:00",
          "2021-04-27T00:00:00",
          "2021-04-28T00:00:00",
          "2021-04-29T00:00:00",
          "2021-04-30T00:00:00",
          "2021-05-03T00:00:00",
          "2021-05-05T00:00:00",
          "2021-05-06T00:00:00",
          "2021-05-07T00:00:00",
          "2021-05-10T00:00:00",
          "2021-05-11T00:00:00",
          "2021-05-12T00:00:00",
          "2021-05-13T00:00:00",
          "2021-05-14T00:00:00",
          "2021-05-17T00:00:00",
          "2021-05-18T00:00:00",
          "2021-05-19T00:00:00",
          "2021-05-20T00:00:00",
          "2021-05-21T00:00:00",
          "2021-05-24T00:00:00",
          "2021-05-25T00:00:00",
          "2021-05-26T00:00:00",
          "2021-05-27T00:00:00",
          "2021-05-28T00:00:00",
          "2021-06-01T00:00:00",
          "2021-06-02T00:00:00",
          "2021-06-03T00:00:00",
          "2021-06-04T00:00:00",
          "2021-06-07T00:00:00",
          "2021-06-08T00:00:00",
          "2021-06-09T00:00:00",
          "2021-06-10T00:00:00",
          "2021-06-11T00:00:00",
          "2021-06-14T00:00:00",
          "2021-06-15T00:00:00",
          "2021-06-16T00:00:00",
          "2021-06-17T00:00:00",
          "2021-06-18T00:00:00",
          "2021-06-21T00:00:00",
          "2021-06-22T00:00:00",
          "2021-06-23T00:00:00",
          "2021-06-24T00:00:00",
          "2021-06-25T00:00:00",
          "2021-06-28T00:00:00",
          "2021-06-29T00:00:00",
          "2021-06-30T00:00:00",
          "2021-07-01T00:00:00",
          "2021-07-02T00:00:00",
          "2021-07-06T00:00:00",
          "2021-07-07T00:00:00",
          "2021-07-08T00:00:00",
          "2021-07-09T00:00:00",
          "2021-07-12T00:00:00",
          "2021-07-13T00:00:00",
          "2021-07-14T00:00:00",
          "2021-07-15T00:00:00",
          "2021-07-16T00:00:00",
          "2021-07-19T00:00:00",
          "2021-07-20T00:00:00",
          "2021-07-21T00:00:00",
          "2021-07-22T00:00:00",
          "2021-07-23T00:00:00",
          "2021-07-26T00:00:00",
          "2021-07-27T00:00:00",
          "2021-07-28T00:00:00",
          "2021-07-29T00:00:00",
          "2021-07-30T00:00:00",
          "2021-08-02T00:00:00",
          "2021-08-03T00:00:00",
          "2021-08-04T00:00:00",
          "2021-08-05T00:00:00",
          "2021-08-06T00:00:00",
          "2021-08-09T00:00:00",
          "2021-08-10T00:00:00",
          "2021-08-11T00:00:00",
          "2021-08-12T00:00:00",
          "2021-08-13T00:00:00",
          "2021-08-16T00:00:00",
          "2021-08-17T00:00:00",
          "2021-08-18T00:00:00",
          "2021-08-19T00:00:00",
          "2021-08-20T00:00:00",
          "2021-08-23T00:00:00",
          "2021-08-24T00:00:00",
          "2021-08-25T00:00:00",
          "2021-08-26T00:00:00",
          "2021-08-27T00:00:00",
          "2021-08-30T00:00:00",
          "2021-08-31T00:00:00",
          "2021-09-01T00:00:00",
          "2021-09-02T00:00:00",
          "2021-09-03T00:00:00",
          "2021-09-07T00:00:00",
          "2021-09-08T00:00:00",
          "2021-09-09T00:00:00",
          "2021-09-10T00:00:00",
          "2021-09-13T00:00:00",
          "2021-09-14T00:00:00",
          "2021-09-15T00:00:00",
          "2021-09-16T00:00:00",
          "2021-09-17T00:00:00",
          "2021-09-20T00:00:00",
          "2021-09-21T00:00:00",
          "2021-09-22T00:00:00",
          "2021-09-23T00:00:00",
          "2021-09-24T00:00:00",
          "2021-09-27T00:00:00",
          "2021-09-28T00:00:00",
          "2021-09-29T00:00:00",
          "2021-09-30T00:00:00",
          "2021-10-01T00:00:00",
          "2021-10-04T00:00:00",
          "2021-10-05T00:00:00",
          "2021-10-06T00:00:00",
          "2021-10-07T00:00:00",
          "2021-10-08T00:00:00",
          "2021-10-11T00:00:00",
          "2021-10-12T00:00:00",
          "2021-10-13T00:00:00",
          "2021-10-14T00:00:00",
          "2021-10-15T00:00:00",
          "2021-10-18T00:00:00",
          "2021-10-19T00:00:00",
          "2021-10-20T00:00:00",
          "2021-10-21T00:00:00",
          "2021-10-22T00:00:00",
          "2021-10-25T00:00:00",
          "2021-10-26T00:00:00",
          "2021-10-27T00:00:00",
          "2021-10-28T00:00:00",
          "2021-10-29T00:00:00",
          "2021-11-01T00:00:00",
          "2021-11-02T00:00:00",
          "2021-11-03T00:00:00",
          "2021-11-04T00:00:00",
          "2021-11-05T00:00:00",
          "2021-11-08T00:00:00",
          "2021-11-09T00:00:00",
          "2021-11-10T00:00:00",
          "2021-11-11T00:00:00",
          "2021-11-12T00:00:00",
          "2021-11-15T00:00:00",
          "2021-11-16T00:00:00",
          "2021-11-17T00:00:00",
          "2021-11-18T00:00:00",
          "2021-11-19T00:00:00",
          "2021-11-22T00:00:00",
          "2021-11-23T00:00:00",
          "2021-11-24T00:00:00",
          "2021-11-25T00:00:00",
          "2021-11-26T00:00:00",
          "2021-11-29T00:00:00",
          "2021-11-30T00:00:00",
          "2021-12-01T00:00:00",
          "2021-12-02T00:00:00",
          "2021-12-03T00:00:00",
          "2021-12-06T00:00:00",
          "2021-12-07T00:00:00",
          "2021-12-08T00:00:00",
          "2021-12-09T00:00:00",
          "2021-12-10T00:00:00",
          "2021-12-13T00:00:00",
          "2021-12-14T00:00:00",
          "2021-12-15T00:00:00",
          "2021-12-16T00:00:00",
          "2021-12-17T00:00:00",
          "2021-12-20T00:00:00",
          "2021-12-21T00:00:00",
          "2021-12-22T00:00:00",
          "2021-12-23T00:00:00",
          "2021-12-27T00:00:00",
          "2021-12-28T00:00:00",
          "2021-12-29T00:00:00",
          "2021-12-30T00:00:00",
          "2021-12-31T00:00:00",
          "2022-01-03T00:00:00",
          "2022-01-04T00:00:00",
          "2022-01-05T00:00:00",
          "2022-01-06T00:00:00",
          "2022-01-07T00:00:00",
          "2022-01-10T00:00:00",
          "2022-01-11T00:00:00",
          "2022-01-12T00:00:00",
          "2022-01-13T00:00:00",
          "2022-01-14T00:00:00",
          "2022-01-18T00:00:00",
          "2022-01-19T00:00:00",
          "2022-01-20T00:00:00",
          "2022-01-21T00:00:00",
          "2022-01-24T00:00:00",
          "2022-01-25T00:00:00",
          "2022-01-26T00:00:00",
          "2022-01-27T00:00:00",
          "2022-01-28T00:00:00",
          "2022-01-31T00:00:00",
          "2022-02-01T00:00:00",
          "2022-02-02T00:00:00",
          "2022-02-03T00:00:00",
          "2022-02-04T00:00:00",
          "2022-02-07T00:00:00",
          "2022-02-08T00:00:00",
          "2022-02-09T00:00:00",
          "2022-02-10T00:00:00",
          "2022-02-11T00:00:00",
          "2022-02-14T00:00:00",
          "2022-02-15T00:00:00",
          "2022-02-16T00:00:00",
          "2022-02-17T00:00:00",
          "2022-02-18T00:00:00",
          "2022-02-22T00:00:00",
          "2022-02-23T00:00:00",
          "2022-02-24T00:00:00",
          "2022-02-25T00:00:00",
          "2022-02-28T00:00:00",
          "2022-03-01T00:00:00",
          "2022-03-02T00:00:00",
          "2022-03-03T00:00:00",
          "2022-03-04T00:00:00",
          "2022-03-07T00:00:00",
          "2022-03-08T00:00:00",
          "2022-03-09T00:00:00",
          "2022-03-10T00:00:00",
          "2022-03-11T00:00:00",
          "2022-03-14T00:00:00",
          "2022-03-15T00:00:00",
          "2022-03-16T00:00:00",
          "2022-03-17T00:00:00",
          "2022-03-18T00:00:00",
          "2022-03-21T00:00:00",
          "2022-03-22T00:00:00",
          "2022-03-23T00:00:00",
          "2022-03-24T00:00:00",
          "2022-03-25T00:00:00"
         ],
         "xaxis": "x",
         "y": [
          69.06964022085504,
          68.60362850661836,
          67.68288497285805,
          66.91845784139402,
          65.58138329971624,
          64.87261281202254,
          62.88249691405848,
          62.65007317241021,
          62.68243855473936,
          64.27487496521971,
          64.28188290720578,
          64.84667524676642,
          65.21406771248076,
          65.40840093900067,
          66.34651342390488,
          67.23952157166599,
          67.48014611405064,
          66.68167815328849,
          65.8506322602239,
          65.72421927562667,
          64.4192475484466,
          65.52568263620039,
          65.7171892123207,
          64.42188022261205,
          63.69464017610901,
          65.39828376023824,
          64.90183222638667,
          64.70672099413036,
          64.87813463081197,
          65.09538398641742,
          66.15587847850485,
          66.02684697149128,
          67.38067670452786,
          69.32761161783404,
          68.89668085512629,
          70.43478548976975,
          70.0764317284522,
          70.15033526872745,
          69.55131645281737,
          70.25315333458875,
          70.11191000315539,
          68.13806876441447,
          68.37989767494811,
          67.11715101951447,
          68.62067312645988,
          70.85629269063297,
          71.96652727651575,
          72.03449104331169,
          72.57445181221472,
          71.45579635404536,
          71.61912888626426,
          73.36475071845382,
          73.7092804828437,
          74.07320069966376,
          74.67677685501322,
          73.88437679527091,
          74.0324259015782,
          74.68511265648733,
          74.6240306679553,
          75.16256182679605,
          75.15146839429727,
          73.45416117638098,
          73.66498030112281,
          74.76923648723306,
          76.07499505842884,
          74.89282631157633,
          77.16570789437954,
          77.35795405854178,
          77.17324010061085,
          78.19415273926172,
          78.37862728216564,
          79.2555411592681,
          79.27615755372473,
          78.56286188560996,
          79.21211353880253,
          79.51568504153279,
          79.79200740007003,
          78.83681241102518,
          76.58576523989012,
          75.49310350436915,
          77.39166669584762,
          77.49775584916591,
          77.62674770941544,
          75.39827597076348,
          75.45038408635776,
          75.31654874142528,
          77.23127619309658,
          76.43624940626016,
          76.52175070962893,
          75.89233808938846,
          76.71857268613165,
          75.93985947150635,
          73.59713359336368,
          75.31842599763932,
          74.98653260935005,
          74.79789341863803,
          73.13642392761311,
          75.48032267039858,
          74.65903835757838,
          76.30134272895916,
          77.4922870149304,
          77.82374395369585,
          79.37951476418303,
          79.36490245856582,
          77.86741447201648,
          77.46022701608995,
          77.10677522913082,
          78.02691971165652,
          78.78675601180707,
          73.65394976779473,
          74.59210570242145,
          75.1574250247833,
          72.00294838006256,
          72.28040555530505,
          72.78230849562435,
          72.5768787579722,
          73.07177289300282,
          73.03723086901718,
          73.43151295009845,
          73.89263700727409,
          74.50091825052326,
          74.29139864320234,
          74.95740267412732,
          74.25729912281676,
          74.28832482512752,
          73.47497279076332,
          73.24904757151579,
          73.71536433528429,
          74.58240312212189,
          72.37758531212508,
          72.1799159746818,
          72.73273251405166,
          72.5900765489897,
          72.489330033001,
          70.84533567218897,
          71.45247754719864,
          71.75289897789253,
          72.19063762949648,
          72.60401348500586,
          74.666910573673,
          74.66686959634893,
          75.81128294942685,
          76.15263730516203,
          75.97168533938971,
          77.09809802734448,
          77.69313785964762,
          77.44025913572962,
          78.15796651481291,
          77.28177448745494,
          76.58409812151766,
          76.8213418460167,
          77.3162377801559,
          78.96524925679016,
          79.66032326047232,
          78.26761401833386,
          78.16186279555494,
          78.02345409989206,
          78.98144222748536,
          79.34734122518526,
          78.74120972633949,
          78.82664752162101,
          81.06465462961715,
          81.75600618532118,
          81.39063834328404,
          81.73341977554277,
          82.64720007845528,
          82.64523557983819,
          84.71823963601146,
          86.14347614590496,
          84.6549021047722,
          84.27107449724514,
          83.90197145024311,
          84.94742088854649,
          83.13997745180083,
          80.48602827308106,
          80.48356299635685,
          80.69984169176787,
          81.37067952848092,
          80.09989100953823,
          79.38766220344365,
          79.75670941963831,
          79.79490587950329,
          76.61091582510963,
          76.3063975176197,
          76.79687613436532,
          77.55352465961258,
          77.34097955067716,
          76.00287210352879,
          75.53787703704138,
          75.48669010418172,
          72.94713785493836,
          73.25166988709023,
          72.11356368804022,
          72.11714857930906,
          70.69895959530079,
          70.2519057739683,
          70.1109469264914,
          65.68292988965818,
          66.25204584425006,
          66.47453788610763,
          66.74915364694175,
          66.79407389595345,
          62.7353823174988,
          63.586900040214665,
          58.90894882145629,
          60.567155695517336,
          60.07717250799737,
          58.87578791490975,
          59.5141246340353,
          58.69566908574334,
          58.7325335034076,
          61.89367029601109,
          60.051426511867085,
          61.724118264769714,
          59.96614722129987,
          60.274489436934836,
          60.11072919966567,
          61.38851724366858,
          60.299219396062796,
          59.707914025401465,
          56.431651171104626,
          57.28027744619085,
          54.40727245109256,
          53.953092380740145,
          50.60284437489376,
          54.341088797898635,
          52.11673118277266,
          52.3330702157304,
          52.23332188211759,
          54.76328256250743,
          55.82174661259553,
          57.01588398158507,
          57.303014810876014,
          58.6563947342321,
          61.261431430733246,
          61.619659372288254,
          60.58573293269003,
          59.106213430144,
          60.57174384352683,
          61.212983785067244,
          61.196529188136154,
          62.634029667755954,
          61.5206119676457,
          61.218339263362274,
          61.08209832845122,
          61.60566577527748,
          60.006288625158135,
          61.30077758917662,
          61.564728990196535,
          61.891554107284264,
          61.870105504308185,
          62.47994428220185,
          61.990872770478646,
          62.676814520405166,
          61.65935359304126,
          62.11522937796548,
          61.51159242021743,
          62.39413444202986,
          63.51061868287621,
          64.50093373386966,
          66.15385272289159,
          66.4107572963409,
          67.06948266162483,
          67.05727750535775,
          67.12834055279586,
          64.88566566628366,
          65.2490396260247,
          66.27448415387943,
          66.02532533754794,
          66.04074618967734,
          65.68281446205795,
          65.85854346450171,
          65.97213923891854,
          66.28297689548243,
          65.76409334750977,
          66.55484297567158,
          66.63313444451855,
          67.51413801780305,
          67.22526830758912,
          67.18708860822811,
          67.51595383823032,
          67.59486396420064,
          68.45639070965133,
          67.87202141642261,
          67.10694728923482,
          67.21184261663554,
          67.91022558082662,
          67.8200868106635,
          67.83698806315527,
          68.35710302107796,
          68.33662420886319,
          69.3254607597129,
          69.28515704294728,
          69.41381989515686,
          70.28574595711771,
          71.03528084884874,
          70.63186513694052,
          71.69550216968021,
          70.84056317203328,
          71.55376602942445,
          71.1658364532967,
          71.71251234789449,
          71.60492777331554,
          71.96264457058601,
          73.9166949011168,
          74.43570288907421,
          74.58929963848922,
          74.36821390265499,
          72.27565782025368,
          72.10047506755069,
          72.72534166882286,
          72.76843048003282,
          70.87299576598217,
          70.8993371212108,
          71.18234607128667,
          69.94463406336378,
          70.38683964818811,
          70.35255059487127,
          70.61532957971994,
          70.24524262914447,
          71.19968778735765,
          71.70746551796407,
          72.57694485758088,
          72.21825337418599,
          72.00831612887178,
          72.168197528542,
          71.04465821364171,
          67.96850278764512,
          68.70707972737193,
          69.95370093740014,
          69.46185029091407,
          67.0506579808649,
          64.67709210469442,
          64.4769880380467,
          62.06034315745691,
          60.76586687065304,
          61.608634927294936,
          63.15427441919251,
          62.31492199403228,
          62.34567928354506,
          60.07425637475465,
          61.30350971733294,
          61.89793611072617,
          60.999069636228256,
          62.118458924086966,
          61.7853834854723,
          64.33965978888573,
          65.08329072356702,
          64.90124256430924,
          65.06193161829545,
          66.40342016526246,
          66.51048331780709,
          66.57272682118858,
          66.50363822697722,
          62.616372170141396,
          63.85655554823446,
          64.09977613799947,
          64.12890255196878,
          64.16758437294824,
          66.85532977308976,
          66.46770203707031,
          66.77143037660495,
          66.47896165141302,
          64.47328087590401,
          63.751387142474236,
          62.00336254259127,
          62.47677065300781,
          63.174306130515646,
          63.787422365784096,
          63.21184874705221,
          63.40624011766883,
          63.43969371662965,
          63.69839721276261,
          64.66108499702898,
          65.12287430687174,
          65.1935455516115,
          62.07056964228066,
          60.00850077500048,
          58.98746208556824,
          56.353996112402626,
          57.3772644150347,
          58.3944062957928,
          58.55678774110146,
          61.17978872047305,
          59.50305540495926,
          58.389598315372304,
          58.62110006648815,
          59.65128973324804,
          59.992333977575235,
          60.29688862345535,
          59.93708755862315,
          59.38452399949957,
          58.74204105138838,
          59.47605165219434,
          60.40724919002436,
          61.036794132098215,
          60.46340204417238,
          58.39786472677052,
          60.62308011808388,
          60.83424995999647,
          61.54202561267103,
          62.52397160979307,
          62.371786756955174,
          60.91367885888465,
          60.44196713705795,
          60.21452760003433,
          68.56450109188617,
          64.55111219942549,
          63.91121225374841,
          64.31673630468967,
          64.24871411983125,
          64.75796220058349,
          63.17759881532986,
          62.48670210864196,
          62.71697443660579,
          61.9355871012457,
          60.873226745373096,
          60.77284025929829,
          57.84454158712816,
          57.797887377612895,
          58.28536851937888,
          58.33196199104508,
          58.25689123483293,
          58.31846775491385,
          59.052382693614696,
          60.40971097146529,
          59.38506820873239,
          58.83007897820195,
          59.382363766196704,
          59.85300009436635,
          59.443127461837385,
          59.007842630873064,
          59.6649517984986,
          61.05882044316639,
          61.609302479229044,
          62.00798806782807,
          61.59209060742086,
          61.60767917630251,
          60.65707466736231,
          60.2807139944529,
          60.20764628188633,
          62.018330493244086,
          62.856195845946225,
          61.81086540756028,
          62.308784842491605,
          62.462890458866994,
          62.1998927778267,
          62.079962706508084,
          62.35148724699844,
          62.27379122596734,
          63.25074799941052,
          62.455600798671014,
          61.03632624623965,
          62.35084361749556,
          63.813919776172625,
          63.395747300416986,
          63.677219148773545,
          64.2186761490009,
          64.05634038027911,
          62.536412772082535,
          62.449385970982235,
          60.88374241346279,
          62.92647967350295,
          63.27742588635702,
          64.35386657045943,
          64.23275033424095,
          64.35371941562299,
          63.74979306372757,
          64.19352013196591,
          65.1395098291793,
          65.30885410352178,
          66.06870670436973,
          66.14456977694333,
          66.52823399135526,
          66.15196332315463,
          66.39362537465158,
          67.14149304249524,
          67.85882150765732,
          68.13635308679281,
          68.42752977367581,
          68.37825165021788,
          66.37410110569309,
          68.53238209536818,
          68.78965814919914,
          68.33052891944071,
          65.622210880356,
          65.45307338233137,
          64.96525866331396,
          64.25448794253366,
          64.49245598258531,
          64.00747228594055,
          64.6045340128506,
          64.81125875424343,
          64.60605555027098,
          63.298100181907245,
          62.14383011847719,
          60.781101833866366,
          59.41947893526258,
          59.52189147284356,
          59.76844648312887,
          58.36722796291485,
          58.21757410987519,
          58.17990125863534,
          54.189772699711206,
          55.335458269429616,
          54.845242513766756,
          54.52652124259945,
          53.34513667453108,
          53.997885795461784,
          55.65065511268805,
          56.26673837491503,
          57.276226903904615,
          57.7052824953624,
          59.046792166524504,
          59.26541776447763,
          58.55989021038717,
          56.44766130095334,
          55.07678986363505,
          53.51831909337763,
          52.27013320082897,
          50.62008372976598,
          50.509558387694646,
          51.76152757598654,
          51.128611814120916,
          50.09384688463279,
          45.53991112021041,
          34.95830334493525,
          37.311578965894476,
          35.60193721915028,
          33.44098729100478,
          33.85804836559853,
          30.165094262146567,
          28.903246246554815,
          25.010517942493756,
          28.359204369126076,
          26.893588148805545,
          27.133873549491,
          27.11302318910499,
          27.376245122142866,
          26.389244012699134,
          25.02927132154282,
          22.878299286909222,
          22.7625110164212,
          22.71626536246715,
          29.585523986208706,
          33.759753190323515,
          33.128349174356565,
          32.01824639600999,
          32.80662477350557,
          31.498150457432352,
          31.777582184272813,
          29.668387318017146,
          27.831256860739934,
          27.822381196531104,
          28.032280029978,
          25.679338566624654,
          19.662931906538713,
          20.430936385405587,
          21.153355139103304,
          21.429222997870987,
          20.066655738525203,
          20.47778319700091,
          22.4128452015718,
          25.108639641538335,
          25.254716515797593,
          27.16500830475036,
          30.76703059071199,
          29.71490354718159,
          29.571500594421547,
          30.889007532850524,
          29.644004081403953,
          30.027722711126465,
          29.189184652922876,
          31.073360269250244,
          32.37894467389847,
          34.71641540678105,
          34.62629174319928,
          35.75136344226185,
          36.01774123794556,
          35.18235739842098,
          36.15456353828631,
          34.757803634453936,
          35.32046140033648,
          35.288085950559584,
          35.32991961135168,
          39.39143726133165,
          39.679873116595466,
          40.05851900165711,
          42.203005660187884,
          40.81344900290817,
          41.24632593591671,
          41.66676820558035,
          38.68061880661782,
          38.80897819743031,
          39.60567613450945,
          40.88739539371914,
          40.71147287931383,
          41.5078264921762,
          42.13682830622811,
          43.04293848673401,
          42.6421402788872,
          40.43732868665493,
          41.065125517994375,
          40.955284082664896,
          41.69661153927973,
          41.156628454911484,
          41.158436460576844,
          43.04343199077963,
          43.05273125793787,
          43.12333087787824,
          43.280728148663215,
          42.38450012900827,
          43.22907633611644,
          42.701340128601885,
          42.923206173969234,
          43.73687145992132,
          43.37023058495421,
          43.17845475849828,
          43.270838496118394,
          44.26742869357031,
          44.2690426496949,
          43.37412042425845,
          43.36191730599327,
          43.385993785596554,
          43.22703523725209,
          43.7334279449212,
          42.95783525032699,
          43.315220841140345,
          43.23620529442878,
          44.388280750453724,
          45.10925178323688,
          45.09962467049626,
          44.44658386122882,
          44.97989662773723,
          44.49246467185243,
          45.4140945713792,
          44.94767312141492,
          44.8372496312213,
          45.3397749944473,
          45.439058853821344,
          45.3833738881941,
          44.924180262233044,
          44.38310235776542,
          45.10026037412589,
          45.79854110149039,
          45.64759739814365,
          45.133791551043124,
          45.06064336181108,
          45.08763572212036,
          44.45666282147523,
          44.10276232113898,
          42.715301995708835,
          39.92796432734058,
          40.787837231573924,
          40.00705562200987,
          39.878354137315476,
          39.609692996574694,
          40.491334292267446,
          42.121698628329206,
          43.23311142558961,
          43.165356803916694,
          41.53751053178777,
          41.746502123201,
          41.72646732445631,
          41.93728393736248,
          41.9177419756575,
          42.41241951025235,
          41.076422444500416,
          40.99752178604636,
          40.9332485562547,
          39.33947688625786,
          41.24487118071206,
          42.50851893952459,
          42.02608321812105,
          43.32715500799219,
          42.82429387189264,
          41.80827419292662,
          42.436324853501716,
          43.24130902635026,
          43.160655515972806,
          42.961964677349535,
          42.63551188691288,
          43.13987957140368,
          41.77116122737242,
          42.47527534625264,
          41.75182490323713,
          40.54832719474417,
          41.186006099120256,
          39.16346596575166,
          37.779403218455585,
          37.45892392829433,
          37.43287391814312,
          39.61026479026412,
          41.11118141948723,
          40.953021199075366,
          39.55112788024638,
          42.304742185537066,
          43.45366025294997,
          43.824088718592535,
          43.56201702829924,
          42.82226571124084,
          43.78932860625392,
          43.71119922024245,
          44.338552148599724,
          44.18970171339361,
          44.94371511917061,
          45.991838039382436,
          47.77341093782605,
          48.5575623135427,
          48.2170273045719,
          47.64078437112735,
          47.61485537075032,
          48.21064152998504,
          48.67540373227856,
          49.229424182661354,
          48.80523056741391,
          48.8604898559156,
          48.84842350739656,
          50.19275839507315,
          49.947591324988835,
          50.312220577926375,
          50.72674347553302,
          51.061681262111975,
          51.484356619654434,
          52.2247206152027,
          50.95608329347307,
          50.163629984948194,
          51.146208262783546,
          51.241062945941366,
          50.898832411091654,
          51.09308168696769,
          51.31490799076417,
          51.09890162572526,
          53.506839577357475,
          54.202954727143215,
          54.411570853604324,
          55.93637291980914,
          55.63542708736624,
          56.58438702820631,
          56.051941695809035,
          56.43736013166338,
          55.13514487192742,
          55.90646285052092,
          56.02512597004191,
          56.111583845483814,
          55.44207415432033,
          55.87769278349612,
          55.88276454520294,
          55.82330060545831,
          55.54477103082467,
          55.87014742653584,
          55.865554451684154,
          57.40131701819487,
          58.379846573469166,
          58.83301943472708,
          59.33111778616905,
          60.50549472252532,
          61.04929036414855,
          61.46754174545492,
          61.15571509348233,
          62.39274032279833,
          63.274022095500065,
          64.3049311272618,
          63.94271434382064,
          62.98266346909999,
          65.15960536001859,
          65.28635636052708,
          67.01750196191024,
          66.84975308264279,
          66.20006467161264,
          65.97193622365445,
          62.82201678630027,
          64.08583263063423,
          66.52800467072163,
          69.2170229897879,
          68.27354841637728,
          67.62767202684505,
          67.88070544040406,
          69.53664549936978,
          69.20062209007165,
          68.93728179478428,
          68.41055696188899,
          68.02157499280493,
          63.47008252323231,
          64.5885748860612,
          64.49446776855804,
          60.97110238322601,
          64.35506818415917,
          61.88551903717057,
          64.5852276664259,
          64.84979947139165,
          64.22279598391859,
          63.59480828700833,
          63.59392597038539,
          62.200193211359036,
          62.74894117362546,
          63.09718839113813,
          63.200738093884674,
          62.96892780079295,
          63.272059689062324,
          63.63974321038562,
          66.44922329358002,
          66.8645476841402,
          66.82978518323662,
          67.04918216911467,
          66.58105102888062,
          65.39200020863862,
          65.41560210755945,
          66.05079732089048,
          65.65525976584779,
          66.41174724434109,
          67.2049265053498,
          68.49986457251956,
          67.29512485849556,
          67.34584105553316,
          68.8579331465848,
          68.08967979344585,
          68.32763544221847,
          68.29527338806182,
          68.54292262559629,
          69.28140935673032,
          67.13733894619703,
          68.70550705055285,
          69.33863340048288,
          68.76125269714491,
          66.78520666859222,
          65.21183487841442,
          66.37610755081066,
          68.30682403853214,
          68.61863041162317,
          68.89643921141919,
          69.43253568168879,
          69.61251285197173,
          69.63782107844924,
          71.27794562382523,
          71.2695803368303,
          71.9007254868359,
          71.49261194991156,
          72.2094586986275,
          72.1940819400358,
          72.52167466357244,
          72.67523670822658,
          72.85451182043168,
          73.93970226076269,
          74.34851464963333,
          73.15084004796846,
          73.53126375334446,
          74.80146591885992,
          74.78851423131456,
          75.20406828471148,
          75.53255760294815,
          76.15153984041777,
          74.73832796403565,
          74.80613193452744,
          75.08092818624915,
          75.80127919192726,
          76.14554252520182,
          74.60842162455772,
          73.52557986017423,
          74.08402186043261,
          75.44813777270718,
          75.15480957174682,
          76.47014133621309,
          74.79552461879908,
          73.59643321836813,
          73.58280743578577,
          68.80811515352875,
          69.44088293557363,
          71.98066743978981,
          73.66221276878262,
          74.10344540787406,
          74.50582644746406,
          74.47679883598849,
          74.737226309218,
          75.9862940987003,
          76.28959283271838,
          73.05777172818787,
          72.52622143372221,
          70.41132243855319,
          71.29286837953643,
          70.66322448932014,
          69.14444769483666,
          70.59150557920562,
          71.3312608496743,
          71.32647687764492,
          70.64043783677394,
          69.57250866003814,
          69.064203272745,
          68.2553409631285,
          66.53689039997631,
          65.26282100478345,
          68.59428771897429,
          70.83475660612994,
          72.20845766645729,
          71.13033241664165,
          72.68474928330589,
          73.31552785723903,
          73.02011426920855,
          71.67284678336287,
          72.9982883084693,
          72.5635500108209,
          71.76716397357669,
          72.5778489741533,
          71.45705235717793,
          72.90489377885504,
          73.42450100813842,
          73.60883068826311,
          75.39037749277534,
          75.61451372065522,
          75.38467630919364,
          73.99260692819784,
          74.372180244878,
          76.07406104148637,
          77.16554059166931,
          78.06173703090613,
          79.46863179748202,
          79.08704982741631,
          78.6978211089478,
          78.52831666890846,
          79.24284887552433,
          81.15564660006343,
          82.469420461557,
          81.14429092965698,
          81.97736640978633,
          82.32063106272398,
          83.60267773673243,
          83.40484933276885,
          83.2196738575181,
          83.96792422547331,
          84.79834825646984,
          84.34486651977706,
          85.07911028515962,
          85.75955362436545,
          84.65509225718449,
          85.53770408365709,
          85.92331936202916,
          86.3885148824709,
          84.65375268867663,
          84.38668339620034,
          84.34986561310741,
          84.68977597133431,
          84.71199302761713,
          82.10954611840471,
          80.67219105418427,
          82.6370177269149,
          83.31443770333654,
          84.7459874571127,
          82.70429802707218,
          82.94249850964464,
          82.1553153760702,
          82.07793176769155,
          82.40512711083426,
          80.35719473745063,
          81.26448203040205,
          78.92578881314891,
          79.7441680466226,
          82.13643315093928,
          82.19645565147906,
          82.32659707822229,
          73.12202998054094,
          73.66817112243828,
          70.53461304782391,
          69.02095399242582,
          69.62843950994854,
          69.82380979247002,
          72.95303711251212,
          75.27155555530628,
          75.80197748323907,
          74.50572045597451,
          75.1589054722285,
          74.38203084978275,
          73.75792230572755,
          73.87659246431089,
          74.95782950620024,
          73.55806274847045,
          71.65604261768543,
          73.90185655299628,
          75.14344386751735,
          76.79299717768788,
          78.51310144522654,
          78.91011474229941,
          79.23879318263636,
          79.31506078414394,
          79.20745872070306,
          78.99320548132188,
          79.96196740703331,
          80.73997479974378,
          81.93992507339527,
          81.74467543778432,
          80.9303585913441,
          83.62137709249401,
          84.54932441582655,
          84.5025477134041,
          86.01703581331462,
          87.41100331095015,
          88.3964468819081,
          88.38556539344906,
          87.92684981002581,
          86.34473198186328,
          88.15279186855311,
          89.8166791773755,
          89.35486656877183,
          90.0475143279649,
          91.13587334736921,
          91.27044237126364,
          89.56050350154152,
          91.08997838126295,
          93.11227313387249,
          92.68808642178394,
          90.90721568482347,
          91.55785459845612,
          91.36309350974442,
          94.33565352801443,
          96.3220652691383,
          93.40473020309847,
          94.86633431880261,
          92.95241131260167,
          93.58831826563298,
          96.65979492196381,
          96.7647925255416,
          99.04659172201502,
          97.92120330120558,
          100.92960307051263,
          100.76275517915624,
          112.48163678723822,
          110.32785651957987,
          117.9608095471351,
          122.86951348866837,
          127.93331480199667,
          111.89600651126104,
          109.720423226798,
          112.4723428025001,
          107.06257305139268,
          100.39299528465571,
          98.15332162508142,
          106.26210666988547,
          107.60629838680157,
          115.36795041302861,
          115.32810610691392,
          121.4417308375064,
          119.0293827303049
         ],
         "yaxis": "y"
        }
       ],
       "layout": {
        "legend": {
         "title": {
          "text": "variable"
         },
         "tracegroupgap": 0
        },
        "template": {
         "data": {
          "bar": [
           {
            "error_x": {
             "color": "#2a3f5f"
            },
            "error_y": {
             "color": "#2a3f5f"
            },
            "marker": {
             "line": {
              "color": "#E5ECF6",
              "width": 0.5
             },
             "pattern": {
              "fillmode": "overlay",
              "size": 10,
              "solidity": 0.2
             }
            },
            "type": "bar"
           }
          ],
          "barpolar": [
           {
            "marker": {
             "line": {
              "color": "#E5ECF6",
              "width": 0.5
             },
             "pattern": {
              "fillmode": "overlay",
              "size": 10,
              "solidity": 0.2
             }
            },
            "type": "barpolar"
           }
          ],
          "carpet": [
           {
            "aaxis": {
             "endlinecolor": "#2a3f5f",
             "gridcolor": "white",
             "linecolor": "white",
             "minorgridcolor": "white",
             "startlinecolor": "#2a3f5f"
            },
            "baxis": {
             "endlinecolor": "#2a3f5f",
             "gridcolor": "white",
             "linecolor": "white",
             "minorgridcolor": "white",
             "startlinecolor": "#2a3f5f"
            },
            "type": "carpet"
           }
          ],
          "choropleth": [
           {
            "colorbar": {
             "outlinewidth": 0,
             "ticks": ""
            },
            "type": "choropleth"
           }
          ],
          "contour": [
           {
            "colorbar": {
             "outlinewidth": 0,
             "ticks": ""
            },
            "colorscale": [
             [
              0,
              "#0d0887"
             ],
             [
              0.1111111111111111,
              "#46039f"
             ],
             [
              0.2222222222222222,
              "#7201a8"
             ],
             [
              0.3333333333333333,
              "#9c179e"
             ],
             [
              0.4444444444444444,
              "#bd3786"
             ],
             [
              0.5555555555555556,
              "#d8576b"
             ],
             [
              0.6666666666666666,
              "#ed7953"
             ],
             [
              0.7777777777777778,
              "#fb9f3a"
             ],
             [
              0.8888888888888888,
              "#fdca26"
             ],
             [
              1,
              "#f0f921"
             ]
            ],
            "type": "contour"
           }
          ],
          "contourcarpet": [
           {
            "colorbar": {
             "outlinewidth": 0,
             "ticks": ""
            },
            "type": "contourcarpet"
           }
          ],
          "heatmap": [
           {
            "colorbar": {
             "outlinewidth": 0,
             "ticks": ""
            },
            "colorscale": [
             [
              0,
              "#0d0887"
             ],
             [
              0.1111111111111111,
              "#46039f"
             ],
             [
              0.2222222222222222,
              "#7201a8"
             ],
             [
              0.3333333333333333,
              "#9c179e"
             ],
             [
              0.4444444444444444,
              "#bd3786"
             ],
             [
              0.5555555555555556,
              "#d8576b"
             ],
             [
              0.6666666666666666,
              "#ed7953"
             ],
             [
              0.7777777777777778,
              "#fb9f3a"
             ],
             [
              0.8888888888888888,
              "#fdca26"
             ],
             [
              1,
              "#f0f921"
             ]
            ],
            "type": "heatmap"
           }
          ],
          "heatmapgl": [
           {
            "colorbar": {
             "outlinewidth": 0,
             "ticks": ""
            },
            "colorscale": [
             [
              0,
              "#0d0887"
             ],
             [
              0.1111111111111111,
              "#46039f"
             ],
             [
              0.2222222222222222,
              "#7201a8"
             ],
             [
              0.3333333333333333,
              "#9c179e"
             ],
             [
              0.4444444444444444,
              "#bd3786"
             ],
             [
              0.5555555555555556,
              "#d8576b"
             ],
             [
              0.6666666666666666,
              "#ed7953"
             ],
             [
              0.7777777777777778,
              "#fb9f3a"
             ],
             [
              0.8888888888888888,
              "#fdca26"
             ],
             [
              1,
              "#f0f921"
             ]
            ],
            "type": "heatmapgl"
           }
          ],
          "histogram": [
           {
            "marker": {
             "pattern": {
              "fillmode": "overlay",
              "size": 10,
              "solidity": 0.2
             }
            },
            "type": "histogram"
           }
          ],
          "histogram2d": [
           {
            "colorbar": {
             "outlinewidth": 0,
             "ticks": ""
            },
            "colorscale": [
             [
              0,
              "#0d0887"
             ],
             [
              0.1111111111111111,
              "#46039f"
             ],
             [
              0.2222222222222222,
              "#7201a8"
             ],
             [
              0.3333333333333333,
              "#9c179e"
             ],
             [
              0.4444444444444444,
              "#bd3786"
             ],
             [
              0.5555555555555556,
              "#d8576b"
             ],
             [
              0.6666666666666666,
              "#ed7953"
             ],
             [
              0.7777777777777778,
              "#fb9f3a"
             ],
             [
              0.8888888888888888,
              "#fdca26"
             ],
             [
              1,
              "#f0f921"
             ]
            ],
            "type": "histogram2d"
           }
          ],
          "histogram2dcontour": [
           {
            "colorbar": {
             "outlinewidth": 0,
             "ticks": ""
            },
            "colorscale": [
             [
              0,
              "#0d0887"
             ],
             [
              0.1111111111111111,
              "#46039f"
             ],
             [
              0.2222222222222222,
              "#7201a8"
             ],
             [
              0.3333333333333333,
              "#9c179e"
             ],
             [
              0.4444444444444444,
              "#bd3786"
             ],
             [
              0.5555555555555556,
              "#d8576b"
             ],
             [
              0.6666666666666666,
              "#ed7953"
             ],
             [
              0.7777777777777778,
              "#fb9f3a"
             ],
             [
              0.8888888888888888,
              "#fdca26"
             ],
             [
              1,
              "#f0f921"
             ]
            ],
            "type": "histogram2dcontour"
           }
          ],
          "mesh3d": [
           {
            "colorbar": {
             "outlinewidth": 0,
             "ticks": ""
            },
            "type": "mesh3d"
           }
          ],
          "parcoords": [
           {
            "line": {
             "colorbar": {
              "outlinewidth": 0,
              "ticks": ""
             }
            },
            "type": "parcoords"
           }
          ],
          "pie": [
           {
            "automargin": true,
            "type": "pie"
           }
          ],
          "scatter": [
           {
            "marker": {
             "colorbar": {
              "outlinewidth": 0,
              "ticks": ""
             }
            },
            "type": "scatter"
           }
          ],
          "scatter3d": [
           {
            "line": {
             "colorbar": {
              "outlinewidth": 0,
              "ticks": ""
             }
            },
            "marker": {
             "colorbar": {
              "outlinewidth": 0,
              "ticks": ""
             }
            },
            "type": "scatter3d"
           }
          ],
          "scattercarpet": [
           {
            "marker": {
             "colorbar": {
              "outlinewidth": 0,
              "ticks": ""
             }
            },
            "type": "scattercarpet"
           }
          ],
          "scattergeo": [
           {
            "marker": {
             "colorbar": {
              "outlinewidth": 0,
              "ticks": ""
             }
            },
            "type": "scattergeo"
           }
          ],
          "scattergl": [
           {
            "marker": {
             "colorbar": {
              "outlinewidth": 0,
              "ticks": ""
             }
            },
            "type": "scattergl"
           }
          ],
          "scattermapbox": [
           {
            "marker": {
             "colorbar": {
              "outlinewidth": 0,
              "ticks": ""
             }
            },
            "type": "scattermapbox"
           }
          ],
          "scatterpolar": [
           {
            "marker": {
             "colorbar": {
              "outlinewidth": 0,
              "ticks": ""
             }
            },
            "type": "scatterpolar"
           }
          ],
          "scatterpolargl": [
           {
            "marker": {
             "colorbar": {
              "outlinewidth": 0,
              "ticks": ""
             }
            },
            "type": "scatterpolargl"
           }
          ],
          "scatterternary": [
           {
            "marker": {
             "colorbar": {
              "outlinewidth": 0,
              "ticks": ""
             }
            },
            "type": "scatterternary"
           }
          ],
          "surface": [
           {
            "colorbar": {
             "outlinewidth": 0,
             "ticks": ""
            },
            "colorscale": [
             [
              0,
              "#0d0887"
             ],
             [
              0.1111111111111111,
              "#46039f"
             ],
             [
              0.2222222222222222,
              "#7201a8"
             ],
             [
              0.3333333333333333,
              "#9c179e"
             ],
             [
              0.4444444444444444,
              "#bd3786"
             ],
             [
              0.5555555555555556,
              "#d8576b"
             ],
             [
              0.6666666666666666,
              "#ed7953"
             ],
             [
              0.7777777777777778,
              "#fb9f3a"
             ],
             [
              0.8888888888888888,
              "#fdca26"
             ],
             [
              1,
              "#f0f921"
             ]
            ],
            "type": "surface"
           }
          ],
          "table": [
           {
            "cells": {
             "fill": {
              "color": "#EBF0F8"
             },
             "line": {
              "color": "white"
             }
            },
            "header": {
             "fill": {
              "color": "#C8D4E3"
             },
             "line": {
              "color": "white"
             }
            },
            "type": "table"
           }
          ]
         },
         "layout": {
          "annotationdefaults": {
           "arrowcolor": "#2a3f5f",
           "arrowhead": 0,
           "arrowwidth": 1
          },
          "autotypenumbers": "strict",
          "coloraxis": {
           "colorbar": {
            "outlinewidth": 0,
            "ticks": ""
           }
          },
          "colorscale": {
           "diverging": [
            [
             0,
             "#8e0152"
            ],
            [
             0.1,
             "#c51b7d"
            ],
            [
             0.2,
             "#de77ae"
            ],
            [
             0.3,
             "#f1b6da"
            ],
            [
             0.4,
             "#fde0ef"
            ],
            [
             0.5,
             "#f7f7f7"
            ],
            [
             0.6,
             "#e6f5d0"
            ],
            [
             0.7,
             "#b8e186"
            ],
            [
             0.8,
             "#7fbc41"
            ],
            [
             0.9,
             "#4d9221"
            ],
            [
             1,
             "#276419"
            ]
           ],
           "sequential": [
            [
             0,
             "#0d0887"
            ],
            [
             0.1111111111111111,
             "#46039f"
            ],
            [
             0.2222222222222222,
             "#7201a8"
            ],
            [
             0.3333333333333333,
             "#9c179e"
            ],
            [
             0.4444444444444444,
             "#bd3786"
            ],
            [
             0.5555555555555556,
             "#d8576b"
            ],
            [
             0.6666666666666666,
             "#ed7953"
            ],
            [
             0.7777777777777778,
             "#fb9f3a"
            ],
            [
             0.8888888888888888,
             "#fdca26"
            ],
            [
             1,
             "#f0f921"
            ]
           ],
           "sequentialminus": [
            [
             0,
             "#0d0887"
            ],
            [
             0.1111111111111111,
             "#46039f"
            ],
            [
             0.2222222222222222,
             "#7201a8"
            ],
            [
             0.3333333333333333,
             "#9c179e"
            ],
            [
             0.4444444444444444,
             "#bd3786"
            ],
            [
             0.5555555555555556,
             "#d8576b"
            ],
            [
             0.6666666666666666,
             "#ed7953"
            ],
            [
             0.7777777777777778,
             "#fb9f3a"
            ],
            [
             0.8888888888888888,
             "#fdca26"
            ],
            [
             1,
             "#f0f921"
            ]
           ]
          },
          "colorway": [
           "#636efa",
           "#EF553B",
           "#00cc96",
           "#ab63fa",
           "#FFA15A",
           "#19d3f3",
           "#FF6692",
           "#B6E880",
           "#FF97FF",
           "#FECB52"
          ],
          "font": {
           "color": "#2a3f5f"
          },
          "geo": {
           "bgcolor": "white",
           "lakecolor": "white",
           "landcolor": "#E5ECF6",
           "showlakes": true,
           "showland": true,
           "subunitcolor": "white"
          },
          "hoverlabel": {
           "align": "left"
          },
          "hovermode": "closest",
          "mapbox": {
           "style": "light"
          },
          "paper_bgcolor": "white",
          "plot_bgcolor": "#E5ECF6",
          "polar": {
           "angularaxis": {
            "gridcolor": "white",
            "linecolor": "white",
            "ticks": ""
           },
           "bgcolor": "#E5ECF6",
           "radialaxis": {
            "gridcolor": "white",
            "linecolor": "white",
            "ticks": ""
           }
          },
          "scene": {
           "xaxis": {
            "backgroundcolor": "#E5ECF6",
            "gridcolor": "white",
            "gridwidth": 2,
            "linecolor": "white",
            "showbackground": true,
            "ticks": "",
            "zerolinecolor": "white"
           },
           "yaxis": {
            "backgroundcolor": "#E5ECF6",
            "gridcolor": "white",
            "gridwidth": 2,
            "linecolor": "white",
            "showbackground": true,
            "ticks": "",
            "zerolinecolor": "white"
           },
           "zaxis": {
            "backgroundcolor": "#E5ECF6",
            "gridcolor": "white",
            "gridwidth": 2,
            "linecolor": "white",
            "showbackground": true,
            "ticks": "",
            "zerolinecolor": "white"
           }
          },
          "shapedefaults": {
           "line": {
            "color": "#2a3f5f"
           }
          },
          "ternary": {
           "aaxis": {
            "gridcolor": "white",
            "linecolor": "white",
            "ticks": ""
           },
           "baxis": {
            "gridcolor": "white",
            "linecolor": "white",
            "ticks": ""
           },
           "bgcolor": "#E5ECF6",
           "caxis": {
            "gridcolor": "white",
            "linecolor": "white",
            "ticks": ""
           }
          },
          "title": {
           "x": 0.05
          },
          "xaxis": {
           "automargin": true,
           "gridcolor": "white",
           "linecolor": "white",
           "ticks": "",
           "title": {
            "standoff": 15
           },
           "zerolinecolor": "white",
           "zerolinewidth": 2
          },
          "yaxis": {
           "automargin": true,
           "gridcolor": "white",
           "linecolor": "white",
           "ticks": "",
           "title": {
            "standoff": 15
           },
           "zerolinecolor": "white",
           "zerolinewidth": 2
          }
         }
        },
        "title": {
         "text": "Oil (Brent) currency rate to USD, prediction 2018 - 2022"
        },
        "xaxis": {
         "anchor": "y",
         "domain": [
          0,
          1
         ],
         "title": {
          "text": "Date"
         }
        },
        "yaxis": {
         "anchor": "x",
         "domain": [
          0,
          1
         ],
         "title": {
          "text": "value"
         }
        }
       }
      },
      "text/html": [
       "<div>                            <div id=\"38467542-5d20-4309-a860-65b3f14f8964\" class=\"plotly-graph-div\" style=\"height:525px; width:100%;\"></div>            <script type=\"text/javascript\">                require([\"plotly\"], function(Plotly) {                    window.PLOTLYENV=window.PLOTLYENV || {};                                    if (document.getElementById(\"38467542-5d20-4309-a860-65b3f14f8964\")) {                    Plotly.newPlot(                        \"38467542-5d20-4309-a860-65b3f14f8964\",                        [{\"hovertemplate\":\"variable=Close<br>Date=%{x}<br>value=%{y}<extra></extra>\",\"legendgroup\":\"Close\",\"line\":{\"color\":\"#636efa\",\"dash\":\"solid\"},\"marker\":{\"symbol\":\"circle\"},\"mode\":\"lines\",\"name\":\"Close\",\"showlegend\":true,\"x\":[\"2018-02-02T00:00:00\",\"2018-02-05T00:00:00\",\"2018-02-06T00:00:00\",\"2018-02-07T00:00:00\",\"2018-02-08T00:00:00\",\"2018-02-09T00:00:00\",\"2018-02-12T00:00:00\",\"2018-02-13T00:00:00\",\"2018-02-14T00:00:00\",\"2018-02-15T00:00:00\",\"2018-02-16T00:00:00\",\"2018-02-20T00:00:00\",\"2018-02-21T00:00:00\",\"2018-02-22T00:00:00\",\"2018-02-23T00:00:00\",\"2018-02-26T00:00:00\",\"2018-02-27T00:00:00\",\"2018-02-28T00:00:00\",\"2018-03-01T00:00:00\",\"2018-03-02T00:00:00\",\"2018-03-05T00:00:00\",\"2018-03-06T00:00:00\",\"2018-03-07T00:00:00\",\"2018-03-08T00:00:00\",\"2018-03-09T00:00:00\",\"2018-03-12T00:00:00\",\"2018-03-13T00:00:00\",\"2018-03-14T00:00:00\",\"2018-03-15T00:00:00\",\"2018-03-16T00:00:00\",\"2018-03-19T00:00:00\",\"2018-03-20T00:00:00\",\"2018-03-21T00:00:00\",\"2018-03-22T00:00:00\",\"2018-03-23T00:00:00\",\"2018-03-26T00:00:00\",\"2018-03-27T00:00:00\",\"2018-03-28T00:00:00\",\"2018-03-29T00:00:00\",\"2018-04-02T00:00:00\",\"2018-04-04T00:00:00\",\"2018-04-05T00:00:00\",\"2018-04-06T00:00:00\",\"2018-04-09T00:00:00\",\"2018-04-10T00:00:00\",\"2018-04-11T00:00:00\",\"2018-04-12T00:00:00\",\"2018-04-13T00:00:00\",\"2018-04-16T00:00:00\",\"2018-04-17T00:00:00\",\"2018-04-18T00:00:00\",\"2018-04-19T00:00:00\",\"2018-04-20T00:00:00\",\"2018-04-23T00:00:00\",\"2018-04-24T00:00:00\",\"2018-04-25T00:00:00\",\"2018-04-26T00:00:00\",\"2018-04-27T00:00:00\",\"2018-04-30T00:00:00\",\"2018-05-01T00:00:00\",\"2018-05-02T00:00:00\",\"2018-05-03T00:00:00\",\"2018-05-04T00:00:00\",\"2018-05-07T00:00:00\",\"2018-05-08T00:00:00\",\"2018-05-09T00:00:00\",\"2018-05-10T00:00:00\",\"2018-05-11T00:00:00\",\"2018-05-14T00:00:00\",\"2018-05-15T00:00:00\",\"2018-05-16T00:00:00\",\"2018-05-17T00:00:00\",\"2018-05-18T00:00:00\",\"2018-05-21T00:00:00\",\"2018-05-22T00:00:00\",\"2018-05-23T00:00:00\",\"2018-05-24T00:00:00\",\"2018-05-25T00:00:00\",\"2018-05-29T00:00:00\",\"2018-05-30T00:00:00\",\"2018-05-31T00:00:00\",\"2018-06-01T00:00:00\",\"2018-06-04T00:00:00\",\"2018-06-05T00:00:00\",\"2018-06-06T00:00:00\",\"2018-06-07T00:00:00\",\"2018-06-08T00:00:00\",\"2018-06-11T00:00:00\",\"2018-06-12T00:00:00\",\"2018-06-13T00:00:00\",\"2018-06-14T00:00:00\",\"2018-06-15T00:00:00\",\"2018-06-18T00:00:00\",\"2018-06-19T00:00:00\",\"2018-06-20T00:00:00\",\"2018-06-21T00:00:00\",\"2018-06-22T00:00:00\",\"2018-06-25T00:00:00\",\"2018-06-26T00:00:00\",\"2018-06-27T00:00:00\",\"2018-06-28T00:00:00\",\"2018-06-29T00:00:00\",\"2018-07-02T00:00:00\",\"2018-07-03T00:00:00\",\"2018-07-05T00:00:00\",\"2018-07-06T00:00:00\",\"2018-07-09T00:00:00\",\"2018-07-10T00:00:00\",\"2018-07-11T00:00:00\",\"2018-07-12T00:00:00\",\"2018-07-13T00:00:00\",\"2018-07-16T00:00:00\",\"2018-07-17T00:00:00\",\"2018-07-18T00:00:00\",\"2018-07-19T00:00:00\",\"2018-07-20T00:00:00\",\"2018-07-23T00:00:00\",\"2018-07-24T00:00:00\",\"2018-07-25T00:00:00\",\"2018-07-26T00:00:00\",\"2018-07-27T00:00:00\",\"2018-07-30T00:00:00\",\"2018-07-31T00:00:00\",\"2018-08-01T00:00:00\",\"2018-08-02T00:00:00\",\"2018-08-03T00:00:00\",\"2018-08-06T00:00:00\",\"2018-08-07T00:00:00\",\"2018-08-08T00:00:00\",\"2018-08-09T00:00:00\",\"2018-08-10T00:00:00\",\"2018-08-13T00:00:00\",\"2018-08-14T00:00:00\",\"2018-08-15T00:00:00\",\"2018-08-16T00:00:00\",\"2018-08-17T00:00:00\",\"2018-08-20T00:00:00\",\"2018-08-21T00:00:00\",\"2018-08-22T00:00:00\",\"2018-08-23T00:00:00\",\"2018-08-24T00:00:00\",\"2018-08-27T00:00:00\",\"2018-08-28T00:00:00\",\"2018-08-29T00:00:00\",\"2018-08-30T00:00:00\",\"2018-08-31T00:00:00\",\"2018-09-04T00:00:00\",\"2018-09-05T00:00:00\",\"2018-09-06T00:00:00\",\"2018-09-07T00:00:00\",\"2018-09-10T00:00:00\",\"2018-09-11T00:00:00\",\"2018-09-12T00:00:00\",\"2018-09-13T00:00:00\",\"2018-09-14T00:00:00\",\"2018-09-17T00:00:00\",\"2018-09-18T00:00:00\",\"2018-09-19T00:00:00\",\"2018-09-20T00:00:00\",\"2018-09-21T00:00:00\",\"2018-09-24T00:00:00\",\"2018-09-25T00:00:00\",\"2018-09-26T00:00:00\",\"2018-09-27T00:00:00\",\"2018-09-28T00:00:00\",\"2018-10-01T00:00:00\",\"2018-10-02T00:00:00\",\"2018-10-03T00:00:00\",\"2018-10-04T00:00:00\",\"2018-10-05T00:00:00\",\"2018-10-08T00:00:00\",\"2018-10-09T00:00:00\",\"2018-10-10T00:00:00\",\"2018-10-11T00:00:00\",\"2018-10-12T00:00:00\",\"2018-10-15T00:00:00\",\"2018-10-16T00:00:00\",\"2018-10-17T00:00:00\",\"2018-10-18T00:00:00\",\"2018-10-19T00:00:00\",\"2018-10-22T00:00:00\",\"2018-10-23T00:00:00\",\"2018-10-24T00:00:00\",\"2018-10-25T00:00:00\",\"2018-10-26T00:00:00\",\"2018-10-29T00:00:00\",\"2018-10-30T00:00:00\",\"2018-10-31T00:00:00\",\"2018-11-01T00:00:00\",\"2018-11-02T00:00:00\",\"2018-11-05T00:00:00\",\"2018-11-06T00:00:00\",\"2018-11-07T00:00:00\",\"2018-11-08T00:00:00\",\"2018-11-09T00:00:00\",\"2018-11-12T00:00:00\",\"2018-11-13T00:00:00\",\"2018-11-14T00:00:00\",\"2018-11-15T00:00:00\",\"2018-11-16T00:00:00\",\"2018-11-19T00:00:00\",\"2018-11-20T00:00:00\",\"2018-11-21T00:00:00\",\"2018-11-23T00:00:00\",\"2018-11-26T00:00:00\",\"2018-11-27T00:00:00\",\"2018-11-28T00:00:00\",\"2018-11-29T00:00:00\",\"2018-11-30T00:00:00\",\"2018-12-03T00:00:00\",\"2018-12-04T00:00:00\",\"2018-12-06T00:00:00\",\"2018-12-07T00:00:00\",\"2018-12-10T00:00:00\",\"2018-12-11T00:00:00\",\"2018-12-12T00:00:00\",\"2018-12-13T00:00:00\",\"2018-12-14T00:00:00\",\"2018-12-17T00:00:00\",\"2018-12-18T00:00:00\",\"2018-12-19T00:00:00\",\"2018-12-20T00:00:00\",\"2018-12-21T00:00:00\",\"2018-12-24T00:00:00\",\"2018-12-26T00:00:00\",\"2018-12-27T00:00:00\",\"2018-12-28T00:00:00\",\"2018-12-31T00:00:00\",\"2019-01-02T00:00:00\",\"2019-01-03T00:00:00\",\"2019-01-04T00:00:00\",\"2019-01-07T00:00:00\",\"2019-01-08T00:00:00\",\"2019-01-09T00:00:00\",\"2019-01-10T00:00:00\",\"2019-01-11T00:00:00\",\"2019-01-14T00:00:00\",\"2019-01-15T00:00:00\",\"2019-01-16T00:00:00\",\"2019-01-17T00:00:00\",\"2019-01-18T00:00:00\",\"2019-01-22T00:00:00\",\"2019-01-23T00:00:00\",\"2019-01-24T00:00:00\",\"2019-01-25T00:00:00\",\"2019-01-28T00:00:00\",\"2019-01-29T00:00:00\",\"2019-01-30T00:00:00\",\"2019-01-31T00:00:00\",\"2019-02-01T00:00:00\",\"2019-02-04T00:00:00\",\"2019-02-05T00:00:00\",\"2019-02-06T00:00:00\",\"2019-02-07T00:00:00\",\"2019-02-08T00:00:00\",\"2019-02-11T00:00:00\",\"2019-02-12T00:00:00\",\"2019-02-13T00:00:00\",\"2019-02-14T00:00:00\",\"2019-02-15T00:00:00\",\"2019-02-19T00:00:00\",\"2019-02-20T00:00:00\",\"2019-02-21T00:00:00\",\"2019-02-22T00:00:00\",\"2019-02-25T00:00:00\",\"2019-02-26T00:00:00\",\"2019-02-27T00:00:00\",\"2019-02-28T00:00:00\",\"2019-03-01T00:00:00\",\"2019-03-04T00:00:00\",\"2019-03-05T00:00:00\",\"2019-03-06T00:00:00\",\"2019-03-07T00:00:00\",\"2019-03-08T00:00:00\",\"2019-03-11T00:00:00\",\"2019-03-12T00:00:00\",\"2019-03-13T00:00:00\",\"2019-03-14T00:00:00\",\"2019-03-15T00:00:00\",\"2019-03-18T00:00:00\",\"2019-03-19T00:00:00\",\"2019-03-20T00:00:00\",\"2019-03-21T00:00:00\",\"2019-03-22T00:00:00\",\"2019-03-25T00:00:00\",\"2019-03-26T00:00:00\",\"2019-03-27T00:00:00\",\"2019-03-28T00:00:00\",\"2019-03-29T00:00:00\",\"2019-04-01T00:00:00\",\"2019-04-02T00:00:00\",\"2019-04-03T00:00:00\",\"2019-04-04T00:00:00\",\"2019-04-05T00:00:00\",\"2019-04-08T00:00:00\",\"2019-04-09T00:00:00\",\"2019-04-10T00:00:00\",\"2019-04-11T00:00:00\",\"2019-04-12T00:00:00\",\"2019-04-15T00:00:00\",\"2019-04-16T00:00:00\",\"2019-04-17T00:00:00\",\"2019-04-18T00:00:00\",\"2019-04-22T00:00:00\",\"2019-04-23T00:00:00\",\"2019-04-24T00:00:00\",\"2019-04-25T00:00:00\",\"2019-04-26T00:00:00\",\"2019-04-29T00:00:00\",\"2019-04-30T00:00:00\",\"2019-05-01T00:00:00\",\"2019-05-02T00:00:00\",\"2019-05-03T00:00:00\",\"2019-05-06T00:00:00\",\"2019-05-07T00:00:00\",\"2019-05-08T00:00:00\",\"2019-05-09T00:00:00\",\"2019-05-10T00:00:00\",\"2019-05-13T00:00:00\",\"2019-05-14T00:00:00\",\"2019-05-15T00:00:00\",\"2019-05-16T00:00:00\",\"2019-05-17T00:00:00\",\"2019-05-20T00:00:00\",\"2019-05-21T00:00:00\",\"2019-05-22T00:00:00\",\"2019-05-23T00:00:00\",\"2019-05-24T00:00:00\",\"2019-05-28T00:00:00\",\"2019-05-29T00:00:00\",\"2019-05-30T00:00:00\",\"2019-05-31T00:00:00\",\"2019-06-03T00:00:00\",\"2019-06-04T00:00:00\",\"2019-06-05T00:00:00\",\"2019-06-06T00:00:00\",\"2019-06-07T00:00:00\",\"2019-06-10T00:00:00\",\"2019-06-11T00:00:00\",\"2019-06-12T00:00:00\",\"2019-06-13T00:00:00\",\"2019-06-14T00:00:00\",\"2019-06-17T00:00:00\",\"2019-06-18T00:00:00\",\"2019-06-19T00:00:00\",\"2019-06-20T00:00:00\",\"2019-06-21T00:00:00\",\"2019-06-24T00:00:00\",\"2019-06-25T00:00:00\",\"2019-06-26T00:00:00\",\"2019-06-27T00:00:00\",\"2019-06-28T00:00:00\",\"2019-07-01T00:00:00\",\"2019-07-02T00:00:00\",\"2019-07-03T00:00:00\",\"2019-07-05T00:00:00\",\"2019-07-08T00:00:00\",\"2019-07-09T00:00:00\",\"2019-07-10T00:00:00\",\"2019-07-11T00:00:00\",\"2019-07-12T00:00:00\",\"2019-07-15T00:00:00\",\"2019-07-16T00:00:00\",\"2019-07-17T00:00:00\",\"2019-07-18T00:00:00\",\"2019-07-19T00:00:00\",\"2019-07-22T00:00:00\",\"2019-07-23T00:00:00\",\"2019-07-24T00:00:00\",\"2019-07-25T00:00:00\",\"2019-07-26T00:00:00\",\"2019-07-29T00:00:00\",\"2019-07-30T00:00:00\",\"2019-07-31T00:00:00\",\"2019-08-01T00:00:00\",\"2019-08-02T00:00:00\",\"2019-08-05T00:00:00\",\"2019-08-06T00:00:00\",\"2019-08-07T00:00:00\",\"2019-08-08T00:00:00\",\"2019-08-09T00:00:00\",\"2019-08-12T00:00:00\",\"2019-08-13T00:00:00\",\"2019-08-14T00:00:00\",\"2019-08-15T00:00:00\",\"2019-08-16T00:00:00\",\"2019-08-19T00:00:00\",\"2019-08-20T00:00:00\",\"2019-08-21T00:00:00\",\"2019-08-22T00:00:00\",\"2019-08-23T00:00:00\",\"2019-08-26T00:00:00\",\"2019-08-27T00:00:00\",\"2019-08-28T00:00:00\",\"2019-08-29T00:00:00\",\"2019-08-30T00:00:00\",\"2019-09-03T00:00:00\",\"2019-09-04T00:00:00\",\"2019-09-05T00:00:00\",\"2019-09-06T00:00:00\",\"2019-09-09T00:00:00\",\"2019-09-10T00:00:00\",\"2019-09-11T00:00:00\",\"2019-09-12T00:00:00\",\"2019-09-13T00:00:00\",\"2019-09-16T00:00:00\",\"2019-09-17T00:00:00\",\"2019-09-18T00:00:00\",\"2019-09-19T00:00:00\",\"2019-09-20T00:00:00\",\"2019-09-23T00:00:00\",\"2019-09-24T00:00:00\",\"2019-09-25T00:00:00\",\"2019-09-26T00:00:00\",\"2019-09-27T00:00:00\",\"2019-09-30T00:00:00\",\"2019-10-01T00:00:00\",\"2019-10-02T00:00:00\",\"2019-10-03T00:00:00\",\"2019-10-04T00:00:00\",\"2019-10-07T00:00:00\",\"2019-10-08T00:00:00\",\"2019-10-09T00:00:00\",\"2019-10-10T00:00:00\",\"2019-10-11T00:00:00\",\"2019-10-14T00:00:00\",\"2019-10-15T00:00:00\",\"2019-10-16T00:00:00\",\"2019-10-17T00:00:00\",\"2019-10-18T00:00:00\",\"2019-10-21T00:00:00\",\"2019-10-22T00:00:00\",\"2019-10-23T00:00:00\",\"2019-10-24T00:00:00\",\"2019-10-25T00:00:00\",\"2019-10-28T00:00:00\",\"2019-10-29T00:00:00\",\"2019-10-30T00:00:00\",\"2019-10-31T00:00:00\",\"2019-11-01T00:00:00\",\"2019-11-04T00:00:00\",\"2019-11-05T00:00:00\",\"2019-11-06T00:00:00\",\"2019-11-07T00:00:00\",\"2019-11-08T00:00:00\",\"2019-11-11T00:00:00\",\"2019-11-12T00:00:00\",\"2019-11-13T00:00:00\",\"2019-11-14T00:00:00\",\"2019-11-15T00:00:00\",\"2019-11-18T00:00:00\",\"2019-11-19T00:00:00\",\"2019-11-20T00:00:00\",\"2019-11-21T00:00:00\",\"2019-11-22T00:00:00\",\"2019-11-25T00:00:00\",\"2019-11-26T00:00:00\",\"2019-11-27T00:00:00\",\"2019-11-29T00:00:00\",\"2019-12-02T00:00:00\",\"2019-12-03T00:00:00\",\"2019-12-04T00:00:00\",\"2019-12-05T00:00:00\",\"2019-12-06T00:00:00\",\"2019-12-09T00:00:00\",\"2019-12-10T00:00:00\",\"2019-12-11T00:00:00\",\"2019-12-12T00:00:00\",\"2019-12-13T00:00:00\",\"2019-12-16T00:00:00\",\"2019-12-17T00:00:00\",\"2019-12-18T00:00:00\",\"2019-12-19T00:00:00\",\"2019-12-20T00:00:00\",\"2019-12-23T00:00:00\",\"2019-12-24T00:00:00\",\"2019-12-26T00:00:00\",\"2019-12-27T00:00:00\",\"2019-12-30T00:00:00\",\"2019-12-31T00:00:00\",\"2020-01-02T00:00:00\",\"2020-01-03T00:00:00\",\"2020-01-06T00:00:00\",\"2020-01-07T00:00:00\",\"2020-01-08T00:00:00\",\"2020-01-09T00:00:00\",\"2020-01-10T00:00:00\",\"2020-01-13T00:00:00\",\"2020-01-14T00:00:00\",\"2020-01-15T00:00:00\",\"2020-01-16T00:00:00\",\"2020-01-17T00:00:00\",\"2020-01-21T00:00:00\",\"2020-01-22T00:00:00\",\"2020-01-23T00:00:00\",\"2020-01-24T00:00:00\",\"2020-01-27T00:00:00\",\"2020-01-28T00:00:00\",\"2020-01-29T00:00:00\",\"2020-01-30T00:00:00\",\"2020-01-31T00:00:00\",\"2020-02-03T00:00:00\",\"2020-02-04T00:00:00\",\"2020-02-05T00:00:00\",\"2020-02-06T00:00:00\",\"2020-02-07T00:00:00\",\"2020-02-10T00:00:00\",\"2020-02-11T00:00:00\",\"2020-02-12T00:00:00\",\"2020-02-13T00:00:00\",\"2020-02-14T00:00:00\",\"2020-02-18T00:00:00\",\"2020-02-19T00:00:00\",\"2020-02-20T00:00:00\",\"2020-02-21T00:00:00\",\"2020-02-24T00:00:00\",\"2020-02-25T00:00:00\",\"2020-02-26T00:00:00\",\"2020-02-27T00:00:00\",\"2020-02-28T00:00:00\",\"2020-03-02T00:00:00\",\"2020-03-03T00:00:00\",\"2020-03-04T00:00:00\",\"2020-03-05T00:00:00\",\"2020-03-06T00:00:00\",\"2020-03-09T00:00:00\",\"2020-03-10T00:00:00\",\"2020-03-11T00:00:00\",\"2020-03-12T00:00:00\",\"2020-03-13T00:00:00\",\"2020-03-16T00:00:00\",\"2020-03-17T00:00:00\",\"2020-03-18T00:00:00\",\"2020-03-19T00:00:00\",\"2020-03-20T00:00:00\",\"2020-03-23T00:00:00\",\"2020-03-24T00:00:00\",\"2020-03-25T00:00:00\",\"2020-03-26T00:00:00\",\"2020-03-27T00:00:00\",\"2020-03-30T00:00:00\",\"2020-03-31T00:00:00\",\"2020-04-01T00:00:00\",\"2020-04-02T00:00:00\",\"2020-04-03T00:00:00\",\"2020-04-06T00:00:00\",\"2020-04-07T00:00:00\",\"2020-04-08T00:00:00\",\"2020-04-09T00:00:00\",\"2020-04-13T00:00:00\",\"2020-04-14T00:00:00\",\"2020-04-15T00:00:00\",\"2020-04-16T00:00:00\",\"2020-04-17T00:00:00\",\"2020-04-20T00:00:00\",\"2020-04-21T00:00:00\",\"2020-04-22T00:00:00\",\"2020-04-23T00:00:00\",\"2020-04-24T00:00:00\",\"2020-04-27T00:00:00\",\"2020-04-28T00:00:00\",\"2020-04-29T00:00:00\",\"2020-04-30T00:00:00\",\"2020-05-01T00:00:00\",\"2020-05-04T00:00:00\",\"2020-05-05T00:00:00\",\"2020-05-06T00:00:00\",\"2020-05-07T00:00:00\",\"2020-05-08T00:00:00\",\"2020-05-11T00:00:00\",\"2020-05-12T00:00:00\",\"2020-05-13T00:00:00\",\"2020-05-14T00:00:00\",\"2020-05-15T00:00:00\",\"2020-05-18T00:00:00\",\"2020-05-19T00:00:00\",\"2020-05-20T00:00:00\",\"2020-05-21T00:00:00\",\"2020-05-22T00:00:00\",\"2020-05-26T00:00:00\",\"2020-05-27T00:00:00\",\"2020-05-28T00:00:00\",\"2020-05-29T00:00:00\",\"2020-06-01T00:00:00\",\"2020-06-02T00:00:00\",\"2020-06-03T00:00:00\",\"2020-06-04T00:00:00\",\"2020-06-05T00:00:00\",\"2020-06-08T00:00:00\",\"2020-06-09T00:00:00\",\"2020-06-10T00:00:00\",\"2020-06-11T00:00:00\",\"2020-06-12T00:00:00\",\"2020-06-15T00:00:00\",\"2020-06-16T00:00:00\",\"2020-06-17T00:00:00\",\"2020-06-18T00:00:00\",\"2020-06-19T00:00:00\",\"2020-06-22T00:00:00\",\"2020-06-23T00:00:00\",\"2020-06-24T00:00:00\",\"2020-06-25T00:00:00\",\"2020-06-26T00:00:00\",\"2020-06-29T00:00:00\",\"2020-06-30T00:00:00\",\"2020-07-01T00:00:00\",\"2020-07-02T00:00:00\",\"2020-07-06T00:00:00\",\"2020-07-07T00:00:00\",\"2020-07-08T00:00:00\",\"2020-07-09T00:00:00\",\"2020-07-10T00:00:00\",\"2020-07-13T00:00:00\",\"2020-07-14T00:00:00\",\"2020-07-15T00:00:00\",\"2020-07-16T00:00:00\",\"2020-07-17T00:00:00\",\"2020-07-20T00:00:00\",\"2020-07-21T00:00:00\",\"2020-07-22T00:00:00\",\"2020-07-23T00:00:00\",\"2020-07-24T00:00:00\",\"2020-07-27T00:00:00\",\"2020-07-28T00:00:00\",\"2020-07-29T00:00:00\",\"2020-07-30T00:00:00\",\"2020-07-31T00:00:00\",\"2020-08-03T00:00:00\",\"2020-08-04T00:00:00\",\"2020-08-05T00:00:00\",\"2020-08-06T00:00:00\",\"2020-08-07T00:00:00\",\"2020-08-10T00:00:00\",\"2020-08-11T00:00:00\",\"2020-08-12T00:00:00\",\"2020-08-13T00:00:00\",\"2020-08-14T00:00:00\",\"2020-08-17T00:00:00\",\"2020-08-18T00:00:00\",\"2020-08-19T00:00:00\",\"2020-08-20T00:00:00\",\"2020-08-21T00:00:00\",\"2020-08-24T00:00:00\",\"2020-08-25T00:00:00\",\"2020-08-26T00:00:00\",\"2020-08-27T00:00:00\",\"2020-08-28T00:00:00\",\"2020-08-31T00:00:00\",\"2020-09-02T00:00:00\",\"2020-09-03T00:00:00\",\"2020-09-04T00:00:00\",\"2020-09-08T00:00:00\",\"2020-09-09T00:00:00\",\"2020-09-10T00:00:00\",\"2020-09-11T00:00:00\",\"2020-09-14T00:00:00\",\"2020-09-15T00:00:00\",\"2020-09-16T00:00:00\",\"2020-09-17T00:00:00\",\"2020-09-18T00:00:00\",\"2020-09-21T00:00:00\",\"2020-09-22T00:00:00\",\"2020-09-23T00:00:00\",\"2020-09-24T00:00:00\",\"2020-09-25T00:00:00\",\"2020-09-28T00:00:00\",\"2020-09-29T00:00:00\",\"2020-09-30T00:00:00\",\"2020-10-01T00:00:00\",\"2020-10-02T00:00:00\",\"2020-10-05T00:00:00\",\"2020-10-06T00:00:00\",\"2020-10-07T00:00:00\",\"2020-10-08T00:00:00\",\"2020-10-09T00:00:00\",\"2020-10-12T00:00:00\",\"2020-10-13T00:00:00\",\"2020-10-14T00:00:00\",\"2020-10-15T00:00:00\",\"2020-10-16T00:00:00\",\"2020-10-19T00:00:00\",\"2020-10-20T00:00:00\",\"2020-10-21T00:00:00\",\"2020-10-22T00:00:00\",\"2020-10-23T00:00:00\",\"2020-10-26T00:00:00\",\"2020-10-27T00:00:00\",\"2020-10-28T00:00:00\",\"2020-10-29T00:00:00\",\"2020-10-30T00:00:00\",\"2020-11-02T00:00:00\",\"2020-11-03T00:00:00\",\"2020-11-04T00:00:00\",\"2020-11-05T00:00:00\",\"2020-11-06T00:00:00\",\"2020-11-09T00:00:00\",\"2020-11-10T00:00:00\",\"2020-11-11T00:00:00\",\"2020-11-12T00:00:00\",\"2020-11-13T00:00:00\",\"2020-11-16T00:00:00\",\"2020-11-17T00:00:00\",\"2020-11-18T00:00:00\",\"2020-11-19T00:00:00\",\"2020-11-20T00:00:00\",\"2020-11-23T00:00:00\",\"2020-11-24T00:00:00\",\"2020-11-25T00:00:00\",\"2020-11-27T00:00:00\",\"2020-11-30T00:00:00\",\"2020-12-01T00:00:00\",\"2020-12-02T00:00:00\",\"2020-12-03T00:00:00\",\"2020-12-04T00:00:00\",\"2020-12-07T00:00:00\",\"2020-12-08T00:00:00\",\"2020-12-09T00:00:00\",\"2020-12-10T00:00:00\",\"2020-12-11T00:00:00\",\"2020-12-14T00:00:00\",\"2020-12-15T00:00:00\",\"2020-12-16T00:00:00\",\"2020-12-17T00:00:00\",\"2020-12-18T00:00:00\",\"2020-12-21T00:00:00\",\"2020-12-22T00:00:00\",\"2020-12-23T00:00:00\",\"2020-12-24T00:00:00\",\"2020-12-28T00:00:00\",\"2020-12-29T00:00:00\",\"2020-12-30T00:00:00\",\"2021-01-04T00:00:00\",\"2021-01-05T00:00:00\",\"2021-01-06T00:00:00\",\"2021-01-07T00:00:00\",\"2021-01-08T00:00:00\",\"2021-01-11T00:00:00\",\"2021-01-12T00:00:00\",\"2021-01-13T00:00:00\",\"2021-01-14T00:00:00\",\"2021-01-15T00:00:00\",\"2021-01-19T00:00:00\",\"2021-01-20T00:00:00\",\"2021-01-21T00:00:00\",\"2021-01-22T00:00:00\",\"2021-01-25T00:00:00\",\"2021-01-26T00:00:00\",\"2021-01-27T00:00:00\",\"2021-01-28T00:00:00\",\"2021-01-29T00:00:00\",\"2021-02-01T00:00:00\",\"2021-02-02T00:00:00\",\"2021-02-03T00:00:00\",\"2021-02-04T00:00:00\",\"2021-02-05T00:00:00\",\"2021-02-08T00:00:00\",\"2021-02-09T00:00:00\",\"2021-02-10T00:00:00\",\"2021-02-11T00:00:00\",\"2021-02-12T00:00:00\",\"2021-02-16T00:00:00\",\"2021-02-17T00:00:00\",\"2021-02-18T00:00:00\",\"2021-02-19T00:00:00\",\"2021-02-22T00:00:00\",\"2021-02-23T00:00:00\",\"2021-02-24T00:00:00\",\"2021-02-25T00:00:00\",\"2021-02-26T00:00:00\",\"2021-03-01T00:00:00\",\"2021-03-02T00:00:00\",\"2021-03-03T00:00:00\",\"2021-03-04T00:00:00\",\"2021-03-05T00:00:00\",\"2021-03-08T00:00:00\",\"2021-03-09T00:00:00\",\"2021-03-10T00:00:00\",\"2021-03-11T00:00:00\",\"2021-03-12T00:00:00\",\"2021-03-15T00:00:00\",\"2021-03-16T00:00:00\",\"2021-03-17T00:00:00\",\"2021-03-18T00:00:00\",\"2021-03-19T00:00:00\",\"2021-03-22T00:00:00\",\"2021-03-23T00:00:00\",\"2021-03-24T00:00:00\",\"2021-03-25T00:00:00\",\"2021-03-26T00:00:00\",\"2021-03-29T00:00:00\",\"2021-03-30T00:00:00\",\"2021-03-31T00:00:00\",\"2021-04-01T00:00:00\",\"2021-04-05T00:00:00\",\"2021-04-06T00:00:00\",\"2021-04-07T00:00:00\",\"2021-04-08T00:00:00\",\"2021-04-09T00:00:00\",\"2021-04-12T00:00:00\",\"2021-04-13T00:00:00\",\"2021-04-14T00:00:00\",\"2021-04-15T00:00:00\",\"2021-04-16T00:00:00\",\"2021-04-19T00:00:00\",\"2021-04-20T00:00:00\",\"2021-04-21T00:00:00\",\"2021-04-22T00:00:00\",\"2021-04-23T00:00:00\",\"2021-04-26T00:00:00\",\"2021-04-27T00:00:00\",\"2021-04-28T00:00:00\",\"2021-04-29T00:00:00\",\"2021-04-30T00:00:00\",\"2021-05-03T00:00:00\",\"2021-05-05T00:00:00\",\"2021-05-06T00:00:00\",\"2021-05-07T00:00:00\",\"2021-05-10T00:00:00\",\"2021-05-11T00:00:00\",\"2021-05-12T00:00:00\",\"2021-05-13T00:00:00\",\"2021-05-14T00:00:00\",\"2021-05-17T00:00:00\",\"2021-05-18T00:00:00\",\"2021-05-19T00:00:00\",\"2021-05-20T00:00:00\",\"2021-05-21T00:00:00\",\"2021-05-24T00:00:00\",\"2021-05-25T00:00:00\",\"2021-05-26T00:00:00\",\"2021-05-27T00:00:00\",\"2021-05-28T00:00:00\",\"2021-06-01T00:00:00\",\"2021-06-02T00:00:00\",\"2021-06-03T00:00:00\",\"2021-06-04T00:00:00\",\"2021-06-07T00:00:00\",\"2021-06-08T00:00:00\",\"2021-06-09T00:00:00\",\"2021-06-10T00:00:00\",\"2021-06-11T00:00:00\",\"2021-06-14T00:00:00\",\"2021-06-15T00:00:00\",\"2021-06-16T00:00:00\",\"2021-06-17T00:00:00\",\"2021-06-18T00:00:00\",\"2021-06-21T00:00:00\",\"2021-06-22T00:00:00\",\"2021-06-23T00:00:00\",\"2021-06-24T00:00:00\",\"2021-06-25T00:00:00\",\"2021-06-28T00:00:00\",\"2021-06-29T00:00:00\",\"2021-06-30T00:00:00\",\"2021-07-01T00:00:00\",\"2021-07-02T00:00:00\",\"2021-07-06T00:00:00\",\"2021-07-07T00:00:00\",\"2021-07-08T00:00:00\",\"2021-07-09T00:00:00\",\"2021-07-12T00:00:00\",\"2021-07-13T00:00:00\",\"2021-07-14T00:00:00\",\"2021-07-15T00:00:00\",\"2021-07-16T00:00:00\",\"2021-07-19T00:00:00\",\"2021-07-20T00:00:00\",\"2021-07-21T00:00:00\",\"2021-07-22T00:00:00\",\"2021-07-23T00:00:00\",\"2021-07-26T00:00:00\",\"2021-07-27T00:00:00\",\"2021-07-28T00:00:00\",\"2021-07-29T00:00:00\",\"2021-07-30T00:00:00\",\"2021-08-02T00:00:00\",\"2021-08-03T00:00:00\",\"2021-08-04T00:00:00\",\"2021-08-05T00:00:00\",\"2021-08-06T00:00:00\",\"2021-08-09T00:00:00\",\"2021-08-10T00:00:00\",\"2021-08-11T00:00:00\",\"2021-08-12T00:00:00\",\"2021-08-13T00:00:00\",\"2021-08-16T00:00:00\",\"2021-08-17T00:00:00\",\"2021-08-18T00:00:00\",\"2021-08-19T00:00:00\",\"2021-08-20T00:00:00\",\"2021-08-23T00:00:00\",\"2021-08-24T00:00:00\",\"2021-08-25T00:00:00\",\"2021-08-26T00:00:00\",\"2021-08-27T00:00:00\",\"2021-08-30T00:00:00\",\"2021-08-31T00:00:00\",\"2021-09-01T00:00:00\",\"2021-09-02T00:00:00\",\"2021-09-03T00:00:00\",\"2021-09-07T00:00:00\",\"2021-09-08T00:00:00\",\"2021-09-09T00:00:00\",\"2021-09-10T00:00:00\",\"2021-09-13T00:00:00\",\"2021-09-14T00:00:00\",\"2021-09-15T00:00:00\",\"2021-09-16T00:00:00\",\"2021-09-17T00:00:00\",\"2021-09-20T00:00:00\",\"2021-09-21T00:00:00\",\"2021-09-22T00:00:00\",\"2021-09-23T00:00:00\",\"2021-09-24T00:00:00\",\"2021-09-27T00:00:00\",\"2021-09-28T00:00:00\",\"2021-09-29T00:00:00\",\"2021-09-30T00:00:00\",\"2021-10-01T00:00:00\",\"2021-10-04T00:00:00\",\"2021-10-05T00:00:00\",\"2021-10-06T00:00:00\",\"2021-10-07T00:00:00\",\"2021-10-08T00:00:00\",\"2021-10-11T00:00:00\",\"2021-10-12T00:00:00\",\"2021-10-13T00:00:00\",\"2021-10-14T00:00:00\",\"2021-10-15T00:00:00\",\"2021-10-18T00:00:00\",\"2021-10-19T00:00:00\",\"2021-10-20T00:00:00\",\"2021-10-21T00:00:00\",\"2021-10-22T00:00:00\",\"2021-10-25T00:00:00\",\"2021-10-26T00:00:00\",\"2021-10-27T00:00:00\",\"2021-10-28T00:00:00\",\"2021-10-29T00:00:00\",\"2021-11-01T00:00:00\",\"2021-11-02T00:00:00\",\"2021-11-03T00:00:00\",\"2021-11-04T00:00:00\",\"2021-11-05T00:00:00\",\"2021-11-08T00:00:00\",\"2021-11-09T00:00:00\",\"2021-11-10T00:00:00\",\"2021-11-11T00:00:00\",\"2021-11-12T00:00:00\",\"2021-11-15T00:00:00\",\"2021-11-16T00:00:00\",\"2021-11-17T00:00:00\",\"2021-11-18T00:00:00\",\"2021-11-19T00:00:00\",\"2021-11-22T00:00:00\",\"2021-11-23T00:00:00\",\"2021-11-24T00:00:00\",\"2021-11-25T00:00:00\",\"2021-11-26T00:00:00\",\"2021-11-29T00:00:00\",\"2021-11-30T00:00:00\",\"2021-12-01T00:00:00\",\"2021-12-02T00:00:00\",\"2021-12-03T00:00:00\",\"2021-12-06T00:00:00\",\"2021-12-07T00:00:00\",\"2021-12-08T00:00:00\",\"2021-12-09T00:00:00\",\"2021-12-10T00:00:00\",\"2021-12-13T00:00:00\",\"2021-12-14T00:00:00\",\"2021-12-15T00:00:00\",\"2021-12-16T00:00:00\",\"2021-12-17T00:00:00\",\"2021-12-20T00:00:00\",\"2021-12-21T00:00:00\",\"2021-12-22T00:00:00\",\"2021-12-23T00:00:00\",\"2021-12-27T00:00:00\",\"2021-12-28T00:00:00\",\"2021-12-29T00:00:00\",\"2021-12-30T00:00:00\",\"2021-12-31T00:00:00\",\"2022-01-03T00:00:00\",\"2022-01-04T00:00:00\",\"2022-01-05T00:00:00\",\"2022-01-06T00:00:00\",\"2022-01-07T00:00:00\",\"2022-01-10T00:00:00\",\"2022-01-11T00:00:00\",\"2022-01-12T00:00:00\",\"2022-01-13T00:00:00\",\"2022-01-14T00:00:00\",\"2022-01-18T00:00:00\",\"2022-01-19T00:00:00\",\"2022-01-20T00:00:00\",\"2022-01-21T00:00:00\",\"2022-01-24T00:00:00\",\"2022-01-25T00:00:00\",\"2022-01-26T00:00:00\",\"2022-01-27T00:00:00\",\"2022-01-28T00:00:00\",\"2022-01-31T00:00:00\",\"2022-02-01T00:00:00\",\"2022-02-02T00:00:00\",\"2022-02-03T00:00:00\",\"2022-02-04T00:00:00\",\"2022-02-07T00:00:00\",\"2022-02-08T00:00:00\",\"2022-02-09T00:00:00\",\"2022-02-10T00:00:00\",\"2022-02-11T00:00:00\",\"2022-02-14T00:00:00\",\"2022-02-15T00:00:00\",\"2022-02-16T00:00:00\",\"2022-02-17T00:00:00\",\"2022-02-18T00:00:00\",\"2022-02-22T00:00:00\",\"2022-02-23T00:00:00\",\"2022-02-24T00:00:00\",\"2022-02-25T00:00:00\",\"2022-02-28T00:00:00\",\"2022-03-01T00:00:00\",\"2022-03-02T00:00:00\",\"2022-03-03T00:00:00\",\"2022-03-04T00:00:00\",\"2022-03-07T00:00:00\",\"2022-03-08T00:00:00\",\"2022-03-09T00:00:00\",\"2022-03-10T00:00:00\",\"2022-03-11T00:00:00\",\"2022-03-14T00:00:00\",\"2022-03-15T00:00:00\",\"2022-03-16T00:00:00\",\"2022-03-17T00:00:00\",\"2022-03-18T00:00:00\",\"2022-03-21T00:00:00\",\"2022-03-22T00:00:00\",\"2022-03-23T00:00:00\",\"2022-03-24T00:00:00\",\"2022-03-25T00:00:00\"],\"xaxis\":\"x\",\"y\":[69.06964022085504,68.60362850661836,67.68288497285805,66.91845784139402,65.58138329971624,64.87261281202254,62.88249691405848,62.65007317241021,62.68243855473936,64.27487496521971,64.28188290720578,64.84667524676642,65.21406771248076,65.40840093900067,66.34651342390488,67.23952157166599,67.48014611405064,66.68167815328849,65.8506322602239,65.72421927562667,64.4192475484466,65.52568263620039,65.7171892123207,64.42188022261205,63.69464017610901,65.39828376023824,64.90183222638667,64.70672099413036,64.87813463081197,65.09538398641742,66.15587847850485,66.02684697149128,67.38067670452786,69.32761161783404,68.89668085512629,70.43478548976975,70.0764317284522,70.15033526872745,69.55131645281737,70.25315333458875,70.11191000315539,68.13806876441447,68.37989767494811,67.11715101951447,68.62067312645988,70.85629269063297,71.96652727651575,72.03449104331169,72.57445181221472,71.45579635404536,71.61912888626426,73.36475071845382,73.7092804828437,74.07320069966376,74.67677685501322,73.88437679527091,74.0324259015782,74.68511265648733,74.6240306679553,75.16256182679605,75.15146839429727,73.45416117638098,73.66498030112281,74.76923648723306,76.07499505842884,74.89282631157633,77.16570789437954,77.35795405854178,77.17324010061085,78.19415273926172,78.37862728216564,79.2555411592681,79.27615755372473,78.56286188560996,79.21211353880253,79.51568504153279,79.79200740007003,78.83681241102518,76.58576523989012,75.49310350436915,77.39166669584762,77.49775584916591,77.62674770941544,75.39827597076348,75.45038408635776,75.31654874142528,77.23127619309658,76.43624940626016,76.52175070962893,75.89233808938846,76.71857268613165,75.93985947150635,73.59713359336368,75.31842599763932,74.98653260935005,74.79789341863803,73.13642392761311,75.48032267039858,74.65903835757838,76.30134272895916,77.4922870149304,77.82374395369585,79.37951476418303,79.36490245856582,77.86741447201648,77.46022701608995,77.10677522913082,78.02691971165652,78.78675601180707,73.65394976779473,74.59210570242145,75.1574250247833,72.00294838006256,72.28040555530505,72.78230849562435,72.5768787579722,73.07177289300282,73.03723086901718,73.43151295009845,73.89263700727409,74.50091825052326,74.29139864320234,74.95740267412732,74.25729912281676,74.28832482512752,73.47497279076332,73.24904757151579,73.71536433528429,74.58240312212189,72.37758531212508,72.1799159746818,72.73273251405166,72.5900765489897,72.489330033001,70.84533567218897,71.45247754719864,71.75289897789253,72.19063762949648,72.60401348500586,74.666910573673,74.66686959634893,75.81128294942685,76.15263730516203,75.97168533938971,77.09809802734448,77.69313785964762,77.44025913572962,78.15796651481291,77.28177448745494,76.58409812151766,76.8213418460167,77.3162377801559,78.96524925679016,79.66032326047232,78.26761401833386,78.16186279555494,78.02345409989206,78.98144222748536,79.34734122518526,78.74120972633949,78.82664752162101,81.06465462961715,81.75600618532118,81.39063834328404,81.73341977554277,82.64720007845528,82.64523557983819,84.71823963601146,86.14347614590496,84.6549021047722,84.27107449724514,83.90197145024311,84.94742088854649,83.13997745180083,80.48602827308106,80.48356299635685,80.69984169176787,81.37067952848092,80.09989100953823,79.38766220344365,79.75670941963831,79.79490587950329,76.61091582510963,76.3063975176197,76.79687613436532,77.55352465961258,77.34097955067716,76.00287210352879,75.53787703704138,75.48669010418172,72.94713785493836,73.25166988709023,72.11356368804022,72.11714857930906,70.69895959530079,70.2519057739683,70.1109469264914,65.68292988965818,66.25204584425006,66.47453788610763,66.74915364694175,66.79407389595345,62.7353823174988,63.586900040214665,58.90894882145629,60.567155695517336,60.07717250799737,58.87578791490975,59.5141246340353,58.69566908574334,58.7325335034076,61.89367029601109,60.051426511867085,61.724118264769714,59.96614722129987,60.274489436934836,60.11072919966567,61.38851724366858,60.299219396062796,59.707914025401465,56.431651171104626,57.28027744619085,54.40727245109256,53.953092380740145,50.60284437489376,54.341088797898635,52.11673118277266,52.3330702157304,52.23332188211759,54.76328256250743,55.82174661259553,57.01588398158507,57.303014810876014,58.6563947342321,61.261431430733246,61.619659372288254,60.58573293269003,59.106213430144,60.57174384352683,61.212983785067244,61.196529188136154,62.634029667755954,61.5206119676457,61.218339263362274,61.08209832845122,61.60566577527748,60.006288625158135,61.30077758917662,61.564728990196535,61.891554107284264,61.870105504308185,62.47994428220185,61.990872770478646,62.676814520405166,61.65935359304126,62.11522937796548,61.51159242021743,62.39413444202986,63.51061868287621,64.50093373386966,66.15385272289159,66.4107572963409,67.06948266162483,67.05727750535775,67.12834055279586,64.88566566628366,65.2490396260247,66.27448415387943,66.02532533754794,66.04074618967734,65.68281446205795,65.85854346450171,65.97213923891854,66.28297689548243,65.76409334750977,66.55484297567158,66.63313444451855,67.51413801780305,67.22526830758912,67.18708860822811,67.51595383823032,67.59486396420064,68.45639070965133,67.87202141642261,67.10694728923482,67.21184261663554,67.91022558082662,67.8200868106635,67.83698806315527,68.35710302107796,68.33662420886319,69.3254607597129,69.28515704294728,69.41381989515686,70.28574595711771,71.03528084884874,70.63186513694052,71.69550216968021,70.84056317203328,71.55376602942445,71.1658364532967,71.71251234789449,71.60492777331554,71.96264457058601,73.9166949011168,74.43570288907421,74.58929963848922,74.36821390265499,72.27565782025368,72.10047506755069,72.72534166882286,72.76843048003282,70.87299576598217,70.8993371212108,71.18234607128667,69.94463406336378,70.38683964818811,70.35255059487127,70.61532957971994,70.24524262914447,71.19968778735765,71.70746551796407,72.57694485758088,72.21825337418599,72.00831612887178,72.168197528542,71.04465821364171,67.96850278764512,68.70707972737193,69.95370093740014,69.46185029091407,67.0506579808649,64.67709210469442,64.4769880380467,62.06034315745691,60.76586687065304,61.608634927294936,63.15427441919251,62.31492199403228,62.34567928354506,60.07425637475465,61.30350971733294,61.89793611072617,60.999069636228256,62.118458924086966,61.7853834854723,64.33965978888573,65.08329072356702,64.90124256430924,65.06193161829545,66.40342016526246,66.51048331780709,66.57272682118858,66.50363822697722,62.616372170141396,63.85655554823446,64.09977613799947,64.12890255196878,64.16758437294824,66.85532977308976,66.46770203707031,66.77143037660495,66.47896165141302,64.47328087590401,63.751387142474236,62.00336254259127,62.47677065300781,63.174306130515646,63.787422365784096,63.21184874705221,63.40624011766883,63.43969371662965,63.69839721276261,64.66108499702898,65.12287430687174,65.1935455516115,62.07056964228066,60.00850077500048,58.98746208556824,56.353996112402626,57.3772644150347,58.3944062957928,58.55678774110146,61.17978872047305,59.50305540495926,58.389598315372304,58.62110006648815,59.65128973324804,59.992333977575235,60.29688862345535,59.93708755862315,59.38452399949957,58.74204105138838,59.47605165219434,60.40724919002436,61.036794132098215,60.46340204417238,58.39786472677052,60.62308011808388,60.83424995999647,61.54202561267103,62.52397160979307,62.371786756955174,60.91367885888465,60.44196713705795,60.21452760003433,68.56450109188617,64.55111219942549,63.91121225374841,64.31673630468967,64.24871411983125,64.75796220058349,63.17759881532986,62.48670210864196,62.71697443660579,61.9355871012457,60.873226745373096,60.77284025929829,57.84454158712816,57.797887377612895,58.28536851937888,58.33196199104508,58.25689123483293,58.31846775491385,59.052382693614696,60.40971097146529,59.38506820873239,58.83007897820195,59.382363766196704,59.85300009436635,59.443127461837385,59.007842630873064,59.6649517984986,61.05882044316639,61.609302479229044,62.00798806782807,61.59209060742086,61.60767917630251,60.65707466736231,60.2807139944529,60.20764628188633,62.018330493244086,62.856195845946225,61.81086540756028,62.308784842491605,62.462890458866994,62.1998927778267,62.079962706508084,62.35148724699844,62.27379122596734,63.25074799941052,62.455600798671014,61.03632624623965,62.35084361749556,63.813919776172625,63.395747300416986,63.677219148773545,64.2186761490009,64.05634038027911,62.536412772082535,62.449385970982235,60.88374241346279,62.92647967350295,63.27742588635702,64.35386657045943,64.23275033424095,64.35371941562299,63.74979306372757,64.19352013196591,65.1395098291793,65.30885410352178,66.06870670436973,66.14456977694333,66.52823399135526,66.15196332315463,66.39362537465158,67.14149304249524,67.85882150765732,68.13635308679281,68.42752977367581,68.37825165021788,66.37410110569309,68.53238209536818,68.78965814919914,68.33052891944071,65.622210880356,65.45307338233137,64.96525866331396,64.25448794253366,64.49245598258531,64.00747228594055,64.6045340128506,64.81125875424343,64.60605555027098,63.298100181907245,62.14383011847719,60.781101833866366,59.41947893526258,59.52189147284356,59.76844648312887,58.36722796291485,58.21757410987519,58.17990125863534,54.189772699711206,55.335458269429616,54.845242513766756,54.52652124259945,53.34513667453108,53.997885795461784,55.65065511268805,56.26673837491503,57.276226903904615,57.7052824953624,59.046792166524504,59.26541776447763,58.55989021038717,56.44766130095334,55.07678986363505,53.51831909337763,52.27013320082897,50.62008372976598,50.509558387694646,51.76152757598654,51.128611814120916,50.09384688463279,45.53991112021041,34.95830334493525,37.311578965894476,35.60193721915028,33.44098729100478,33.85804836559853,30.165094262146567,28.903246246554815,25.010517942493756,28.359204369126076,26.893588148805545,27.133873549491,27.11302318910499,27.376245122142866,26.389244012699134,25.02927132154282,22.878299286909222,22.7625110164212,22.71626536246715,29.585523986208706,33.759753190323515,33.128349174356565,32.01824639600999,32.80662477350557,31.498150457432352,31.777582184272813,29.668387318017146,27.831256860739934,27.822381196531104,28.032280029978,25.679338566624654,19.662931906538713,20.430936385405587,21.153355139103304,21.429222997870987,20.066655738525203,20.47778319700091,22.4128452015718,25.108639641538335,25.254716515797593,27.16500830475036,30.76703059071199,29.71490354718159,29.571500594421547,30.889007532850524,29.644004081403953,30.027722711126465,29.189184652922876,31.073360269250244,32.37894467389847,34.71641540678105,34.62629174319928,35.75136344226185,36.01774123794556,35.18235739842098,36.15456353828631,34.757803634453936,35.32046140033648,35.288085950559584,35.32991961135168,39.39143726133165,39.679873116595466,40.05851900165711,42.203005660187884,40.81344900290817,41.24632593591671,41.66676820558035,38.68061880661782,38.80897819743031,39.60567613450945,40.88739539371914,40.71147287931383,41.5078264921762,42.13682830622811,43.04293848673401,42.6421402788872,40.43732868665493,41.065125517994375,40.955284082664896,41.69661153927973,41.156628454911484,41.158436460576844,43.04343199077963,43.05273125793787,43.12333087787824,43.280728148663215,42.38450012900827,43.22907633611644,42.701340128601885,42.923206173969234,43.73687145992132,43.37023058495421,43.17845475849828,43.270838496118394,44.26742869357031,44.2690426496949,43.37412042425845,43.36191730599327,43.385993785596554,43.22703523725209,43.7334279449212,42.95783525032699,43.315220841140345,43.23620529442878,44.388280750453724,45.10925178323688,45.09962467049626,44.44658386122882,44.97989662773723,44.49246467185243,45.4140945713792,44.94767312141492,44.8372496312213,45.3397749944473,45.439058853821344,45.3833738881941,44.924180262233044,44.38310235776542,45.10026037412589,45.79854110149039,45.64759739814365,45.133791551043124,45.06064336181108,45.08763572212036,44.45666282147523,44.10276232113898,42.715301995708835,39.92796432734058,40.787837231573924,40.00705562200987,39.878354137315476,39.609692996574694,40.491334292267446,42.121698628329206,43.23311142558961,43.165356803916694,41.53751053178777,41.746502123201,41.72646732445631,41.93728393736248,41.9177419756575,42.41241951025235,41.076422444500416,40.99752178604636,40.9332485562547,39.33947688625786,41.24487118071206,42.50851893952459,42.02608321812105,43.32715500799219,42.82429387189264,41.80827419292662,42.436324853501716,43.24130902635026,43.160655515972806,42.961964677349535,42.63551188691288,43.13987957140368,41.77116122737242,42.47527534625264,41.75182490323713,40.54832719474417,41.186006099120256,39.16346596575166,37.779403218455585,37.45892392829433,37.43287391814312,39.61026479026412,41.11118141948723,40.953021199075366,39.55112788024638,42.304742185537066,43.45366025294997,43.824088718592535,43.56201702829924,42.82226571124084,43.78932860625392,43.71119922024245,44.338552148599724,44.18970171339361,44.94371511917061,45.991838039382436,47.77341093782605,48.5575623135427,48.2170273045719,47.64078437112735,47.61485537075032,48.21064152998504,48.67540373227856,49.229424182661354,48.80523056741391,48.8604898559156,48.84842350739656,50.19275839507315,49.947591324988835,50.312220577926375,50.72674347553302,51.061681262111975,51.484356619654434,52.2247206152027,50.95608329347307,50.163629984948194,51.146208262783546,51.241062945941366,50.898832411091654,51.09308168696769,51.31490799076417,51.09890162572526,53.506839577357475,54.202954727143215,54.411570853604324,55.93637291980914,55.63542708736624,56.58438702820631,56.051941695809035,56.43736013166338,55.13514487192742,55.90646285052092,56.02512597004191,56.111583845483814,55.44207415432033,55.87769278349612,55.88276454520294,55.82330060545831,55.54477103082467,55.87014742653584,55.865554451684154,57.40131701819487,58.379846573469166,58.83301943472708,59.33111778616905,60.50549472252532,61.04929036414855,61.46754174545492,61.15571509348233,62.39274032279833,63.274022095500065,64.3049311272618,63.94271434382064,62.98266346909999,65.15960536001859,65.28635636052708,67.01750196191024,66.84975308264279,66.20006467161264,65.97193622365445,62.82201678630027,64.08583263063423,66.52800467072163,69.2170229897879,68.27354841637728,67.62767202684505,67.88070544040406,69.53664549936978,69.20062209007165,68.93728179478428,68.41055696188899,68.02157499280493,63.47008252323231,64.5885748860612,64.49446776855804,60.97110238322601,64.35506818415917,61.88551903717057,64.5852276664259,64.84979947139165,64.22279598391859,63.59480828700833,63.59392597038539,62.200193211359036,62.74894117362546,63.09718839113813,63.200738093884674,62.96892780079295,63.272059689062324,63.63974321038562,66.44922329358002,66.8645476841402,66.82978518323662,67.04918216911467,66.58105102888062,65.39200020863862,65.41560210755945,66.05079732089048,65.65525976584779,66.41174724434109,67.2049265053498,68.49986457251956,67.29512485849556,67.34584105553316,68.8579331465848,68.08967979344585,68.32763544221847,68.29527338806182,68.54292262559629,69.28140935673032,67.13733894619703,68.70550705055285,69.33863340048288,68.76125269714491,66.78520666859222,65.21183487841442,66.37610755081066,68.30682403853214,68.61863041162317,68.89643921141919,69.43253568168879,69.61251285197173,69.63782107844924,71.27794562382523,71.2695803368303,71.9007254868359,71.49261194991156,72.2094586986275,72.1940819400358,72.52167466357244,72.67523670822658,72.85451182043168,73.93970226076269,74.34851464963333,73.15084004796846,73.53126375334446,74.80146591885992,74.78851423131456,75.20406828471148,75.53255760294815,76.15153984041777,74.73832796403565,74.80613193452744,75.08092818624915,75.80127919192726,76.14554252520182,74.60842162455772,73.52557986017423,74.08402186043261,75.44813777270718,75.15480957174682,76.47014133621309,74.79552461879908,73.59643321836813,73.58280743578577,68.80811515352875,69.44088293557363,71.98066743978981,73.66221276878262,74.10344540787406,74.50582644746406,74.47679883598849,74.737226309218,75.9862940987003,76.28959283271838,73.05777172818787,72.52622143372221,70.41132243855319,71.29286837953643,70.66322448932014,69.14444769483666,70.59150557920562,71.3312608496743,71.32647687764492,70.64043783677394,69.57250866003814,69.064203272745,68.2553409631285,66.53689039997631,65.26282100478345,68.59428771897429,70.83475660612994,72.20845766645729,71.13033241664165,72.68474928330589,73.31552785723903,73.02011426920855,71.67284678336287,72.9982883084693,72.5635500108209,71.76716397357669,72.5778489741533,71.45705235717793,72.90489377885504,73.42450100813842,73.60883068826311,75.39037749277534,75.61451372065522,75.38467630919364,73.99260692819784,74.372180244878,76.07406104148637,77.16554059166931,78.06173703090613,79.46863179748202,79.08704982741631,78.6978211089478,78.52831666890846,79.24284887552433,81.15564660006343,82.469420461557,81.14429092965698,81.97736640978633,82.32063106272398,83.60267773673243,83.40484933276885,83.2196738575181,83.96792422547331,84.79834825646984,84.34486651977706,85.07911028515962,85.75955362436545,84.65509225718449,85.53770408365709,85.92331936202916,86.3885148824709,84.65375268867663,84.38668339620034,84.34986561310741,84.68977597133431,84.71199302761713,82.10954611840471,80.67219105418427,82.6370177269149,83.31443770333654,84.7459874571127,82.70429802707218,82.94249850964464,82.1553153760702,82.07793176769155,82.40512711083426,80.35719473745063,81.26448203040205,78.92578881314891,79.7441680466226,82.13643315093928,82.19645565147906,82.32659707822229,73.12202998054094,73.66817112243828,70.53461304782391,69.02095399242582,69.62843950994854,69.82380979247002,72.95303711251212,75.27155555530628,75.80197748323907,74.50572045597451,75.1589054722285,74.38203084978275,73.75792230572755,73.87659246431089,74.95782950620024,73.55806274847045,71.65604261768543,73.90185655299628,75.14344386751735,76.79299717768788,78.51310144522654,78.91011474229941,79.23879318263636,79.31506078414394,79.20745872070306,78.99320548132188,79.96196740703331,80.73997479974378,81.93992507339527,81.74467543778432,80.9303585913441,83.62137709249401,84.54932441582655,84.5025477134041,86.01703581331462,87.41100331095015,88.3964468819081,88.38556539344906,87.92684981002581,86.34473198186328,88.15279186855311,89.8166791773755,89.35486656877183,90.0475143279649,91.13587334736921,91.27044237126364,89.56050350154152,91.08997838126295,93.11227313387249,92.68808642178394,90.90721568482347,91.55785459845612,91.36309350974442,94.33565352801443,96.3220652691383,93.40473020309847,94.86633431880261,92.95241131260167,93.58831826563298,96.65979492196381,96.7647925255416,99.04659172201502,97.92120330120558,100.92960307051263,100.76275517915624,112.48163678723822,110.32785651957987,117.9608095471351,122.86951348866837,127.93331480199667,111.89600651126104,109.720423226798,112.4723428025001,107.06257305139268,100.39299528465571,98.15332162508142,106.26210666988547,107.60629838680157,115.36795041302861,115.32810610691392,121.4417308375064,119.0293827303049],\"yaxis\":\"y\",\"type\":\"scattergl\"}],                        {\"template\":{\"data\":{\"bar\":[{\"error_x\":{\"color\":\"#2a3f5f\"},\"error_y\":{\"color\":\"#2a3f5f\"},\"marker\":{\"line\":{\"color\":\"#E5ECF6\",\"width\":0.5},\"pattern\":{\"fillmode\":\"overlay\",\"size\":10,\"solidity\":0.2}},\"type\":\"bar\"}],\"barpolar\":[{\"marker\":{\"line\":{\"color\":\"#E5ECF6\",\"width\":0.5},\"pattern\":{\"fillmode\":\"overlay\",\"size\":10,\"solidity\":0.2}},\"type\":\"barpolar\"}],\"carpet\":[{\"aaxis\":{\"endlinecolor\":\"#2a3f5f\",\"gridcolor\":\"white\",\"linecolor\":\"white\",\"minorgridcolor\":\"white\",\"startlinecolor\":\"#2a3f5f\"},\"baxis\":{\"endlinecolor\":\"#2a3f5f\",\"gridcolor\":\"white\",\"linecolor\":\"white\",\"minorgridcolor\":\"white\",\"startlinecolor\":\"#2a3f5f\"},\"type\":\"carpet\"}],\"choropleth\":[{\"colorbar\":{\"outlinewidth\":0,\"ticks\":\"\"},\"type\":\"choropleth\"}],\"contour\":[{\"colorbar\":{\"outlinewidth\":0,\"ticks\":\"\"},\"colorscale\":[[0.0,\"#0d0887\"],[0.1111111111111111,\"#46039f\"],[0.2222222222222222,\"#7201a8\"],[0.3333333333333333,\"#9c179e\"],[0.4444444444444444,\"#bd3786\"],[0.5555555555555556,\"#d8576b\"],[0.6666666666666666,\"#ed7953\"],[0.7777777777777778,\"#fb9f3a\"],[0.8888888888888888,\"#fdca26\"],[1.0,\"#f0f921\"]],\"type\":\"contour\"}],\"contourcarpet\":[{\"colorbar\":{\"outlinewidth\":0,\"ticks\":\"\"},\"type\":\"contourcarpet\"}],\"heatmap\":[{\"colorbar\":{\"outlinewidth\":0,\"ticks\":\"\"},\"colorscale\":[[0.0,\"#0d0887\"],[0.1111111111111111,\"#46039f\"],[0.2222222222222222,\"#7201a8\"],[0.3333333333333333,\"#9c179e\"],[0.4444444444444444,\"#bd3786\"],[0.5555555555555556,\"#d8576b\"],[0.6666666666666666,\"#ed7953\"],[0.7777777777777778,\"#fb9f3a\"],[0.8888888888888888,\"#fdca26\"],[1.0,\"#f0f921\"]],\"type\":\"heatmap\"}],\"heatmapgl\":[{\"colorbar\":{\"outlinewidth\":0,\"ticks\":\"\"},\"colorscale\":[[0.0,\"#0d0887\"],[0.1111111111111111,\"#46039f\"],[0.2222222222222222,\"#7201a8\"],[0.3333333333333333,\"#9c179e\"],[0.4444444444444444,\"#bd3786\"],[0.5555555555555556,\"#d8576b\"],[0.6666666666666666,\"#ed7953\"],[0.7777777777777778,\"#fb9f3a\"],[0.8888888888888888,\"#fdca26\"],[1.0,\"#f0f921\"]],\"type\":\"heatmapgl\"}],\"histogram\":[{\"marker\":{\"pattern\":{\"fillmode\":\"overlay\",\"size\":10,\"solidity\":0.2}},\"type\":\"histogram\"}],\"histogram2d\":[{\"colorbar\":{\"outlinewidth\":0,\"ticks\":\"\"},\"colorscale\":[[0.0,\"#0d0887\"],[0.1111111111111111,\"#46039f\"],[0.2222222222222222,\"#7201a8\"],[0.3333333333333333,\"#9c179e\"],[0.4444444444444444,\"#bd3786\"],[0.5555555555555556,\"#d8576b\"],[0.6666666666666666,\"#ed7953\"],[0.7777777777777778,\"#fb9f3a\"],[0.8888888888888888,\"#fdca26\"],[1.0,\"#f0f921\"]],\"type\":\"histogram2d\"}],\"histogram2dcontour\":[{\"colorbar\":{\"outlinewidth\":0,\"ticks\":\"\"},\"colorscale\":[[0.0,\"#0d0887\"],[0.1111111111111111,\"#46039f\"],[0.2222222222222222,\"#7201a8\"],[0.3333333333333333,\"#9c179e\"],[0.4444444444444444,\"#bd3786\"],[0.5555555555555556,\"#d8576b\"],[0.6666666666666666,\"#ed7953\"],[0.7777777777777778,\"#fb9f3a\"],[0.8888888888888888,\"#fdca26\"],[1.0,\"#f0f921\"]],\"type\":\"histogram2dcontour\"}],\"mesh3d\":[{\"colorbar\":{\"outlinewidth\":0,\"ticks\":\"\"},\"type\":\"mesh3d\"}],\"parcoords\":[{\"line\":{\"colorbar\":{\"outlinewidth\":0,\"ticks\":\"\"}},\"type\":\"parcoords\"}],\"pie\":[{\"automargin\":true,\"type\":\"pie\"}],\"scatter\":[{\"marker\":{\"colorbar\":{\"outlinewidth\":0,\"ticks\":\"\"}},\"type\":\"scatter\"}],\"scatter3d\":[{\"line\":{\"colorbar\":{\"outlinewidth\":0,\"ticks\":\"\"}},\"marker\":{\"colorbar\":{\"outlinewidth\":0,\"ticks\":\"\"}},\"type\":\"scatter3d\"}],\"scattercarpet\":[{\"marker\":{\"colorbar\":{\"outlinewidth\":0,\"ticks\":\"\"}},\"type\":\"scattercarpet\"}],\"scattergeo\":[{\"marker\":{\"colorbar\":{\"outlinewidth\":0,\"ticks\":\"\"}},\"type\":\"scattergeo\"}],\"scattergl\":[{\"marker\":{\"colorbar\":{\"outlinewidth\":0,\"ticks\":\"\"}},\"type\":\"scattergl\"}],\"scattermapbox\":[{\"marker\":{\"colorbar\":{\"outlinewidth\":0,\"ticks\":\"\"}},\"type\":\"scattermapbox\"}],\"scatterpolar\":[{\"marker\":{\"colorbar\":{\"outlinewidth\":0,\"ticks\":\"\"}},\"type\":\"scatterpolar\"}],\"scatterpolargl\":[{\"marker\":{\"colorbar\":{\"outlinewidth\":0,\"ticks\":\"\"}},\"type\":\"scatterpolargl\"}],\"scatterternary\":[{\"marker\":{\"colorbar\":{\"outlinewidth\":0,\"ticks\":\"\"}},\"type\":\"scatterternary\"}],\"surface\":[{\"colorbar\":{\"outlinewidth\":0,\"ticks\":\"\"},\"colorscale\":[[0.0,\"#0d0887\"],[0.1111111111111111,\"#46039f\"],[0.2222222222222222,\"#7201a8\"],[0.3333333333333333,\"#9c179e\"],[0.4444444444444444,\"#bd3786\"],[0.5555555555555556,\"#d8576b\"],[0.6666666666666666,\"#ed7953\"],[0.7777777777777778,\"#fb9f3a\"],[0.8888888888888888,\"#fdca26\"],[1.0,\"#f0f921\"]],\"type\":\"surface\"}],\"table\":[{\"cells\":{\"fill\":{\"color\":\"#EBF0F8\"},\"line\":{\"color\":\"white\"}},\"header\":{\"fill\":{\"color\":\"#C8D4E3\"},\"line\":{\"color\":\"white\"}},\"type\":\"table\"}]},\"layout\":{\"annotationdefaults\":{\"arrowcolor\":\"#2a3f5f\",\"arrowhead\":0,\"arrowwidth\":1},\"autotypenumbers\":\"strict\",\"coloraxis\":{\"colorbar\":{\"outlinewidth\":0,\"ticks\":\"\"}},\"colorscale\":{\"diverging\":[[0,\"#8e0152\"],[0.1,\"#c51b7d\"],[0.2,\"#de77ae\"],[0.3,\"#f1b6da\"],[0.4,\"#fde0ef\"],[0.5,\"#f7f7f7\"],[0.6,\"#e6f5d0\"],[0.7,\"#b8e186\"],[0.8,\"#7fbc41\"],[0.9,\"#4d9221\"],[1,\"#276419\"]],\"sequential\":[[0.0,\"#0d0887\"],[0.1111111111111111,\"#46039f\"],[0.2222222222222222,\"#7201a8\"],[0.3333333333333333,\"#9c179e\"],[0.4444444444444444,\"#bd3786\"],[0.5555555555555556,\"#d8576b\"],[0.6666666666666666,\"#ed7953\"],[0.7777777777777778,\"#fb9f3a\"],[0.8888888888888888,\"#fdca26\"],[1.0,\"#f0f921\"]],\"sequentialminus\":[[0.0,\"#0d0887\"],[0.1111111111111111,\"#46039f\"],[0.2222222222222222,\"#7201a8\"],[0.3333333333333333,\"#9c179e\"],[0.4444444444444444,\"#bd3786\"],[0.5555555555555556,\"#d8576b\"],[0.6666666666666666,\"#ed7953\"],[0.7777777777777778,\"#fb9f3a\"],[0.8888888888888888,\"#fdca26\"],[1.0,\"#f0f921\"]]},\"colorway\":[\"#636efa\",\"#EF553B\",\"#00cc96\",\"#ab63fa\",\"#FFA15A\",\"#19d3f3\",\"#FF6692\",\"#B6E880\",\"#FF97FF\",\"#FECB52\"],\"font\":{\"color\":\"#2a3f5f\"},\"geo\":{\"bgcolor\":\"white\",\"lakecolor\":\"white\",\"landcolor\":\"#E5ECF6\",\"showlakes\":true,\"showland\":true,\"subunitcolor\":\"white\"},\"hoverlabel\":{\"align\":\"left\"},\"hovermode\":\"closest\",\"mapbox\":{\"style\":\"light\"},\"paper_bgcolor\":\"white\",\"plot_bgcolor\":\"#E5ECF6\",\"polar\":{\"angularaxis\":{\"gridcolor\":\"white\",\"linecolor\":\"white\",\"ticks\":\"\"},\"bgcolor\":\"#E5ECF6\",\"radialaxis\":{\"gridcolor\":\"white\",\"linecolor\":\"white\",\"ticks\":\"\"}},\"scene\":{\"xaxis\":{\"backgroundcolor\":\"#E5ECF6\",\"gridcolor\":\"white\",\"gridwidth\":2,\"linecolor\":\"white\",\"showbackground\":true,\"ticks\":\"\",\"zerolinecolor\":\"white\"},\"yaxis\":{\"backgroundcolor\":\"#E5ECF6\",\"gridcolor\":\"white\",\"gridwidth\":2,\"linecolor\":\"white\",\"showbackground\":true,\"ticks\":\"\",\"zerolinecolor\":\"white\"},\"zaxis\":{\"backgroundcolor\":\"#E5ECF6\",\"gridcolor\":\"white\",\"gridwidth\":2,\"linecolor\":\"white\",\"showbackground\":true,\"ticks\":\"\",\"zerolinecolor\":\"white\"}},\"shapedefaults\":{\"line\":{\"color\":\"#2a3f5f\"}},\"ternary\":{\"aaxis\":{\"gridcolor\":\"white\",\"linecolor\":\"white\",\"ticks\":\"\"},\"baxis\":{\"gridcolor\":\"white\",\"linecolor\":\"white\",\"ticks\":\"\"},\"bgcolor\":\"#E5ECF6\",\"caxis\":{\"gridcolor\":\"white\",\"linecolor\":\"white\",\"ticks\":\"\"}},\"title\":{\"x\":0.05},\"xaxis\":{\"automargin\":true,\"gridcolor\":\"white\",\"linecolor\":\"white\",\"ticks\":\"\",\"title\":{\"standoff\":15},\"zerolinecolor\":\"white\",\"zerolinewidth\":2},\"yaxis\":{\"automargin\":true,\"gridcolor\":\"white\",\"linecolor\":\"white\",\"ticks\":\"\",\"title\":{\"standoff\":15},\"zerolinecolor\":\"white\",\"zerolinewidth\":2}}},\"xaxis\":{\"anchor\":\"y\",\"domain\":[0.0,1.0],\"title\":{\"text\":\"Date\"}},\"yaxis\":{\"anchor\":\"x\",\"domain\":[0.0,1.0],\"title\":{\"text\":\"value\"}},\"legend\":{\"title\":{\"text\":\"variable\"},\"tracegroupgap\":0},\"title\":{\"text\":\"Oil (Brent) currency rate to USD, prediction 2018 - 2022\"}},                        {\"responsive\": true}                    ).then(function(){\n",
       "                            \n",
       "var gd = document.getElementById('38467542-5d20-4309-a860-65b3f14f8964');\n",
       "var x = new MutationObserver(function (mutations, observer) {{\n",
       "        var display = window.getComputedStyle(gd).display;\n",
       "        if (!display || display === 'none') {{\n",
       "            console.log([gd, 'removed!']);\n",
       "            Plotly.purge(gd);\n",
       "            observer.disconnect();\n",
       "        }}\n",
       "}});\n",
       "\n",
       "// Listen for the removal of the full notebook cells\n",
       "var notebookContainer = gd.closest('#notebook-container');\n",
       "if (notebookContainer) {{\n",
       "    x.observe(notebookContainer, {childList: true});\n",
       "}}\n",
       "\n",
       "// Listen for the clearing of the current output cell\n",
       "var outputEl = gd.closest('.output');\n",
       "if (outputEl) {{\n",
       "    x.observe(outputEl, {childList: true});\n",
       "}}\n",
       "\n",
       "                        })                };                });            </script>        </div>"
      ]
     },
     "metadata": {},
     "output_type": "display_data"
    }
   ],
   "source": [
    "import plotly.express as px\n",
    "\n",
    "fig = px.line(Pred['Close'], title='Oil (Brent) currency rate to USD, prediction 2018 - 2022')\n",
    "fig.show()"
   ]
  },
  {
   "cell_type": "code",
   "execution_count": 127,
   "id": "84a8b8f7",
   "metadata": {},
   "outputs": [],
   "source": [
    "from datetime import datetime, timedelta\n",
    "\n",
    "dt = datetime(2022, 4, 25)\n",
    "date = []\n",
    "\n",
    "for i in range(31):\n",
    "    dt += timedelta(1)\n",
    "    date.append(pa.to_datetime(dt))"
   ]
  },
  {
   "cell_type": "code",
   "execution_count": 133,
   "id": "421036f4",
   "metadata": {},
   "outputs": [],
   "source": [
    "model = ARIMA(Actual, order=(3, 2, 1))\n",
    "fitted = model.fit()\n",
    "month = fitted.forecast(31, alpha=0.05)\n",
    "month = { 'Close': month }\n",
    "month = pa.DataFrame(month)\n",
    "month.index = date"
   ]
  },
  {
   "cell_type": "code",
   "execution_count": 135,
   "id": "35dcde93",
   "metadata": {},
   "outputs": [
    {
     "data": {
      "application/vnd.plotly.v1+json": {
       "config": {
        "plotlyServerURL": "https://plot.ly"
       },
       "data": [
        {
         "hovertemplate": "variable=Close<br>index=%{x}<br>value=%{y}<extra></extra>",
         "legendgroup": "Close",
         "line": {
          "color": "#636efa",
          "dash": "solid"
         },
         "marker": {
          "symbol": "circle"
         },
         "mode": "lines",
         "name": "Close",
         "orientation": "v",
         "showlegend": true,
         "type": "scatter",
         "x": [
          "2022-04-26T00:00:00",
          "2022-04-27T00:00:00",
          "2022-04-28T00:00:00",
          "2022-04-29T00:00:00",
          "2022-04-30T00:00:00",
          "2022-05-01T00:00:00",
          "2022-05-02T00:00:00",
          "2022-05-03T00:00:00",
          "2022-05-04T00:00:00",
          "2022-05-05T00:00:00",
          "2022-05-06T00:00:00",
          "2022-05-07T00:00:00",
          "2022-05-08T00:00:00",
          "2022-05-09T00:00:00",
          "2022-05-10T00:00:00",
          "2022-05-11T00:00:00",
          "2022-05-12T00:00:00",
          "2022-05-13T00:00:00",
          "2022-05-14T00:00:00",
          "2022-05-15T00:00:00",
          "2022-05-16T00:00:00",
          "2022-05-17T00:00:00",
          "2022-05-18T00:00:00",
          "2022-05-19T00:00:00",
          "2022-05-20T00:00:00",
          "2022-05-21T00:00:00",
          "2022-05-22T00:00:00",
          "2022-05-23T00:00:00",
          "2022-05-24T00:00:00",
          "2022-05-25T00:00:00",
          "2022-05-26T00:00:00"
         ],
         "xaxis": "x",
         "y": [
          119.53878034813407,
          119.69029667166039,
          119.86035941723098,
          120.03143873710563,
          120.20163205011723,
          120.37193661135346,
          120.5422584973911,
          120.71257307364482,
          120.88288818718004,
          121.05320350466036,
          121.22351876652132,
          121.39383402953925,
          121.56414929459537,
          121.7344645592637,
          121.90477982391532,
          122.0750950885853,
          122.24541035325286,
          122.4157256179201,
          122.5860408825875,
          122.75635614725486,
          122.92667141192224,
          123.09698667658961,
          123.26730194125697,
          123.43761720592434,
          123.6079324705917,
          123.77824773525907,
          123.94856299992644,
          124.1188782645938,
          124.28919352926117,
          124.45950879392853,
          124.6298240585959
         ],
         "yaxis": "y"
        }
       ],
       "layout": {
        "legend": {
         "title": {
          "text": "variable"
         },
         "tracegroupgap": 0
        },
        "margin": {
         "t": 60
        },
        "template": {
         "data": {
          "bar": [
           {
            "error_x": {
             "color": "#2a3f5f"
            },
            "error_y": {
             "color": "#2a3f5f"
            },
            "marker": {
             "line": {
              "color": "#E5ECF6",
              "width": 0.5
             },
             "pattern": {
              "fillmode": "overlay",
              "size": 10,
              "solidity": 0.2
             }
            },
            "type": "bar"
           }
          ],
          "barpolar": [
           {
            "marker": {
             "line": {
              "color": "#E5ECF6",
              "width": 0.5
             },
             "pattern": {
              "fillmode": "overlay",
              "size": 10,
              "solidity": 0.2
             }
            },
            "type": "barpolar"
           }
          ],
          "carpet": [
           {
            "aaxis": {
             "endlinecolor": "#2a3f5f",
             "gridcolor": "white",
             "linecolor": "white",
             "minorgridcolor": "white",
             "startlinecolor": "#2a3f5f"
            },
            "baxis": {
             "endlinecolor": "#2a3f5f",
             "gridcolor": "white",
             "linecolor": "white",
             "minorgridcolor": "white",
             "startlinecolor": "#2a3f5f"
            },
            "type": "carpet"
           }
          ],
          "choropleth": [
           {
            "colorbar": {
             "outlinewidth": 0,
             "ticks": ""
            },
            "type": "choropleth"
           }
          ],
          "contour": [
           {
            "colorbar": {
             "outlinewidth": 0,
             "ticks": ""
            },
            "colorscale": [
             [
              0,
              "#0d0887"
             ],
             [
              0.1111111111111111,
              "#46039f"
             ],
             [
              0.2222222222222222,
              "#7201a8"
             ],
             [
              0.3333333333333333,
              "#9c179e"
             ],
             [
              0.4444444444444444,
              "#bd3786"
             ],
             [
              0.5555555555555556,
              "#d8576b"
             ],
             [
              0.6666666666666666,
              "#ed7953"
             ],
             [
              0.7777777777777778,
              "#fb9f3a"
             ],
             [
              0.8888888888888888,
              "#fdca26"
             ],
             [
              1,
              "#f0f921"
             ]
            ],
            "type": "contour"
           }
          ],
          "contourcarpet": [
           {
            "colorbar": {
             "outlinewidth": 0,
             "ticks": ""
            },
            "type": "contourcarpet"
           }
          ],
          "heatmap": [
           {
            "colorbar": {
             "outlinewidth": 0,
             "ticks": ""
            },
            "colorscale": [
             [
              0,
              "#0d0887"
             ],
             [
              0.1111111111111111,
              "#46039f"
             ],
             [
              0.2222222222222222,
              "#7201a8"
             ],
             [
              0.3333333333333333,
              "#9c179e"
             ],
             [
              0.4444444444444444,
              "#bd3786"
             ],
             [
              0.5555555555555556,
              "#d8576b"
             ],
             [
              0.6666666666666666,
              "#ed7953"
             ],
             [
              0.7777777777777778,
              "#fb9f3a"
             ],
             [
              0.8888888888888888,
              "#fdca26"
             ],
             [
              1,
              "#f0f921"
             ]
            ],
            "type": "heatmap"
           }
          ],
          "heatmapgl": [
           {
            "colorbar": {
             "outlinewidth": 0,
             "ticks": ""
            },
            "colorscale": [
             [
              0,
              "#0d0887"
             ],
             [
              0.1111111111111111,
              "#46039f"
             ],
             [
              0.2222222222222222,
              "#7201a8"
             ],
             [
              0.3333333333333333,
              "#9c179e"
             ],
             [
              0.4444444444444444,
              "#bd3786"
             ],
             [
              0.5555555555555556,
              "#d8576b"
             ],
             [
              0.6666666666666666,
              "#ed7953"
             ],
             [
              0.7777777777777778,
              "#fb9f3a"
             ],
             [
              0.8888888888888888,
              "#fdca26"
             ],
             [
              1,
              "#f0f921"
             ]
            ],
            "type": "heatmapgl"
           }
          ],
          "histogram": [
           {
            "marker": {
             "pattern": {
              "fillmode": "overlay",
              "size": 10,
              "solidity": 0.2
             }
            },
            "type": "histogram"
           }
          ],
          "histogram2d": [
           {
            "colorbar": {
             "outlinewidth": 0,
             "ticks": ""
            },
            "colorscale": [
             [
              0,
              "#0d0887"
             ],
             [
              0.1111111111111111,
              "#46039f"
             ],
             [
              0.2222222222222222,
              "#7201a8"
             ],
             [
              0.3333333333333333,
              "#9c179e"
             ],
             [
              0.4444444444444444,
              "#bd3786"
             ],
             [
              0.5555555555555556,
              "#d8576b"
             ],
             [
              0.6666666666666666,
              "#ed7953"
             ],
             [
              0.7777777777777778,
              "#fb9f3a"
             ],
             [
              0.8888888888888888,
              "#fdca26"
             ],
             [
              1,
              "#f0f921"
             ]
            ],
            "type": "histogram2d"
           }
          ],
          "histogram2dcontour": [
           {
            "colorbar": {
             "outlinewidth": 0,
             "ticks": ""
            },
            "colorscale": [
             [
              0,
              "#0d0887"
             ],
             [
              0.1111111111111111,
              "#46039f"
             ],
             [
              0.2222222222222222,
              "#7201a8"
             ],
             [
              0.3333333333333333,
              "#9c179e"
             ],
             [
              0.4444444444444444,
              "#bd3786"
             ],
             [
              0.5555555555555556,
              "#d8576b"
             ],
             [
              0.6666666666666666,
              "#ed7953"
             ],
             [
              0.7777777777777778,
              "#fb9f3a"
             ],
             [
              0.8888888888888888,
              "#fdca26"
             ],
             [
              1,
              "#f0f921"
             ]
            ],
            "type": "histogram2dcontour"
           }
          ],
          "mesh3d": [
           {
            "colorbar": {
             "outlinewidth": 0,
             "ticks": ""
            },
            "type": "mesh3d"
           }
          ],
          "parcoords": [
           {
            "line": {
             "colorbar": {
              "outlinewidth": 0,
              "ticks": ""
             }
            },
            "type": "parcoords"
           }
          ],
          "pie": [
           {
            "automargin": true,
            "type": "pie"
           }
          ],
          "scatter": [
           {
            "marker": {
             "colorbar": {
              "outlinewidth": 0,
              "ticks": ""
             }
            },
            "type": "scatter"
           }
          ],
          "scatter3d": [
           {
            "line": {
             "colorbar": {
              "outlinewidth": 0,
              "ticks": ""
             }
            },
            "marker": {
             "colorbar": {
              "outlinewidth": 0,
              "ticks": ""
             }
            },
            "type": "scatter3d"
           }
          ],
          "scattercarpet": [
           {
            "marker": {
             "colorbar": {
              "outlinewidth": 0,
              "ticks": ""
             }
            },
            "type": "scattercarpet"
           }
          ],
          "scattergeo": [
           {
            "marker": {
             "colorbar": {
              "outlinewidth": 0,
              "ticks": ""
             }
            },
            "type": "scattergeo"
           }
          ],
          "scattergl": [
           {
            "marker": {
             "colorbar": {
              "outlinewidth": 0,
              "ticks": ""
             }
            },
            "type": "scattergl"
           }
          ],
          "scattermapbox": [
           {
            "marker": {
             "colorbar": {
              "outlinewidth": 0,
              "ticks": ""
             }
            },
            "type": "scattermapbox"
           }
          ],
          "scatterpolar": [
           {
            "marker": {
             "colorbar": {
              "outlinewidth": 0,
              "ticks": ""
             }
            },
            "type": "scatterpolar"
           }
          ],
          "scatterpolargl": [
           {
            "marker": {
             "colorbar": {
              "outlinewidth": 0,
              "ticks": ""
             }
            },
            "type": "scatterpolargl"
           }
          ],
          "scatterternary": [
           {
            "marker": {
             "colorbar": {
              "outlinewidth": 0,
              "ticks": ""
             }
            },
            "type": "scatterternary"
           }
          ],
          "surface": [
           {
            "colorbar": {
             "outlinewidth": 0,
             "ticks": ""
            },
            "colorscale": [
             [
              0,
              "#0d0887"
             ],
             [
              0.1111111111111111,
              "#46039f"
             ],
             [
              0.2222222222222222,
              "#7201a8"
             ],
             [
              0.3333333333333333,
              "#9c179e"
             ],
             [
              0.4444444444444444,
              "#bd3786"
             ],
             [
              0.5555555555555556,
              "#d8576b"
             ],
             [
              0.6666666666666666,
              "#ed7953"
             ],
             [
              0.7777777777777778,
              "#fb9f3a"
             ],
             [
              0.8888888888888888,
              "#fdca26"
             ],
             [
              1,
              "#f0f921"
             ]
            ],
            "type": "surface"
           }
          ],
          "table": [
           {
            "cells": {
             "fill": {
              "color": "#EBF0F8"
             },
             "line": {
              "color": "white"
             }
            },
            "header": {
             "fill": {
              "color": "#C8D4E3"
             },
             "line": {
              "color": "white"
             }
            },
            "type": "table"
           }
          ]
         },
         "layout": {
          "annotationdefaults": {
           "arrowcolor": "#2a3f5f",
           "arrowhead": 0,
           "arrowwidth": 1
          },
          "autotypenumbers": "strict",
          "coloraxis": {
           "colorbar": {
            "outlinewidth": 0,
            "ticks": ""
           }
          },
          "colorscale": {
           "diverging": [
            [
             0,
             "#8e0152"
            ],
            [
             0.1,
             "#c51b7d"
            ],
            [
             0.2,
             "#de77ae"
            ],
            [
             0.3,
             "#f1b6da"
            ],
            [
             0.4,
             "#fde0ef"
            ],
            [
             0.5,
             "#f7f7f7"
            ],
            [
             0.6,
             "#e6f5d0"
            ],
            [
             0.7,
             "#b8e186"
            ],
            [
             0.8,
             "#7fbc41"
            ],
            [
             0.9,
             "#4d9221"
            ],
            [
             1,
             "#276419"
            ]
           ],
           "sequential": [
            [
             0,
             "#0d0887"
            ],
            [
             0.1111111111111111,
             "#46039f"
            ],
            [
             0.2222222222222222,
             "#7201a8"
            ],
            [
             0.3333333333333333,
             "#9c179e"
            ],
            [
             0.4444444444444444,
             "#bd3786"
            ],
            [
             0.5555555555555556,
             "#d8576b"
            ],
            [
             0.6666666666666666,
             "#ed7953"
            ],
            [
             0.7777777777777778,
             "#fb9f3a"
            ],
            [
             0.8888888888888888,
             "#fdca26"
            ],
            [
             1,
             "#f0f921"
            ]
           ],
           "sequentialminus": [
            [
             0,
             "#0d0887"
            ],
            [
             0.1111111111111111,
             "#46039f"
            ],
            [
             0.2222222222222222,
             "#7201a8"
            ],
            [
             0.3333333333333333,
             "#9c179e"
            ],
            [
             0.4444444444444444,
             "#bd3786"
            ],
            [
             0.5555555555555556,
             "#d8576b"
            ],
            [
             0.6666666666666666,
             "#ed7953"
            ],
            [
             0.7777777777777778,
             "#fb9f3a"
            ],
            [
             0.8888888888888888,
             "#fdca26"
            ],
            [
             1,
             "#f0f921"
            ]
           ]
          },
          "colorway": [
           "#636efa",
           "#EF553B",
           "#00cc96",
           "#ab63fa",
           "#FFA15A",
           "#19d3f3",
           "#FF6692",
           "#B6E880",
           "#FF97FF",
           "#FECB52"
          ],
          "font": {
           "color": "#2a3f5f"
          },
          "geo": {
           "bgcolor": "white",
           "lakecolor": "white",
           "landcolor": "#E5ECF6",
           "showlakes": true,
           "showland": true,
           "subunitcolor": "white"
          },
          "hoverlabel": {
           "align": "left"
          },
          "hovermode": "closest",
          "mapbox": {
           "style": "light"
          },
          "paper_bgcolor": "white",
          "plot_bgcolor": "#E5ECF6",
          "polar": {
           "angularaxis": {
            "gridcolor": "white",
            "linecolor": "white",
            "ticks": ""
           },
           "bgcolor": "#E5ECF6",
           "radialaxis": {
            "gridcolor": "white",
            "linecolor": "white",
            "ticks": ""
           }
          },
          "scene": {
           "xaxis": {
            "backgroundcolor": "#E5ECF6",
            "gridcolor": "white",
            "gridwidth": 2,
            "linecolor": "white",
            "showbackground": true,
            "ticks": "",
            "zerolinecolor": "white"
           },
           "yaxis": {
            "backgroundcolor": "#E5ECF6",
            "gridcolor": "white",
            "gridwidth": 2,
            "linecolor": "white",
            "showbackground": true,
            "ticks": "",
            "zerolinecolor": "white"
           },
           "zaxis": {
            "backgroundcolor": "#E5ECF6",
            "gridcolor": "white",
            "gridwidth": 2,
            "linecolor": "white",
            "showbackground": true,
            "ticks": "",
            "zerolinecolor": "white"
           }
          },
          "shapedefaults": {
           "line": {
            "color": "#2a3f5f"
           }
          },
          "ternary": {
           "aaxis": {
            "gridcolor": "white",
            "linecolor": "white",
            "ticks": ""
           },
           "baxis": {
            "gridcolor": "white",
            "linecolor": "white",
            "ticks": ""
           },
           "bgcolor": "#E5ECF6",
           "caxis": {
            "gridcolor": "white",
            "linecolor": "white",
            "ticks": ""
           }
          },
          "title": {
           "x": 0.05
          },
          "xaxis": {
           "automargin": true,
           "gridcolor": "white",
           "linecolor": "white",
           "ticks": "",
           "title": {
            "standoff": 15
           },
           "zerolinecolor": "white",
           "zerolinewidth": 2
          },
          "yaxis": {
           "automargin": true,
           "gridcolor": "white",
           "linecolor": "white",
           "ticks": "",
           "title": {
            "standoff": 15
           },
           "zerolinecolor": "white",
           "zerolinewidth": 2
          }
         }
        },
        "xaxis": {
         "anchor": "y",
         "domain": [
          0,
          1
         ],
         "title": {
          "text": "index"
         }
        },
        "yaxis": {
         "anchor": "x",
         "domain": [
          0,
          1
         ],
         "title": {
          "text": "value"
         }
        }
       }
      },
      "text/html": [
       "<div>                            <div id=\"f810eed7-d636-4dd5-90e2-e882a64641e6\" class=\"plotly-graph-div\" style=\"height:525px; width:100%;\"></div>            <script type=\"text/javascript\">                require([\"plotly\"], function(Plotly) {                    window.PLOTLYENV=window.PLOTLYENV || {};                                    if (document.getElementById(\"f810eed7-d636-4dd5-90e2-e882a64641e6\")) {                    Plotly.newPlot(                        \"f810eed7-d636-4dd5-90e2-e882a64641e6\",                        [{\"hovertemplate\":\"variable=Close<br>index=%{x}<br>value=%{y}<extra></extra>\",\"legendgroup\":\"Close\",\"line\":{\"color\":\"#636efa\",\"dash\":\"solid\"},\"marker\":{\"symbol\":\"circle\"},\"mode\":\"lines\",\"name\":\"Close\",\"orientation\":\"v\",\"showlegend\":true,\"x\":[\"2022-04-26T00:00:00\",\"2022-04-27T00:00:00\",\"2022-04-28T00:00:00\",\"2022-04-29T00:00:00\",\"2022-04-30T00:00:00\",\"2022-05-01T00:00:00\",\"2022-05-02T00:00:00\",\"2022-05-03T00:00:00\",\"2022-05-04T00:00:00\",\"2022-05-05T00:00:00\",\"2022-05-06T00:00:00\",\"2022-05-07T00:00:00\",\"2022-05-08T00:00:00\",\"2022-05-09T00:00:00\",\"2022-05-10T00:00:00\",\"2022-05-11T00:00:00\",\"2022-05-12T00:00:00\",\"2022-05-13T00:00:00\",\"2022-05-14T00:00:00\",\"2022-05-15T00:00:00\",\"2022-05-16T00:00:00\",\"2022-05-17T00:00:00\",\"2022-05-18T00:00:00\",\"2022-05-19T00:00:00\",\"2022-05-20T00:00:00\",\"2022-05-21T00:00:00\",\"2022-05-22T00:00:00\",\"2022-05-23T00:00:00\",\"2022-05-24T00:00:00\",\"2022-05-25T00:00:00\",\"2022-05-26T00:00:00\"],\"xaxis\":\"x\",\"y\":[119.53878034813407,119.69029667166039,119.86035941723098,120.03143873710563,120.20163205011723,120.37193661135346,120.5422584973911,120.71257307364482,120.88288818718004,121.05320350466036,121.22351876652132,121.39383402953925,121.56414929459537,121.7344645592637,121.90477982391532,122.0750950885853,122.24541035325286,122.4157256179201,122.5860408825875,122.75635614725486,122.92667141192224,123.09698667658961,123.26730194125697,123.43761720592434,123.6079324705917,123.77824773525907,123.94856299992644,124.1188782645938,124.28919352926117,124.45950879392853,124.6298240585959],\"yaxis\":\"y\",\"type\":\"scatter\"}],                        {\"template\":{\"data\":{\"bar\":[{\"error_x\":{\"color\":\"#2a3f5f\"},\"error_y\":{\"color\":\"#2a3f5f\"},\"marker\":{\"line\":{\"color\":\"#E5ECF6\",\"width\":0.5},\"pattern\":{\"fillmode\":\"overlay\",\"size\":10,\"solidity\":0.2}},\"type\":\"bar\"}],\"barpolar\":[{\"marker\":{\"line\":{\"color\":\"#E5ECF6\",\"width\":0.5},\"pattern\":{\"fillmode\":\"overlay\",\"size\":10,\"solidity\":0.2}},\"type\":\"barpolar\"}],\"carpet\":[{\"aaxis\":{\"endlinecolor\":\"#2a3f5f\",\"gridcolor\":\"white\",\"linecolor\":\"white\",\"minorgridcolor\":\"white\",\"startlinecolor\":\"#2a3f5f\"},\"baxis\":{\"endlinecolor\":\"#2a3f5f\",\"gridcolor\":\"white\",\"linecolor\":\"white\",\"minorgridcolor\":\"white\",\"startlinecolor\":\"#2a3f5f\"},\"type\":\"carpet\"}],\"choropleth\":[{\"colorbar\":{\"outlinewidth\":0,\"ticks\":\"\"},\"type\":\"choropleth\"}],\"contour\":[{\"colorbar\":{\"outlinewidth\":0,\"ticks\":\"\"},\"colorscale\":[[0.0,\"#0d0887\"],[0.1111111111111111,\"#46039f\"],[0.2222222222222222,\"#7201a8\"],[0.3333333333333333,\"#9c179e\"],[0.4444444444444444,\"#bd3786\"],[0.5555555555555556,\"#d8576b\"],[0.6666666666666666,\"#ed7953\"],[0.7777777777777778,\"#fb9f3a\"],[0.8888888888888888,\"#fdca26\"],[1.0,\"#f0f921\"]],\"type\":\"contour\"}],\"contourcarpet\":[{\"colorbar\":{\"outlinewidth\":0,\"ticks\":\"\"},\"type\":\"contourcarpet\"}],\"heatmap\":[{\"colorbar\":{\"outlinewidth\":0,\"ticks\":\"\"},\"colorscale\":[[0.0,\"#0d0887\"],[0.1111111111111111,\"#46039f\"],[0.2222222222222222,\"#7201a8\"],[0.3333333333333333,\"#9c179e\"],[0.4444444444444444,\"#bd3786\"],[0.5555555555555556,\"#d8576b\"],[0.6666666666666666,\"#ed7953\"],[0.7777777777777778,\"#fb9f3a\"],[0.8888888888888888,\"#fdca26\"],[1.0,\"#f0f921\"]],\"type\":\"heatmap\"}],\"heatmapgl\":[{\"colorbar\":{\"outlinewidth\":0,\"ticks\":\"\"},\"colorscale\":[[0.0,\"#0d0887\"],[0.1111111111111111,\"#46039f\"],[0.2222222222222222,\"#7201a8\"],[0.3333333333333333,\"#9c179e\"],[0.4444444444444444,\"#bd3786\"],[0.5555555555555556,\"#d8576b\"],[0.6666666666666666,\"#ed7953\"],[0.7777777777777778,\"#fb9f3a\"],[0.8888888888888888,\"#fdca26\"],[1.0,\"#f0f921\"]],\"type\":\"heatmapgl\"}],\"histogram\":[{\"marker\":{\"pattern\":{\"fillmode\":\"overlay\",\"size\":10,\"solidity\":0.2}},\"type\":\"histogram\"}],\"histogram2d\":[{\"colorbar\":{\"outlinewidth\":0,\"ticks\":\"\"},\"colorscale\":[[0.0,\"#0d0887\"],[0.1111111111111111,\"#46039f\"],[0.2222222222222222,\"#7201a8\"],[0.3333333333333333,\"#9c179e\"],[0.4444444444444444,\"#bd3786\"],[0.5555555555555556,\"#d8576b\"],[0.6666666666666666,\"#ed7953\"],[0.7777777777777778,\"#fb9f3a\"],[0.8888888888888888,\"#fdca26\"],[1.0,\"#f0f921\"]],\"type\":\"histogram2d\"}],\"histogram2dcontour\":[{\"colorbar\":{\"outlinewidth\":0,\"ticks\":\"\"},\"colorscale\":[[0.0,\"#0d0887\"],[0.1111111111111111,\"#46039f\"],[0.2222222222222222,\"#7201a8\"],[0.3333333333333333,\"#9c179e\"],[0.4444444444444444,\"#bd3786\"],[0.5555555555555556,\"#d8576b\"],[0.6666666666666666,\"#ed7953\"],[0.7777777777777778,\"#fb9f3a\"],[0.8888888888888888,\"#fdca26\"],[1.0,\"#f0f921\"]],\"type\":\"histogram2dcontour\"}],\"mesh3d\":[{\"colorbar\":{\"outlinewidth\":0,\"ticks\":\"\"},\"type\":\"mesh3d\"}],\"parcoords\":[{\"line\":{\"colorbar\":{\"outlinewidth\":0,\"ticks\":\"\"}},\"type\":\"parcoords\"}],\"pie\":[{\"automargin\":true,\"type\":\"pie\"}],\"scatter\":[{\"marker\":{\"colorbar\":{\"outlinewidth\":0,\"ticks\":\"\"}},\"type\":\"scatter\"}],\"scatter3d\":[{\"line\":{\"colorbar\":{\"outlinewidth\":0,\"ticks\":\"\"}},\"marker\":{\"colorbar\":{\"outlinewidth\":0,\"ticks\":\"\"}},\"type\":\"scatter3d\"}],\"scattercarpet\":[{\"marker\":{\"colorbar\":{\"outlinewidth\":0,\"ticks\":\"\"}},\"type\":\"scattercarpet\"}],\"scattergeo\":[{\"marker\":{\"colorbar\":{\"outlinewidth\":0,\"ticks\":\"\"}},\"type\":\"scattergeo\"}],\"scattergl\":[{\"marker\":{\"colorbar\":{\"outlinewidth\":0,\"ticks\":\"\"}},\"type\":\"scattergl\"}],\"scattermapbox\":[{\"marker\":{\"colorbar\":{\"outlinewidth\":0,\"ticks\":\"\"}},\"type\":\"scattermapbox\"}],\"scatterpolar\":[{\"marker\":{\"colorbar\":{\"outlinewidth\":0,\"ticks\":\"\"}},\"type\":\"scatterpolar\"}],\"scatterpolargl\":[{\"marker\":{\"colorbar\":{\"outlinewidth\":0,\"ticks\":\"\"}},\"type\":\"scatterpolargl\"}],\"scatterternary\":[{\"marker\":{\"colorbar\":{\"outlinewidth\":0,\"ticks\":\"\"}},\"type\":\"scatterternary\"}],\"surface\":[{\"colorbar\":{\"outlinewidth\":0,\"ticks\":\"\"},\"colorscale\":[[0.0,\"#0d0887\"],[0.1111111111111111,\"#46039f\"],[0.2222222222222222,\"#7201a8\"],[0.3333333333333333,\"#9c179e\"],[0.4444444444444444,\"#bd3786\"],[0.5555555555555556,\"#d8576b\"],[0.6666666666666666,\"#ed7953\"],[0.7777777777777778,\"#fb9f3a\"],[0.8888888888888888,\"#fdca26\"],[1.0,\"#f0f921\"]],\"type\":\"surface\"}],\"table\":[{\"cells\":{\"fill\":{\"color\":\"#EBF0F8\"},\"line\":{\"color\":\"white\"}},\"header\":{\"fill\":{\"color\":\"#C8D4E3\"},\"line\":{\"color\":\"white\"}},\"type\":\"table\"}]},\"layout\":{\"annotationdefaults\":{\"arrowcolor\":\"#2a3f5f\",\"arrowhead\":0,\"arrowwidth\":1},\"autotypenumbers\":\"strict\",\"coloraxis\":{\"colorbar\":{\"outlinewidth\":0,\"ticks\":\"\"}},\"colorscale\":{\"diverging\":[[0,\"#8e0152\"],[0.1,\"#c51b7d\"],[0.2,\"#de77ae\"],[0.3,\"#f1b6da\"],[0.4,\"#fde0ef\"],[0.5,\"#f7f7f7\"],[0.6,\"#e6f5d0\"],[0.7,\"#b8e186\"],[0.8,\"#7fbc41\"],[0.9,\"#4d9221\"],[1,\"#276419\"]],\"sequential\":[[0.0,\"#0d0887\"],[0.1111111111111111,\"#46039f\"],[0.2222222222222222,\"#7201a8\"],[0.3333333333333333,\"#9c179e\"],[0.4444444444444444,\"#bd3786\"],[0.5555555555555556,\"#d8576b\"],[0.6666666666666666,\"#ed7953\"],[0.7777777777777778,\"#fb9f3a\"],[0.8888888888888888,\"#fdca26\"],[1.0,\"#f0f921\"]],\"sequentialminus\":[[0.0,\"#0d0887\"],[0.1111111111111111,\"#46039f\"],[0.2222222222222222,\"#7201a8\"],[0.3333333333333333,\"#9c179e\"],[0.4444444444444444,\"#bd3786\"],[0.5555555555555556,\"#d8576b\"],[0.6666666666666666,\"#ed7953\"],[0.7777777777777778,\"#fb9f3a\"],[0.8888888888888888,\"#fdca26\"],[1.0,\"#f0f921\"]]},\"colorway\":[\"#636efa\",\"#EF553B\",\"#00cc96\",\"#ab63fa\",\"#FFA15A\",\"#19d3f3\",\"#FF6692\",\"#B6E880\",\"#FF97FF\",\"#FECB52\"],\"font\":{\"color\":\"#2a3f5f\"},\"geo\":{\"bgcolor\":\"white\",\"lakecolor\":\"white\",\"landcolor\":\"#E5ECF6\",\"showlakes\":true,\"showland\":true,\"subunitcolor\":\"white\"},\"hoverlabel\":{\"align\":\"left\"},\"hovermode\":\"closest\",\"mapbox\":{\"style\":\"light\"},\"paper_bgcolor\":\"white\",\"plot_bgcolor\":\"#E5ECF6\",\"polar\":{\"angularaxis\":{\"gridcolor\":\"white\",\"linecolor\":\"white\",\"ticks\":\"\"},\"bgcolor\":\"#E5ECF6\",\"radialaxis\":{\"gridcolor\":\"white\",\"linecolor\":\"white\",\"ticks\":\"\"}},\"scene\":{\"xaxis\":{\"backgroundcolor\":\"#E5ECF6\",\"gridcolor\":\"white\",\"gridwidth\":2,\"linecolor\":\"white\",\"showbackground\":true,\"ticks\":\"\",\"zerolinecolor\":\"white\"},\"yaxis\":{\"backgroundcolor\":\"#E5ECF6\",\"gridcolor\":\"white\",\"gridwidth\":2,\"linecolor\":\"white\",\"showbackground\":true,\"ticks\":\"\",\"zerolinecolor\":\"white\"},\"zaxis\":{\"backgroundcolor\":\"#E5ECF6\",\"gridcolor\":\"white\",\"gridwidth\":2,\"linecolor\":\"white\",\"showbackground\":true,\"ticks\":\"\",\"zerolinecolor\":\"white\"}},\"shapedefaults\":{\"line\":{\"color\":\"#2a3f5f\"}},\"ternary\":{\"aaxis\":{\"gridcolor\":\"white\",\"linecolor\":\"white\",\"ticks\":\"\"},\"baxis\":{\"gridcolor\":\"white\",\"linecolor\":\"white\",\"ticks\":\"\"},\"bgcolor\":\"#E5ECF6\",\"caxis\":{\"gridcolor\":\"white\",\"linecolor\":\"white\",\"ticks\":\"\"}},\"title\":{\"x\":0.05},\"xaxis\":{\"automargin\":true,\"gridcolor\":\"white\",\"linecolor\":\"white\",\"ticks\":\"\",\"title\":{\"standoff\":15},\"zerolinecolor\":\"white\",\"zerolinewidth\":2},\"yaxis\":{\"automargin\":true,\"gridcolor\":\"white\",\"linecolor\":\"white\",\"ticks\":\"\",\"title\":{\"standoff\":15},\"zerolinecolor\":\"white\",\"zerolinewidth\":2}}},\"xaxis\":{\"anchor\":\"y\",\"domain\":[0.0,1.0],\"title\":{\"text\":\"index\"}},\"yaxis\":{\"anchor\":\"x\",\"domain\":[0.0,1.0],\"title\":{\"text\":\"value\"}},\"legend\":{\"title\":{\"text\":\"variable\"},\"tracegroupgap\":0},\"margin\":{\"t\":60}},                        {\"responsive\": true}                    ).then(function(){\n",
       "                            \n",
       "var gd = document.getElementById('f810eed7-d636-4dd5-90e2-e882a64641e6');\n",
       "var x = new MutationObserver(function (mutations, observer) {{\n",
       "        var display = window.getComputedStyle(gd).display;\n",
       "        if (!display || display === 'none') {{\n",
       "            console.log([gd, 'removed!']);\n",
       "            Plotly.purge(gd);\n",
       "            observer.disconnect();\n",
       "        }}\n",
       "}});\n",
       "\n",
       "// Listen for the removal of the full notebook cells\n",
       "var notebookContainer = gd.closest('#notebook-container');\n",
       "if (notebookContainer) {{\n",
       "    x.observe(notebookContainer, {childList: true});\n",
       "}}\n",
       "\n",
       "// Listen for the clearing of the current output cell\n",
       "var outputEl = gd.closest('.output');\n",
       "if (outputEl) {{\n",
       "    x.observe(outputEl, {childList: true});\n",
       "}}\n",
       "\n",
       "                        })                };                });            </script>        </div>"
      ]
     },
     "metadata": {},
     "output_type": "display_data"
    }
   ],
   "source": [
    "f = px.line(month)\n",
    "f.show()"
   ]
  }
 ],
 "metadata": {
  "kernelspec": {
   "display_name": "Python 3 (ipykernel)",
   "language": "python",
   "name": "python3"
  },
  "language_info": {
   "codemirror_mode": {
    "name": "ipython",
    "version": 3
   },
   "file_extension": ".py",
   "mimetype": "text/x-python",
   "name": "python",
   "nbconvert_exporter": "python",
   "pygments_lexer": "ipython3",
   "version": "3.9.7"
  }
 },
 "nbformat": 4,
 "nbformat_minor": 5
}
