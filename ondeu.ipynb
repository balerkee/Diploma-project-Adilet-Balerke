{
 "cells": [
  {
   "cell_type": "markdown",
   "id": "d6ace267",
   "metadata": {
    "pycharm": {
     "name": "#%% md\n"
    }
   },
   "source": []
  },
  {
   "cell_type": "code",
   "execution_count": 1,
   "id": "2e4e72e7",
   "metadata": {
    "pycharm": {
     "name": "#%%\n"
    }
   },
   "outputs": [],
   "source": [
    "import numpy as np\n",
    "import pandas as pd\n",
    "\n",
    "\n",
    "usd = pd.read_csv('usd.csv', index_col='Date')\n",
    "eur = pd.read_csv('eur.csv', index_col='Date')\n",
    "br = pd.read_csv('br.csv', index_col='Date')\n",
    "\n",
    "def equalize(a, b, c):\n",
    "    for item in a.index:\n",
    "        if item not in b.index or item not in c.index:\n",
    "            a = a[item != a.index]\n",
    "            \n",
    "    return a\n",
    "\n",
    "usd = equalize(usd, br, eur)\n",
    "eur = equalize(eur, usd, br)\n",
    "br = equalize(br, usd, eur)\n",
    "    \n",
    "data = {'USD': [], 'EUR': [], 'BR': []}\n",
    "\n",
    "for i in range(len(br)):\n",
    "    data['USD'].append(usd.iloc[i]['Close'])\n",
    "    data['EUR'].append(eur.iloc[i]['Close'])\n",
    "    data['BR'].append(br.iloc[i]['Close'])\n",
    "\n",
    "\n",
    "\n",
    "data = pd.DataFrame(data)\n",
    "data.index = usd.index\n",
    "data.to_csv('currency.csv')"
   ]
  }
 ],
 "metadata": {
  "kernelspec": {
   "display_name": "Python 3 (ipykernel)",
   "language": "python",
   "name": "python3"
  },
  "language_info": {
   "codemirror_mode": {
    "name": "ipython",
    "version": 3
   },
   "file_extension": ".py",
   "mimetype": "text/x-python",
   "name": "python",
   "nbconvert_exporter": "python",
   "pygments_lexer": "ipython3",
   "version": "3.9.7"
  }
 },
 "nbformat": 4,
 "nbformat_minor": 5
}